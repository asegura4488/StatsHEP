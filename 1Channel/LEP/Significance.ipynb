{
 "cells": [
  {
   "cell_type": "code",
   "execution_count": 32,
   "id": "d17b15f9-5f2b-41eb-a526-3c8e9d697a2b",
   "metadata": {},
   "outputs": [],
   "source": [
    "import numpy as np\n",
    "import matplotlib.pyplot as plt\n",
    "import pandas as pd\n",
    "from matplotlib import rc\n",
    "import matplotlib.ticker as ticker\n",
    "from matplotlib import rc\n",
    "from scipy.stats import norm\n",
    "from scipy.special import factorial\n",
    "from tqdm import tqdm"
   ]
  },
  {
   "cell_type": "code",
   "execution_count": 54,
   "id": "a1d54bf7-ee41-4cfe-8100-d5aa4c92e25c",
   "metadata": {},
   "outputs": [],
   "source": [
    "# Matplotlib customize\n",
    "plt.rcParams['figure.figsize'] = [6,5]\n",
    "plt.rcParams['figure.dpi'] = 100\n",
    "\n",
    "plt.rcParams['axes.titlesize'] = 20\n",
    "plt.rcParams['axes.labelsize'] = 20\n",
    "\n",
    "plt.rcParams['lines.linewidth'] = 1.5\n",
    "plt.rcParams['lines.markersize'] = 4\n",
    "\n",
    "plt.rcParams['xtick.labelsize'] = 12\n",
    "plt.rcParams['ytick.labelsize'] = 12\n",
    "\n",
    "plt.rcParams['legend.fontsize'] = 12\n",
    "plt.rcParams['legend.markerscale'] = 1.5\n",
    "plt.rcParams['legend.borderpad'] = 0.6\n",
    "plt.rcParams['legend.framealpha'] = 0.7"
   ]
  },
  {
   "cell_type": "code",
   "execution_count": 55,
   "id": "501a42f6-6dbc-4c4e-8c8f-b9c8b18eba77",
   "metadata": {},
   "outputs": [
    {
     "data": {
      "text/html": [
       "<div>\n",
       "<style scoped>\n",
       "    .dataframe tbody tr th:only-of-type {\n",
       "        vertical-align: middle;\n",
       "    }\n",
       "\n",
       "    .dataframe tbody tr th {\n",
       "        vertical-align: top;\n",
       "    }\n",
       "\n",
       "    .dataframe thead th {\n",
       "        text-align: right;\n",
       "    }\n",
       "</style>\n",
       "<table border=\"1\" class=\"dataframe\">\n",
       "  <thead>\n",
       "    <tr style=\"text-align: right;\">\n",
       "      <th></th>\n",
       "      <th>n</th>\n",
       "      <th>b</th>\n",
       "      <th>s</th>\n",
       "    </tr>\n",
       "  </thead>\n",
       "  <tbody>\n",
       "    <tr>\n",
       "      <th>0</th>\n",
       "      <td>105</td>\n",
       "      <td>100</td>\n",
       "      <td>10</td>\n",
       "    </tr>\n",
       "  </tbody>\n",
       "</table>\n",
       "</div>"
      ],
      "text/plain": [
       "     n    b   s\n",
       "0  105  100  10"
      ]
     },
     "execution_count": 55,
     "metadata": {},
     "output_type": "execute_result"
    }
   ],
   "source": [
    "# Reading channels\n",
    "data = pd.read_csv('datos.csv',sep=',')\n",
    "# Para el calculo de la significancia el numero de observaciones se espera que sea\n",
    "# El numero de eventos de background + la señal y estamos buscando \n",
    "# Minimizar la probabilidad de en caso de observar s+b, no sea descrito por la hipotesis nula\n",
    "s = np.array(data.s)\n",
    "b = np.array(data.b)\n",
    "n = s+b\n",
    "N = n.shape[0]\n",
    "data"
   ]
  },
  {
   "cell_type": "code",
   "execution_count": 56,
   "id": "5dacbb42-b549-40eb-8a1d-1518106a942d",
   "metadata": {},
   "outputs": [
    {
     "data": {
      "text/plain": [
       "array([110])"
      ]
     },
     "execution_count": 56,
     "metadata": {},
     "output_type": "execute_result"
    }
   ],
   "source": [
    "# debe ser s+b\n",
    "n"
   ]
  },
  {
   "cell_type": "code",
   "execution_count": 57,
   "id": "95926e16-71c1-4e99-b6cd-2a7783f28bf5",
   "metadata": {},
   "outputs": [],
   "source": [
    "# Estimator definition\n",
    "def GetLnQ(n,b,s,mu):\n",
    "    return 2*(mu*s - n*np.log( 1 + (mu*s/b) ))"
   ]
  },
  {
   "cell_type": "code",
   "execution_count": 58,
   "id": "2b5e5f8f-5c78-462e-808f-26a927bc2e7b",
   "metadata": {},
   "outputs": [],
   "source": [
    "def GetJointLnQ(LnQ,mu,Null=True):\n",
    "\n",
    "    Q = 0.\n",
    "\n",
    "    for c in range(N):\n",
    "\n",
    "        if Null:\n",
    "            ntoy = np.random.poisson(b[c])\n",
    "        else:\n",
    "            ntoy = np.random.poisson( mu*s[c] + b[c] )\n",
    "\n",
    "        Q += LnQ(ntoy,b[c],s[c],mu)\n",
    "\n",
    "    return Q"
   ]
  },
  {
   "cell_type": "code",
   "execution_count": 59,
   "id": "cb5b1886-a69c-4cad-b30e-a02d61a08522",
   "metadata": {},
   "outputs": [],
   "source": [
    "def GetObsJointLnQ(LnQ,mu):\n",
    "\n",
    "    Q = 0.\n",
    "    \n",
    "    for c in range(N):\n",
    "            Q += LnQ( n[c], b[c], s[c], mu )\n",
    "\n",
    "    return Q"
   ]
  },
  {
   "cell_type": "code",
   "execution_count": 60,
   "id": "ec55861f-7ba9-43d5-8658-88f7ed94efe4",
   "metadata": {},
   "outputs": [
    {
     "data": {
      "text/plain": [
       "-0.9682395569514846"
      ]
     },
     "execution_count": 60,
     "metadata": {},
     "output_type": "execute_result"
    }
   ],
   "source": [
    "# Con significancia\n",
    "Qobs = GetObsJointLnQ(GetLnQ,1.0)\n",
    "Qobs"
   ]
  },
  {
   "cell_type": "code",
   "execution_count": 61,
   "id": "a5d21aaa-b15f-4fce-a57e-6b68c0da0133",
   "metadata": {},
   "outputs": [],
   "source": [
    "def Sampler(mu, Ntoys = int(5e5)):\n",
    "\n",
    "    q0 = np.zeros(Ntoys)\n",
    "    q1 = np.zeros(Ntoys)\n",
    "\n",
    "    for i in range(Ntoys):\n",
    "        q0[i] = GetJointLnQ(GetLnQ, mu)  #H0\n",
    "        q1[i] = GetJointLnQ(GetLnQ, mu, Null = False) #H1\n",
    "    \n",
    "    return q0,q1"
   ]
  },
  {
   "cell_type": "code",
   "execution_count": 62,
   "id": "08f49a97-8614-4527-9aff-ec115e38f431",
   "metadata": {},
   "outputs": [],
   "source": [
    "q0,q1 =  Sampler(1.)"
   ]
  },
  {
   "cell_type": "code",
   "execution_count": 63,
   "id": "7b8d7369-75e7-44f9-b26a-038b81b7044b",
   "metadata": {},
   "outputs": [
    {
     "data": {
      "text/plain": [
       "<matplotlib.lines.Line2D at 0x7e083c1f3610>"
      ]
     },
     "execution_count": 63,
     "metadata": {},
     "output_type": "execute_result"
    },
    {
     "data": {
      "image/png": "[encoded data removed]",
      "text/plain": [
       "<Figure size 600x500 with 1 Axes>"
      ]
     },
     "metadata": {},
     "output_type": "display_data"
    }
   ],
   "source": [
    "plt.hist(q0)\n",
    "plt.hist(q1)\n",
    "plt.axvline(x=Qobs,color='k')\n",
    "#plt.yscale('log')"
   ]
  },
  {
   "cell_type": "code",
   "execution_count": 64,
   "id": "7789636b-ee64-4967-89fc-915ee78b6fc8",
   "metadata": {},
   "outputs": [],
   "source": [
    "def GetPValue(data,Qobs, Null = True):\n",
    "\n",
    "    if Null:\n",
    "        count_below_threshold = np.sum( data <= Qobs )\n",
    "        p_value = count_below_threshold/data.shape[0]\n",
    "\n",
    "    else:\n",
    "        count_above_threshold = np.sum( data >= Qobs )\n",
    "        p_value = count_above_threshold / data.shape[0]\n",
    "\n",
    "    return p_value"
   ]
  },
  {
   "cell_type": "code",
   "execution_count": 65,
   "id": "5c819044-f4af-4cd5-aa58-8cfbd1e3a8b6",
   "metadata": {},
   "outputs": [
    {
     "name": "stdout",
     "output_type": "stream",
     "text": [
      "0.170532 0.524906\n"
     ]
    }
   ],
   "source": [
    "p0 = GetPValue(q0,Qobs,Null = True)\n",
    "p1 = GetPValue(q1,Qobs,Null = False)\n",
    "print(p0,p1)"
   ]
  },
  {
   "cell_type": "code",
   "execution_count": 66,
   "id": "e915eaac-e652-4118-994b-6c9d71097ab3",
   "metadata": {},
   "outputs": [
    {
     "data": {
      "text/plain": [
       "0.952065035459802"
      ]
     },
     "execution_count": 66,
     "metadata": {},
     "output_type": "execute_result"
    }
   ],
   "source": [
    "Significancia = np.abs(norm.ppf(p0))\n",
    "Significancia"
   ]
  },
  {
   "cell_type": "code",
   "execution_count": 67,
   "id": "9cb2f61e-9662-44ed-86d3-f406b3d897e1",
   "metadata": {},
   "outputs": [
    {
     "data": {
      "text/plain": [
       "0.9534625892455924"
      ]
     },
     "execution_count": 67,
     "metadata": {},
     "output_type": "execute_result"
    }
   ],
   "source": [
    "# Deberia ser similiar a \n",
    "S = np.sum(s)\n",
    "B = np.sum(b)\n",
    "S/np.sqrt(B+S)"
   ]
  },
  {
   "cell_type": "code",
   "execution_count": null,
   "id": "af56b097-3087-4ab5-b3e3-c54beed67d5a",
   "metadata": {},
   "outputs": [],
   "source": []
  },
  {
   "cell_type": "code",
   "execution_count": null,
   "id": "53c4a775-afe0-4933-8333-9412caf2ea07",
   "metadata": {},
   "outputs": [],
   "source": []
  },
  {
   "cell_type": "code",
   "execution_count": null,
   "id": "20a17768-ca1e-4786-8b56-fcc448f90790",
   "metadata": {},
   "outputs": [],
   "source": []
  }
 ],
 "metadata": {
  "kernelspec": {
   "display_name": "Python 3 (ipykernel)",
   "language": "python",
   "name": "python3"
  },
  "language_info": {
   "codemirror_mode": {
    "name": "ipython",
    "version": 3
   },
   "file_extension": ".py",
   "mimetype": "text/x-python",
   "name": "python",
   "nbconvert_exporter": "python",
   "pygments_lexer": "ipython3",
   "version": "3.11.5"
  }
 },
 "nbformat": 4,
 "nbformat_minor": 5
}
