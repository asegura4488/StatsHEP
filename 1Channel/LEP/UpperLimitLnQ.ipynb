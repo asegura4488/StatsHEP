{
 "cells": [
  {
   "cell_type": "code",
   "execution_count": null,
   "id": "38f7ef6f-84e4-4fcb-b705-1f6ce1da938b",
   "metadata": {},
   "outputs": [],
   "source": [
    "import numpy as np\n",
    "import matplotlib.pyplot as plt\n",
    "import pandas as pd\n",
    "from matplotlib import rc\n",
    "import matplotlib.ticker as ticker\n",
    "from matplotlib import rc\n",
    "import scipy.integrate as integrate\n",
    "from scipy.special import factorial\n",
    "from tqdm import tqdm"
   ]
  },
  {
   "cell_type": "code",
   "execution_count": null,
   "id": "f45085f3-27ce-4698-8fd4-4c91f1e31ef2",
   "metadata": {},
   "outputs": [],
   "source": [
    "# Matplotlib customize\n",
    "plt.rcParams['figure.figsize'] = [6,5]\n",
    "plt.rcParams['figure.dpi'] = 100\n",
    "\n",
    "plt.rcParams['axes.titlesize'] = 20\n",
    "plt.rcParams['axes.labelsize'] = 20\n",
    "\n",
    "plt.rcParams['lines.linewidth'] = 1.5\n",
    "plt.rcParams['lines.markersize'] = 4\n",
    "\n",
    "plt.rcParams['xtick.labelsize'] = 12\n",
    "plt.rcParams['ytick.labelsize'] = 12\n",
    "\n",
    "plt.rcParams['legend.fontsize'] = 12\n",
    "plt.rcParams['legend.markerscale'] = 1.5\n",
    "plt.rcParams['legend.borderpad'] = 0.6\n",
    "plt.rcParams['legend.framealpha'] = 0.7"
   ]
  },
  {
   "cell_type": "code",
   "execution_count": null,
   "id": "10744087-488a-414b-aeff-82bc1f84c33c",
   "metadata": {},
   "outputs": [],
   "source": [
    "# Reading channels\n",
    "data = pd.read_csv('datos.csv',sep=',')\n",
    "n = np.array(data.n)\n",
    "b = np.array(data.b)\n",
    "s = np.array(data.s)\n",
    "N = n.shape[0]\n",
    "data"
   ]
  },
  {
   "cell_type": "code",
   "execution_count": null,
   "id": "9b379612-724e-493c-9229-c57739659f3e",
   "metadata": {},
   "outputs": [],
   "source": [
    "# Estimator definition\n",
    "def GetLnQ(n,b,s,mu):\n",
    "    return 2*(mu*s - n*np.log( 1 + (mu*s/b) ))"
   ]
  },
  {
   "cell_type": "code",
   "execution_count": null,
   "id": "a4b807b3-5754-48b1-920b-111f762a4277",
   "metadata": {},
   "outputs": [],
   "source": [
    "def GetJointLnQ(LnQ,mu,Null=True):\n",
    "\n",
    "    Q = 0.\n",
    "\n",
    "    for c in range(N):\n",
    "\n",
    "        if Null:\n",
    "            ntoy = np.random.poisson(b[c])\n",
    "        else:\n",
    "            ntoy = np.random.poisson( mu*s[c] + b[c] )\n",
    "\n",
    "        Q += LnQ(ntoy,b[c],s[c],mu)\n",
    "\n",
    "    return Q"
   ]
  },
  {
   "cell_type": "code",
   "execution_count": null,
   "id": "64ff7b7c-c679-4747-95b9-485c662c76e5",
   "metadata": {},
   "outputs": [],
   "source": [
    "def GetObsJointLnQ(LnQ,mu,Expected = True):\n",
    "\n",
    "    Q = 0.\n",
    "    # The observed LnQ is defined for mu == 1!!!!\n",
    "    \n",
    "    for c in range(N):\n",
    "\n",
    "        if Expected: # Observed events are the expected background\n",
    "            Q += LnQ( b[c], b[c], s[c], mu )\n",
    "        else:\n",
    "            Q += LnQ( n[c], b[c], s[c], mu )\n",
    "\n",
    "    return Q"
   ]
  },
  {
   "cell_type": "code",
   "execution_count": null,
   "id": "dd5dd2e1-824b-4b90-b288-1cc5a67ea92f",
   "metadata": {},
   "outputs": [],
   "source": [
    "GetJointLnQ(GetLnQ,0.2)"
   ]
  },
  {
   "cell_type": "code",
   "execution_count": null,
   "id": "8d20d63a-3929-4ca2-aeb2-6d3529bbbded",
   "metadata": {},
   "outputs": [],
   "source": [
    "# The observed LnQ\n",
    "Qobs = GetObsJointLnQ(GetLnQ,1.0,Expected=True)\n",
    "Qobs"
   ]
  },
  {
   "cell_type": "code",
   "execution_count": null,
   "id": "ddb17238-a0c2-4e51-be5f-a1249bf73c57",
   "metadata": {},
   "outputs": [],
   "source": [
    "def Sampler(mu, Ntoys = int(2e4)):\n",
    "\n",
    "    q0 = np.zeros(Ntoys)\n",
    "    q1 = np.zeros(Ntoys)\n",
    "\n",
    "    for i in range(Ntoys):\n",
    "        q0[i] = GetJointLnQ(GetLnQ, mu)  #H0\n",
    "        q1[i] = GetJointLnQ(GetLnQ, mu, Null = False) #H1\n",
    "\n",
    "    \n",
    "    return q0,q1"
   ]
  },
  {
   "cell_type": "code",
   "execution_count": null,
   "id": "0a48c99a-5868-4ae9-8308-ddcea8b663ce",
   "metadata": {},
   "outputs": [],
   "source": [
    "q0,q1 =  Sampler(1.3)"
   ]
  },
  {
   "cell_type": "code",
   "execution_count": null,
   "id": "a21f4cf4-304b-4172-b1f8-52d20ddb33c0",
   "metadata": {},
   "outputs": [],
   "source": [
    "plt.hist(q0)\n",
    "plt.hist(q1)\n",
    "plt.axvline(x=Qobs,color='k')\n",
    "#plt.yscale('log')"
   ]
  },
  {
   "cell_type": "code",
   "execution_count": null,
   "id": "fa6f22ec-f8b9-4313-9727-ef5745aaddc4",
   "metadata": {},
   "outputs": [],
   "source": [
    "def GetPValue(data,Qobs,Null = True):\n",
    "\n",
    "    if Null:\n",
    "        count_below_threshold = np.sum( data <= Qobs )\n",
    "        p_value = count_below_threshold/data.shape[0]\n",
    "\n",
    "    else:\n",
    "        count_above_threshold = np.sum( data >= Qobs )\n",
    "        p_value = count_above_threshold / data.shape[0]\n",
    "\n",
    "    return p_value"
   ]
  },
  {
   "cell_type": "code",
   "execution_count": null,
   "id": "c3c11dbc-d34b-4f8f-a594-2545cb931a81",
   "metadata": {},
   "outputs": [],
   "source": [
    "GetPValue(q1,Qobs,Null = False)"
   ]
  },
  {
   "cell_type": "code",
   "execution_count": null,
   "id": "fe22a2f6-e245-45a6-8264-223a562cc76e",
   "metadata": {},
   "outputs": [],
   "source": [
    "GetPValue(q0,Qobs,Null = True)"
   ]
  },
  {
   "cell_type": "code",
   "execution_count": null,
   "id": "f9373d9f-403a-40b1-831b-f26251328424",
   "metadata": {},
   "outputs": [],
   "source": [
    "mu = np.linspace(1.0,4.0,10)"
   ]
  },
  {
   "cell_type": "code",
   "execution_count": null,
   "id": "7b832a1c-b163-4528-8136-dc8ff70884d4",
   "metadata": {},
   "outputs": [],
   "source": [
    "# p-value scan\n",
    "def GetCls(mu,Expected=True):\n",
    "\n",
    "    p_value = np.zeros_like(mu)\n",
    "\n",
    "    for i in tqdm(range(mu.shape[0])):\n",
    "\n",
    "        Qobs = GetObsJointLnQ(GetLnQ,1.0,Expected)\n",
    "        q0,q1 = Sampler(mu[i])\n",
    "\n",
    "        p0 = GetPValue(q0,Qobs,Null = True)\n",
    "        p1 = GetPValue(q1,Qobs,Null = False)\n",
    "\n",
    "        if p0 == 1:\n",
    "            print('Problema con este valor:', mu[i])\n",
    "            pmu = p1 \n",
    "        else:\n",
    "            pmu = p1 / ( 1. - p0)\n",
    "\n",
    "        p_value[i] = pmu\n",
    "\n",
    "    return p_value"
   ]
  },
  {
   "cell_type": "code",
   "execution_count": null,
   "id": "4f686363-6ea4-4f05-a15e-f1cd3cb2d731",
   "metadata": {},
   "outputs": [],
   "source": [
    "p_value = GetCls(mu)"
   ]
  },
  {
   "cell_type": "code",
   "execution_count": null,
   "id": "9ae6cf62-1255-4cda-862c-e522b392dd4c",
   "metadata": {},
   "outputs": [],
   "source": [
    "plt.plot(mu,p_value)\n",
    "plt.axhline(y=0.05,ls='--',color='r')"
   ]
  },
  {
   "cell_type": "code",
   "execution_count": null,
   "id": "a1ce410c-25d0-4f8b-a91c-8b98c4c7ea2f",
   "metadata": {},
   "outputs": [],
   "source": []
  }
 ],
 "metadata": {
  "kernelspec": {
   "display_name": "Python 3 (ipykernel)",
   "language": "python",
   "name": "python3"
  },
  "language_info": {
   "codemirror_mode": {
    "name": "ipython",
    "version": 3
   },
   "file_extension": ".py",
   "mimetype": "text/x-python",
   "name": "python",
   "nbconvert_exporter": "python",
   "pygments_lexer": "ipython3",
   "version": "3.11.5"
  }
 },
 "nbformat": 4,
 "nbformat_minor": 5
}
