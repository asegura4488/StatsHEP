{
 "cells": [
  {
   "cell_type": "code",
   "execution_count": 1,
   "id": "38f7ef6f-84e4-4fcb-b705-1f6ce1da938b",
   "metadata": {},
   "outputs": [],
   "source": [
    "import numpy as np\n",
    "import matplotlib.pyplot as plt\n",
    "import pandas as pd\n",
    "from matplotlib import rc\n",
    "import matplotlib.ticker as ticker\n",
    "from matplotlib import rc\n",
    "from scipy.stats import norm\n",
    "from scipy.special import factorial\n",
    "from tqdm import tqdm"
   ]
  },
  {
   "cell_type": "code",
   "execution_count": 29,
   "id": "f45085f3-27ce-4698-8fd4-4c91f1e31ef2",
   "metadata": {},
   "outputs": [],
   "source": [
    "# Matplotlib customize\n",
    "plt.rcParams['figure.figsize'] = [6,5]\n",
    "plt.rcParams['figure.dpi'] = 100\n",
    "\n",
    "plt.rcParams['axes.titlesize'] = 20\n",
    "plt.rcParams['axes.labelsize'] = 20\n",
    "\n",
    "plt.rcParams['lines.linewidth'] = 1.5\n",
    "plt.rcParams['lines.markersize'] = 4\n",
    "\n",
    "plt.rcParams['xtick.labelsize'] = 12\n",
    "plt.rcParams['ytick.labelsize'] = 12\n",
    "\n",
    "plt.rcParams['legend.fontsize'] = 12\n",
    "plt.rcParams['legend.markerscale'] = 1.5\n",
    "plt.rcParams['legend.borderpad'] = 0.6\n",
    "plt.rcParams['legend.framealpha'] = 0.7"
   ]
  },
  {
   "cell_type": "code",
   "execution_count": 30,
   "id": "10744087-488a-414b-aeff-82bc1f84c33c",
   "metadata": {},
   "outputs": [
    {
     "data": {
      "text/html": [
       "<div>\n",
       "<style scoped>\n",
       "    .dataframe tbody tr th:only-of-type {\n",
       "        vertical-align: middle;\n",
       "    }\n",
       "\n",
       "    .dataframe tbody tr th {\n",
       "        vertical-align: top;\n",
       "    }\n",
       "\n",
       "    .dataframe thead th {\n",
       "        text-align: right;\n",
       "    }\n",
       "</style>\n",
       "<table border=\"1\" class=\"dataframe\">\n",
       "  <thead>\n",
       "    <tr style=\"text-align: right;\">\n",
       "      <th></th>\n",
       "      <th>n</th>\n",
       "      <th>b</th>\n",
       "      <th>s</th>\n",
       "    </tr>\n",
       "  </thead>\n",
       "  <tbody>\n",
       "    <tr>\n",
       "      <th>0</th>\n",
       "      <td>105</td>\n",
       "      <td>100</td>\n",
       "      <td>10</td>\n",
       "    </tr>\n",
       "  </tbody>\n",
       "</table>\n",
       "</div>"
      ],
      "text/plain": [
       "     n    b   s\n",
       "0  105  100  10"
      ]
     },
     "execution_count": 30,
     "metadata": {},
     "output_type": "execute_result"
    }
   ],
   "source": [
    "# Reading channels\n",
    "data = pd.read_csv('datos.csv',sep=',')\n",
    "n = np.array(data.n)\n",
    "b = np.array(data.b)\n",
    "s = np.array(data.s)\n",
    "N = n.shape[0]\n",
    "data"
   ]
  },
  {
   "cell_type": "code",
   "execution_count": 31,
   "id": "9b379612-724e-493c-9229-c57739659f3e",
   "metadata": {},
   "outputs": [],
   "source": [
    "# Estimator definition\n",
    "def GetLnQ(n,b,s,mu):\n",
    "    return 2*(mu*s - n*np.log( 1 + (mu*s/b) ))"
   ]
  },
  {
   "cell_type": "code",
   "execution_count": 32,
   "id": "a4b807b3-5754-48b1-920b-111f762a4277",
   "metadata": {},
   "outputs": [],
   "source": [
    "def GetJointLnQ(LnQ,mu,Null=True):\n",
    "\n",
    "    Q = 0.\n",
    "\n",
    "    for c in range(N):\n",
    "\n",
    "        if Null:\n",
    "            ntoy = np.random.poisson(b[c])\n",
    "        else:\n",
    "            ntoy = np.random.poisson( mu*s[c] + b[c] )\n",
    "\n",
    "        Q += LnQ(ntoy,b[c],s[c],mu)\n",
    "\n",
    "    return Q"
   ]
  },
  {
   "cell_type": "code",
   "execution_count": 33,
   "id": "64ff7b7c-c679-4747-95b9-485c662c76e5",
   "metadata": {},
   "outputs": [],
   "source": [
    "def GetObsJointLnQ(LnQ,mu,Expected = True):\n",
    "\n",
    "    Q = 0.\n",
    "    \n",
    "    for c in range(N):\n",
    "\n",
    "        if Expected: # Observed events are the expected background\n",
    "            Q += LnQ( b[c], b[c], s[c], mu )\n",
    "        else:\n",
    "            Q += LnQ( n[c], b[c], s[c], mu )\n",
    "\n",
    "    return Q"
   ]
  },
  {
   "cell_type": "code",
   "execution_count": 34,
   "id": "8d20d63a-3929-4ca2-aeb2-6d3529bbbded",
   "metadata": {},
   "outputs": [
    {
     "data": {
      "text/plain": [
       "-0.0151377589082351"
      ]
     },
     "execution_count": 34,
     "metadata": {},
     "output_type": "execute_result"
    }
   ],
   "source": [
    "# The observed LnQ\n",
    "Qobs = GetObsJointLnQ(GetLnQ,1.0,Expected=False)\n",
    "Qobs"
   ]
  },
  {
   "cell_type": "code",
   "execution_count": 35,
   "id": "ddb17238-a0c2-4e51-be5f-a1249bf73c57",
   "metadata": {},
   "outputs": [],
   "source": [
    "def Sampler(mu, Ntoys = int(5e4)):\n",
    "\n",
    "    q0 = np.zeros(Ntoys)\n",
    "    q1 = np.zeros(Ntoys)\n",
    "\n",
    "    for i in range(Ntoys):\n",
    "        q0[i] = GetJointLnQ(GetLnQ, mu)  #H0\n",
    "        q1[i] = GetJointLnQ(GetLnQ, mu, Null = False) #H1\n",
    "    \n",
    "    return q0,q1"
   ]
  },
  {
   "cell_type": "code",
   "execution_count": 36,
   "id": "0a48c99a-5868-4ae9-8308-ddcea8b663ce",
   "metadata": {},
   "outputs": [],
   "source": [
    "q0,q1 =  Sampler(1.)"
   ]
  },
  {
   "cell_type": "code",
   "execution_count": 37,
   "id": "a21f4cf4-304b-4172-b1f8-52d20ddb33c0",
   "metadata": {},
   "outputs": [
    {
     "data": {
      "text/plain": [
       "<matplotlib.lines.Line2D at 0x7b5ddbca0410>"
      ]
     },
     "execution_count": 37,
     "metadata": {},
     "output_type": "execute_result"
    },
    {
     "data": {
      "image/png": "[encoded data removed]",
      "text/plain": [
       "<Figure size 600x500 with 1 Axes>"
      ]
     },
     "metadata": {},
     "output_type": "display_data"
    }
   ],
   "source": [
    "plt.hist(q0)\n",
    "plt.hist(q1)\n",
    "plt.axvline(x=Qobs,color='k')\n",
    "#plt.yscale('log')"
   ]
  },
  {
   "cell_type": "code",
   "execution_count": 38,
   "id": "fa6f22ec-f8b9-4313-9727-ef5745aaddc4",
   "metadata": {},
   "outputs": [],
   "source": [
    "def GetPValue(data,Qobs, Null = True):\n",
    "\n",
    "    if Null:\n",
    "        count_below_threshold = np.sum( data <= Qobs )\n",
    "        p_value = count_below_threshold/data.shape[0]\n",
    "\n",
    "    else:\n",
    "        count_above_threshold = np.sum( data >= Qobs )\n",
    "        p_value = count_above_threshold / data.shape[0]\n",
    "\n",
    "    return p_value"
   ]
  },
  {
   "cell_type": "code",
   "execution_count": 39,
   "id": "c3c11dbc-d34b-4f8f-a594-2545cb931a81",
   "metadata": {},
   "outputs": [
    {
     "name": "stdout",
     "output_type": "stream",
     "text": [
      "0.3228 0.33666\n"
     ]
    }
   ],
   "source": [
    "p0 = GetPValue(q0,Qobs,Null = True)\n",
    "p1 = GetPValue(q1,Qobs,Null = False)\n",
    "print(p0,p1)"
   ]
  },
  {
   "cell_type": "code",
   "execution_count": 40,
   "id": "17cdd7c4-69ae-4c21-b7c1-4435a45f7d3f",
   "metadata": {},
   "outputs": [
    {
     "name": "stdout",
     "output_type": "stream",
     "text": [
      "0.6772 0.33666\n"
     ]
    }
   ],
   "source": [
    "Clsb = p1\n",
    "Clb = 1 - p0\n",
    "print(Clb,Clsb)"
   ]
  },
  {
   "cell_type": "code",
   "execution_count": 41,
   "id": "fe22a2f6-e245-45a6-8264-223a562cc76e",
   "metadata": {},
   "outputs": [
    {
     "data": {
      "text/plain": [
       "0.49713526284701715"
      ]
     },
     "execution_count": 41,
     "metadata": {},
     "output_type": "execute_result"
    }
   ],
   "source": [
    "Cls = Clsb/Clb\n",
    "Cls"
   ]
  },
  {
   "cell_type": "code",
   "execution_count": 42,
   "id": "7b832a1c-b163-4528-8136-dc8ff70884d4",
   "metadata": {},
   "outputs": [],
   "source": [
    "# p-value scan\n",
    "def GetCls(mu,Expected=False):\n",
    "\n",
    "    p_value = np.zeros_like(mu)\n",
    "\n",
    "    for i in tqdm(range(mu.shape[0])):\n",
    "\n",
    "        Qobs = GetObsJointLnQ(GetLnQ,mu[i],Expected)\n",
    "        q0,q1 = Sampler(mu[i])\n",
    "\n",
    "        p0 = GetPValue(q0,Qobs,Null = True)\n",
    "        p1 = GetPValue(q1,Qobs,Null = False)\n",
    "\n",
    "        Clb = 1 - p0\n",
    "        Clsb = p1\n",
    "        \n",
    "        Clsb = Clsb/Clb\n",
    "\n",
    "        p_value[i] = Clsb\n",
    "\n",
    "    return p_value"
   ]
  },
  {
   "cell_type": "code",
   "execution_count": 43,
   "id": "4f686363-6ea4-4f05-a15e-f1cd3cb2d731",
   "metadata": {},
   "outputs": [
    {
     "name": "stderr",
     "output_type": "stream",
     "text": [
      "100%|█████████████████████████████████████████████████████████████████████████████████████████████| 30/30 [00:07<00:00,  3.81it/s]\n",
      "100%|█████████████████████████████████████████████████████████████████████████████████████████████| 30/30 [00:08<00:00,  3.67it/s]\n"
     ]
    }
   ],
   "source": [
    "mu = np.linspace(0.5,3,30)\n",
    "Op_value = GetCls(mu,Expected=False)\n",
    "Ep_value = GetCls(mu,Expected=True)"
   ]
  },
  {
   "cell_type": "code",
   "execution_count": 44,
   "id": "317c745f-6a38-457c-a4f0-3f54c2fcee2d",
   "metadata": {},
   "outputs": [],
   "source": [
    "# Upper limit\n",
    "def GetUpperLimit(mu,Cls,alpha = 0.05):\n",
    "\n",
    "    i = np.where( Cls <= alpha )\n",
    "\n",
    "    if len(i[0]) == 0:\n",
    "        print('--- Cls is never less than alpha --- ')\n",
    "        return 0.\n",
    "    else:\n",
    "        i = i[0][0]\n",
    "\n",
    "    # Saving the indez where pvalues is less than the critical value\n",
    "\n",
    "    x0 = mu[i-1]\n",
    "    x1 = mu[i]\n",
    "    fx0 = Cls[i-1]\n",
    "    fx1 = Cls[i]\n",
    "\n",
    "    # Compute the slope\n",
    "    m = (fx1-fx0)/(x1-x0)\n",
    "\n",
    "    if m == 0:\n",
    "        print('--- Problem with the scan ---')\n",
    "        return 0.\n",
    "\n",
    "    # 1D Polynomial interpolation\n",
    "    mup = (alpha - fx0)/m + x0\n",
    "\n",
    "    return mup"
   ]
  },
  {
   "cell_type": "code",
   "execution_count": 45,
   "id": "cc1b9b7f-e303-44e3-8c0e-3ef69965dc5c",
   "metadata": {},
   "outputs": [
    {
     "data": {
      "text/plain": [
       "2.170163204321095"
      ]
     },
     "execution_count": 45,
     "metadata": {},
     "output_type": "execute_result"
    }
   ],
   "source": [
    "ExpectedLimit = GetUpperLimit(mu,Ep_value)\n",
    "ExpectedLimit"
   ]
  },
  {
   "cell_type": "code",
   "execution_count": 46,
   "id": "486b9071-2ea9-472a-a38d-fafc537fdfa4",
   "metadata": {},
   "outputs": [
    {
     "data": {
      "text/plain": [
       "2.5534447479090563"
      ]
     },
     "execution_count": 46,
     "metadata": {},
     "output_type": "execute_result"
    }
   ],
   "source": [
    "ObservedLimit = GetUpperLimit(mu,Op_value)\n",
    "ObservedLimit"
   ]
  },
  {
   "cell_type": "code",
   "execution_count": 47,
   "id": "9ae6cf62-1255-4cda-862c-e522b392dd4c",
   "metadata": {},
   "outputs": [
    {
     "data": {
      "image/png": "[encoded data removed]",
      "text/plain": [
       "<Figure size 600x500 with 1 Axes>"
      ]
     },
     "metadata": {},
     "output_type": "display_data"
    }
   ],
   "source": [
    "fig = plt.figure()\n",
    "ax = fig.add_subplot(1,1,1)\n",
    "\n",
    "ax.plot(mu,Op_value,color='k',marker='o',label='Observed CLs')\n",
    "ax.plot(mu,Ep_value,'--',color='b',marker='o',label='Expected CLs')\n",
    "\n",
    "ax.axhline(y=0.05,ls='--',color='r')\n",
    "\n",
    "# Label X\n",
    "ax.set_xlabel(r'$\\mu$')\n",
    "ax.xaxis.set_label_coords(0.95,-0.1)\n",
    "ax.set_xlim(mu[0],mu[-1])\n",
    "\n",
    "# Label Y\n",
    "ax.set_ylabel(r'$Pvalue$')\n",
    "ax.yaxis.set_label_coords(-0.1,0.85)\n",
    "\n",
    "# Ajustar los márgenes automáticamente\n",
    "plt.tight_layout()\n",
    "\n",
    "#Legend\n",
    "ax.legend(loc='upper right',bbox_to_anchor=(1,1),ncol=1,title='')\n",
    "\n",
    "#\n",
    "plt.savefig('UpperLimit_Scan.pdf')"
   ]
  },
  {
   "cell_type": "code",
   "execution_count": 48,
   "id": "a1ce410c-25d0-4f8b-a91c-8b98c4c7ea2f",
   "metadata": {},
   "outputs": [],
   "source": [
    "# Distribution"
   ]
  },
  {
   "cell_type": "code",
   "execution_count": 49,
   "id": "35052b9d-9cea-4ce2-86d9-aa0e472c32a1",
   "metadata": {},
   "outputs": [],
   "source": [
    "Qobs = GetObsJointLnQ(GetLnQ,ObservedLimit,Expected=False)\n",
    "q0,q1 =  Sampler(ObservedLimit)"
   ]
  },
  {
   "cell_type": "code",
   "execution_count": 50,
   "id": "99c62ff3-228d-4b3d-b8da-0af6e2dbe664",
   "metadata": {},
   "outputs": [
    {
     "data": {
      "image/png": "[encoded data removed]",
      "text/plain": [
       "<Figure size 600x500 with 1 Axes>"
      ]
     },
     "metadata": {},
     "output_type": "display_data"
    }
   ],
   "source": [
    "fig = plt.figure()\n",
    "ax = fig.add_subplot(1,1,1)\n",
    "ax.hist(q0,bins=45,color='green',density=True,label=r'$f(\\mathcal{Q};0)$')\n",
    "ax.hist(q1,bins=45,color='yellow',density=True,label=r'$f(\\mathcal{Q};\\mu)$')\n",
    "ax.axvline(x=Qobs,color='k',label=r'$\\mathcal{Q}_{Obs}$')\n",
    "\n",
    "# Label X\n",
    "ax.set_xlabel(r'$\\mathcal{Q}$')\n",
    "ax.xaxis.set_label_coords(0.95,-0.05)\n",
    "\n",
    "# Label Y\n",
    "ax.set_ylabel(r'$f(\\mathcal{Q})$')\n",
    "ax.yaxis.set_label_coords(-0.12,0.85)\n",
    "\n",
    "# Ajustar los márgenes automáticamente\n",
    "plt.tight_layout()\n",
    "\n",
    "#Legend\n",
    "ax.legend(loc='upper right',bbox_to_anchor=(1,1),ncol=1,title='')\n",
    "\n",
    "#\n",
    "plt.savefig('Distribution_Q.pdf')"
   ]
  },
  {
   "cell_type": "code",
   "execution_count": null,
   "id": "bd68025c-733b-49fb-ae85-02344cc4b199",
   "metadata": {},
   "outputs": [],
   "source": []
  },
  {
   "cell_type": "code",
   "execution_count": null,
   "id": "79cdde2d-9ad3-4b78-bcf5-f9d7dd625e4d",
   "metadata": {},
   "outputs": [],
   "source": []
  }
 ],
 "metadata": {
  "kernelspec": {
   "display_name": "Python 3 (ipykernel)",
   "language": "python",
   "name": "python3"
  },
  "language_info": {
   "codemirror_mode": {
    "name": "ipython",
    "version": 3
   },
   "file_extension": ".py",
   "mimetype": "text/x-python",
   "name": "python",
   "nbconvert_exporter": "python",
   "pygments_lexer": "ipython3",
   "version": "3.11.5"
  }
 },
 "nbformat": 4,
 "nbformat_minor": 5
}
