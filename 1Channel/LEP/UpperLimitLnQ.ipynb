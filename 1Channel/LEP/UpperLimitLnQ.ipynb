{
 "cells": [
  {
   "cell_type": "code",
   "execution_count": 442,
   "id": "38f7ef6f-84e4-4fcb-b705-1f6ce1da938b",
   "metadata": {},
   "outputs": [],
   "source": [
    "import numpy as np\n",
    "import matplotlib.pyplot as plt\n",
    "import pandas as pd\n",
    "from matplotlib import rc\n",
    "import matplotlib.ticker as ticker\n",
    "from matplotlib import rc\n",
    "from scipy.stats import norm\n",
    "from scipy.special import factorial\n",
    "from tqdm import tqdm"
   ]
  },
  {
   "cell_type": "code",
   "execution_count": 483,
   "id": "f45085f3-27ce-4698-8fd4-4c91f1e31ef2",
   "metadata": {},
   "outputs": [],
   "source": [
    "# Matplotlib customize\n",
    "plt.rcParams['figure.figsize'] = [6,5]\n",
    "plt.rcParams['figure.dpi'] = 100\n",
    "\n",
    "plt.rcParams['axes.titlesize'] = 20\n",
    "plt.rcParams['axes.labelsize'] = 20\n",
    "\n",
    "plt.rcParams['lines.linewidth'] = 1.5\n",
    "plt.rcParams['lines.markersize'] = 4\n",
    "\n",
    "plt.rcParams['xtick.labelsize'] = 12\n",
    "plt.rcParams['ytick.labelsize'] = 12\n",
    "\n",
    "plt.rcParams['legend.fontsize'] = 12\n",
    "plt.rcParams['legend.markerscale'] = 1.5\n",
    "plt.rcParams['legend.borderpad'] = 0.6\n",
    "plt.rcParams['legend.framealpha'] = 0.7"
   ]
  },
  {
   "cell_type": "code",
   "execution_count": 527,
   "id": "10744087-488a-414b-aeff-82bc1f84c33c",
   "metadata": {},
   "outputs": [
    {
     "data": {
      "text/html": [
       "<div>\n",
       "<style scoped>\n",
       "    .dataframe tbody tr th:only-of-type {\n",
       "        vertical-align: middle;\n",
       "    }\n",
       "\n",
       "    .dataframe tbody tr th {\n",
       "        vertical-align: top;\n",
       "    }\n",
       "\n",
       "    .dataframe thead th {\n",
       "        text-align: right;\n",
       "    }\n",
       "</style>\n",
       "<table border=\"1\" class=\"dataframe\">\n",
       "  <thead>\n",
       "    <tr style=\"text-align: right;\">\n",
       "      <th></th>\n",
       "      <th>n</th>\n",
       "      <th>b</th>\n",
       "      <th>s</th>\n",
       "    </tr>\n",
       "  </thead>\n",
       "  <tbody>\n",
       "    <tr>\n",
       "      <th>0</th>\n",
       "      <td>105</td>\n",
       "      <td>100</td>\n",
       "      <td>10</td>\n",
       "    </tr>\n",
       "  </tbody>\n",
       "</table>\n",
       "</div>"
      ],
      "text/plain": [
       "     n    b   s\n",
       "0  105  100  10"
      ]
     },
     "execution_count": 527,
     "metadata": {},
     "output_type": "execute_result"
    }
   ],
   "source": [
    "# Reading channels\n",
    "data = pd.read_csv('datos.csv',sep=',')\n",
    "n = np.array(data.n)\n",
    "b = np.array(data.b)\n",
    "s = np.array(data.s)\n",
    "N = n.shape[0]\n",
    "data"
   ]
  },
  {
   "cell_type": "code",
   "execution_count": 528,
   "id": "9b379612-724e-493c-9229-c57739659f3e",
   "metadata": {},
   "outputs": [],
   "source": [
    "# Estimator definition\n",
    "def GetLnQ(n,b,s,mu):\n",
    "    return 2*(mu*s - n*np.log( 1 + (mu*s/b) ))"
   ]
  },
  {
   "cell_type": "code",
   "execution_count": 529,
   "id": "a4b807b3-5754-48b1-920b-111f762a4277",
   "metadata": {},
   "outputs": [],
   "source": [
    "def GetJointLnQ(LnQ,mu,Null=True):\n",
    "\n",
    "    Q = 0.\n",
    "\n",
    "    for c in range(N):\n",
    "\n",
    "        if Null:\n",
    "            ntoy = np.random.poisson(b[c])\n",
    "        else:\n",
    "            ntoy = np.random.poisson( mu*s[c] + b[c] )\n",
    "\n",
    "        Q += LnQ(ntoy,b[c],s[c],mu)\n",
    "\n",
    "    return Q"
   ]
  },
  {
   "cell_type": "code",
   "execution_count": 552,
   "id": "64ff7b7c-c679-4747-95b9-485c662c76e5",
   "metadata": {},
   "outputs": [],
   "source": [
    "def GetObsJointLnQ(LnQ,mu,Expected = True):\n",
    "\n",
    "    Q = 0.\n",
    "    # The observed LnQ is defined for mu == 1!!!!\n",
    "    \n",
    "    for c in range(N):\n",
    "\n",
    "        if Expected: # Observed events are the expected background\n",
    "            Q += LnQ( b[c], b[c], s[c], mu )\n",
    "        else:\n",
    "            Q += LnQ( mu*b[c]+b[c], b[c], s[c], mu )\n",
    "\n",
    "    return Q"
   ]
  },
  {
   "cell_type": "code",
   "execution_count": 553,
   "id": "5f1aa6e9-6241-4819-90e0-7fcff366b2ed",
   "metadata": {},
   "outputs": [],
   "source": [
    "def GetSignificanceLnQ(LnQ,mu):\n",
    "\n",
    "    Q = 0.\n",
    "    # Lo que se espera observar es s+b\n",
    "    for c in range(N):\n",
    "        Q += LnQ( mu*s[c]+b[c], b[c], s[c], mu )\n",
    "\n",
    "    return Q"
   ]
  },
  {
   "cell_type": "code",
   "execution_count": 554,
   "id": "dd5dd2e1-824b-4b90-b288-1cc5a67ea92f",
   "metadata": {},
   "outputs": [
    {
     "data": {
      "text/plain": [
       "-2.6838227934293357"
      ]
     },
     "execution_count": 554,
     "metadata": {},
     "output_type": "execute_result"
    }
   ],
   "source": [
    "GetJointLnQ(GetLnQ,1.0)"
   ]
  },
  {
   "cell_type": "code",
   "execution_count": 555,
   "id": "8d20d63a-3929-4ca2-aeb2-6d3529bbbded",
   "metadata": {},
   "outputs": [
    {
     "data": {
      "text/plain": [
       "-18.12407192172997"
      ]
     },
     "execution_count": 555,
     "metadata": {},
     "output_type": "execute_result"
    }
   ],
   "source": [
    "# The observed LnQ\n",
    "Qobs = GetObsJointLnQ(GetLnQ,1.0,Expected=False)\n",
    "Qobs"
   ]
  },
  {
   "cell_type": "code",
   "execution_count": 556,
   "id": "c8758e8a-89b7-404b-b064-379eef394e91",
   "metadata": {},
   "outputs": [
    {
     "data": {
      "text/plain": [
       "-0.9682395569514846"
      ]
     },
     "execution_count": 556,
     "metadata": {},
     "output_type": "execute_result"
    }
   ],
   "source": [
    "# Con significancia\n",
    "Qobs = GetSignificanceLnQ(GetLnQ,1.0)\n",
    "Qobs"
   ]
  },
  {
   "cell_type": "code",
   "execution_count": 557,
   "id": "ddb17238-a0c2-4e51-be5f-a1249bf73c57",
   "metadata": {},
   "outputs": [],
   "source": [
    "def Sampler(mu, Ntoys = int(1e5)):\n",
    "\n",
    "    q0 = np.zeros(Ntoys)\n",
    "    q1 = np.zeros(Ntoys)\n",
    "\n",
    "    for i in range(Ntoys):\n",
    "        q0[i] = GetJointLnQ(GetLnQ, mu)  #H0\n",
    "        q1[i] = GetJointLnQ(GetLnQ, mu, Null = False) #H1\n",
    "    \n",
    "    return q0,q1"
   ]
  },
  {
   "cell_type": "code",
   "execution_count": 558,
   "id": "0a48c99a-5868-4ae9-8308-ddcea8b663ce",
   "metadata": {},
   "outputs": [],
   "source": [
    "q0,q1 =  Sampler(1.)"
   ]
  },
  {
   "cell_type": "code",
   "execution_count": 559,
   "id": "a21f4cf4-304b-4172-b1f8-52d20ddb33c0",
   "metadata": {},
   "outputs": [
    {
     "data": {
      "text/plain": [
       "<matplotlib.lines.Line2D at 0x748db68f7010>"
      ]
     },
     "execution_count": 559,
     "metadata": {},
     "output_type": "execute_result"
    },
    {
     "data": {
      "image/png": "[encoded data removed]",
      "text/plain": [
       "<Figure size 600x500 with 1 Axes>"
      ]
     },
     "metadata": {},
     "output_type": "display_data"
    }
   ],
   "source": [
    "plt.hist(q0)\n",
    "plt.hist(q1)\n",
    "plt.axvline(x=Qobs,color='k')\n",
    "#plt.yscale('log')"
   ]
  },
  {
   "cell_type": "code",
   "execution_count": 560,
   "id": "fa6f22ec-f8b9-4313-9727-ef5745aaddc4",
   "metadata": {},
   "outputs": [],
   "source": [
    "def GetPValue(data,Qobs, Null = True):\n",
    "\n",
    "    if Null:\n",
    "        count_below_threshold = np.sum( data <= Qobs )\n",
    "        p_value = count_below_threshold/data.shape[0]\n",
    "\n",
    "    else:\n",
    "        count_above_threshold = np.sum( data >= Qobs )\n",
    "        p_value = count_above_threshold / data.shape[0]\n",
    "\n",
    "    return p_value"
   ]
  },
  {
   "cell_type": "code",
   "execution_count": 561,
   "id": "c3c11dbc-d34b-4f8f-a594-2545cb931a81",
   "metadata": {},
   "outputs": [
    {
     "name": "stdout",
     "output_type": "stream",
     "text": [
      "0.16927 0.52378\n"
     ]
    }
   ],
   "source": [
    "p0 = GetPValue(q0,Qobs,Null = True)\n",
    "p1 = GetPValue(q1,Qobs,Null = False)\n",
    "print(p0,p1)"
   ]
  },
  {
   "cell_type": "code",
   "execution_count": 562,
   "id": "17cdd7c4-69ae-4c21-b7c1-4435a45f7d3f",
   "metadata": {},
   "outputs": [
    {
     "name": "stdout",
     "output_type": "stream",
     "text": [
      "0.83073 0.52378\n"
     ]
    }
   ],
   "source": [
    "Clsb = p1\n",
    "Clb = 1 - p0\n",
    "print(Clb,Clsb)"
   ]
  },
  {
   "cell_type": "code",
   "execution_count": 563,
   "id": "fe22a2f6-e245-45a6-8264-223a562cc76e",
   "metadata": {},
   "outputs": [
    {
     "data": {
      "text/plain": [
       "0.6305056998061946"
      ]
     },
     "execution_count": 563,
     "metadata": {},
     "output_type": "execute_result"
    }
   ],
   "source": [
    "Cls = Clsb/Clb\n",
    "Cls"
   ]
  },
  {
   "cell_type": "code",
   "execution_count": 564,
   "id": "31dd301e-4696-4ed4-8584-b109d90be574",
   "metadata": {},
   "outputs": [],
   "source": [
    "# Verdad pero no\n",
    "#Cls = 1 - pmug\n",
    "#print(Cls)"
   ]
  },
  {
   "cell_type": "code",
   "execution_count": 565,
   "id": "ca414887-8f70-471b-9565-620ad51ba0c7",
   "metadata": {},
   "outputs": [
    {
     "data": {
      "text/plain": [
       "0.9570539997230563"
      ]
     },
     "execution_count": 565,
     "metadata": {},
     "output_type": "execute_result"
    }
   ],
   "source": [
    "SignificanciaH0 = -norm.ppf(p0)\n",
    "SignificanciaH0"
   ]
  },
  {
   "cell_type": "code",
   "execution_count": 566,
   "id": "b7b41943-2ab2-4e73-bb89-d36e958243eb",
   "metadata": {},
   "outputs": [
    {
     "data": {
      "text/plain": [
       "0.2806224435586632"
      ]
     },
     "execution_count": 566,
     "metadata": {},
     "output_type": "execute_result"
    }
   ],
   "source": [
    "# Veamos la significancia\n",
    "SignificanciaH1 = norm.ppf(p1)\n",
    "Significancia"
   ]
  },
  {
   "cell_type": "code",
   "execution_count": 567,
   "id": "73a92a1e-1a3b-451b-a39e-c39d52133eb2",
   "metadata": {},
   "outputs": [
    {
     "data": {
      "text/plain": [
       "0.9534625892455924"
      ]
     },
     "execution_count": 567,
     "metadata": {},
     "output_type": "execute_result"
    }
   ],
   "source": [
    "# Deberia se igual a \n",
    "S = np.sum(s)\n",
    "B = np.sum(b)\n",
    "S/np.sqrt(B+S)"
   ]
  },
  {
   "cell_type": "code",
   "execution_count": 518,
   "id": "f9373d9f-403a-40b1-831b-f26251328424",
   "metadata": {},
   "outputs": [],
   "source": [
    "mu = np.linspace(0.5,3,20)"
   ]
  },
  {
   "cell_type": "code",
   "execution_count": 519,
   "id": "7b832a1c-b163-4528-8136-dc8ff70884d4",
   "metadata": {},
   "outputs": [],
   "source": [
    "# p-value scan\n",
    "def GetCls(mu,Expected=False):\n",
    "\n",
    "    p_value = np.zeros_like(mu)\n",
    "\n",
    "    for i in tqdm(range(mu.shape[0])):\n",
    "\n",
    "        Qobs = GetObsJointLnQ(GetLnQ,mu[i],Expected)\n",
    "        q0,q1 = Sampler(mu[i])\n",
    "\n",
    "        p0 = GetPValue(q0,Qobs,Null = True)\n",
    "        p1 = GetPValue(q1,Qobs,Null = False)\n",
    "\n",
    "        if p0 == 1.:\n",
    "            print('Problema con este valor:', mu[i])\n",
    "            pmu = p1\n",
    "        else:\n",
    "            pmu = p1 / (1-p0)\n",
    "\n",
    "        p_value[i] = pmu\n",
    "\n",
    "    return p_value"
   ]
  },
  {
   "cell_type": "code",
   "execution_count": 520,
   "id": "4f686363-6ea4-4f05-a15e-f1cd3cb2d731",
   "metadata": {},
   "outputs": [
    {
     "name": "stderr",
     "output_type": "stream",
     "text": [
      "100%|█████████████████████████████████████████████████████████████████████████████████████████████| 20/20 [00:10<00:00,  1.93it/s]\n",
      "100%|█████████████████████████████████████████████████████████████████████████████████████████████| 20/20 [00:10<00:00,  1.93it/s]\n"
     ]
    }
   ],
   "source": [
    "Op_value = GetCls(mu,Expected=False)\n",
    "Ep_value = GetCls(mu,Expected=True)"
   ]
  },
  {
   "cell_type": "code",
   "execution_count": 521,
   "id": "317c745f-6a38-457c-a4f0-3f54c2fcee2d",
   "metadata": {},
   "outputs": [
    {
     "data": {
      "text/plain": [
       "array([0.77215524, 0.70122795, 0.62765597, 0.55421704, 0.48703377,\n",
       "       0.42171255, 0.36222874, 0.31138766, 0.25934842, 0.21450608,\n",
       "       0.18071099, 0.14531298, 0.11712095, 0.09592127, 0.07371903,\n",
       "       0.05715931, 0.04472867, 0.03411911, 0.02679609, 0.02050671])"
      ]
     },
     "execution_count": 521,
     "metadata": {},
     "output_type": "execute_result"
    }
   ],
   "source": [
    "Op_value"
   ]
  },
  {
   "cell_type": "code",
   "execution_count": 522,
   "id": "9ae6cf62-1255-4cda-862c-e522b392dd4c",
   "metadata": {},
   "outputs": [
    {
     "data": {
      "text/plain": [
       "<matplotlib.lines.Line2D at 0x748db6c04150>"
      ]
     },
     "execution_count": 522,
     "metadata": {},
     "output_type": "execute_result"
    },
    {
     "data": {
      "image/png": "[encoded data removed]",
      "text/plain": [
       "<Figure size 600x500 with 1 Axes>"
      ]
     },
     "metadata": {},
     "output_type": "display_data"
    }
   ],
   "source": [
    "plt.plot(mu,Op_value)\n",
    "plt.plot(mu,Ep_value)\n",
    "plt.axhline(y=0.05,ls='--',color='r')"
   ]
  },
  {
   "cell_type": "code",
   "execution_count": 523,
   "id": "a1ce410c-25d0-4f8b-a91c-8b98c4c7ea2f",
   "metadata": {},
   "outputs": [
    {
     "data": {
      "text/plain": [
       "array([0. , 0.2, 0.4, 0.6, 0.8, 1. , 1.2, 1.4, 1.6, 1.8, 2. ])"
      ]
     },
     "execution_count": 523,
     "metadata": {},
     "output_type": "execute_result"
    }
   ],
   "source": [
    "np.linspace(0,2,11)"
   ]
  },
  {
   "cell_type": "code",
   "execution_count": null,
   "id": "35052b9d-9cea-4ce2-86d9-aa0e472c32a1",
   "metadata": {},
   "outputs": [],
   "source": []
  }
 ],
 "metadata": {
  "kernelspec": {
   "display_name": "Python 3 (ipykernel)",
   "language": "python",
   "name": "python3"
  },
  "language_info": {
   "codemirror_mode": {
    "name": "ipython",
    "version": 3
   },
   "file_extension": ".py",
   "mimetype": "text/x-python",
   "name": "python",
   "nbconvert_exporter": "python",
   "pygments_lexer": "ipython3",
   "version": "3.11.5"
  }
 },
 "nbformat": 4,
 "nbformat_minor": 5
}
