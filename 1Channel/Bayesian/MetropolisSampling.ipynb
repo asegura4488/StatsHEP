{
 "cells": [
  {
   "cell_type": "code",
   "execution_count": 1,
   "id": "4f5e9f6d-baa0-4459-b31b-4e112e375fbb",
   "metadata": {},
   "outputs": [],
   "source": [
    "import numpy as np\n",
    "import matplotlib.pyplot as plt\n",
    "from matplotlib import rc\n",
    "import matplotlib.ticker as ticker\n",
    "from matplotlib import rc\n",
    "import scipy.integrate as integrate\n",
    "from scipy.special import factorial\n",
    "from tqdm import tqdm"
   ]
  },
  {
   "cell_type": "code",
   "execution_count": 2,
   "id": "07777353-9736-426a-a5b5-db4bcd1b8f80",
   "metadata": {},
   "outputs": [],
   "source": [
    "# Matplotlib customize\n",
    "plt.rcParams['figure.figsize'] = [6,5]\n",
    "plt.rcParams['figure.dpi'] = 100\n",
    "\n",
    "plt.rcParams['axes.titlesize'] = 20\n",
    "plt.rcParams['axes.labelsize'] = 20\n",
    "\n",
    "plt.rcParams['lines.linewidth'] = 1.5\n",
    "plt.rcParams['lines.markersize'] = 4\n",
    "\n",
    "plt.rcParams['xtick.labelsize'] = 12\n",
    "plt.rcParams['ytick.labelsize'] = 12\n",
    "\n",
    "plt.rcParams['legend.fontsize'] = 12\n",
    "plt.rcParams['legend.markerscale'] = 1.5\n",
    "plt.rcParams['legend.borderpad'] = 0.6\n",
    "plt.rcParams['legend.framealpha'] = 0.7"
   ]
  },
  {
   "cell_type": "code",
   "execution_count": 3,
   "id": "0dd4c868-8753-4c57-9df2-0edca5e6c139",
   "metadata": {},
   "outputs": [],
   "source": [
    "# Likelihood function\n",
    "def Likelihood(n,b,s,mu):\n",
    "\n",
    "    lambda_ = mu*s + b\n",
    "\n",
    "    try:\n",
    "        L = np.exp( -lambda_ )*lambda_**n / factorial(n)\n",
    "    except OverflowError: \n",
    "        L = 0.\n",
    "\n",
    "    return L"
   ]
  },
  {
   "cell_type": "code",
   "execution_count": 4,
   "id": "72c15dbe-f355-417e-9096-bcb634cd994a",
   "metadata": {},
   "outputs": [],
   "source": [
    "# Log Prior\n",
    "def LogPrior(p):\n",
    "\n",
    "    mu = p \n",
    "\n",
    "    if np.isscalar(mu):\n",
    "        return 0. if mu >= 0. else -np.inf\n",
    "    else:\n",
    "        return 0. if np.any(mu >= 0.) else -np.inf\n",
    "    "
   ]
  },
  {
   "cell_type": "code",
   "execution_count": 5,
   "id": "56d92627-2b70-470f-af02-9a1e964c2633",
   "metadata": {},
   "outputs": [],
   "source": [
    "def GetJointLogLikelihood(mu,channels):\n",
    "\n",
    "    n = channels[:,0]\n",
    "    b = channels[:,1]\n",
    "    s = channels[:,2]\n",
    "\n",
    "    N = channels.shape[0]\n",
    "\n",
    "    # log-likelihood contribution\n",
    "    Joint = 0.\n",
    "\n",
    "    for c in range(N):\n",
    "        Joint += np.log(Likelihood( n[c], b[c], s[c], mu ))\n",
    "\n",
    "    return Joint "
   ]
  },
  {
   "cell_type": "code",
   "execution_count": 6,
   "id": "6f55f982-ce91-4d79-8e46-05b605335c55",
   "metadata": {},
   "outputs": [],
   "source": [
    "def LogPosterior(p,channels):\n",
    "    return GetJointLogLikelihood(p,channels) + LogPrior(p)"
   ]
  },
  {
   "cell_type": "code",
   "execution_count": 7,
   "id": "95639c98-6969-45be-b62c-88352d34e804",
   "metadata": {},
   "outputs": [],
   "source": [
    "channels = np.array([[3.,8.,8.],[3.,4.,5.],[1.,3.,3.]],dtype=float)"
   ]
  },
  {
   "cell_type": "code",
   "execution_count": 8,
   "id": "16f3ab0b-50ae-4e75-a02f-faf5609eb665",
   "metadata": {},
   "outputs": [
    {
     "data": {
      "text/plain": [
       "-21.660819761517644"
      ]
     },
     "execution_count": 8,
     "metadata": {},
     "output_type": "execute_result"
    }
   ],
   "source": [
    "GetJointLogLikelihood(1.3,channels)"
   ]
  },
  {
   "cell_type": "code",
   "execution_count": 9,
   "id": "e468a9af-6781-4af9-a8d1-da8e950eba16",
   "metadata": {},
   "outputs": [
    {
     "data": {
      "text/plain": [
       "-21.660819761517644"
      ]
     },
     "execution_count": 9,
     "metadata": {},
     "output_type": "execute_result"
    }
   ],
   "source": [
    "LogPosterior(1.3,channels)"
   ]
  },
  {
   "cell_type": "code",
   "execution_count": 10,
   "id": "a3c2e215-0555-4d22-8154-031182d0a7eb",
   "metadata": {},
   "outputs": [],
   "source": [
    "mu = np.linspace(0.,2.,100)\n",
    "Posterior = LogPosterior(mu,channels)"
   ]
  },
  {
   "cell_type": "code",
   "execution_count": 11,
   "id": "50d9387a-a09b-446e-acb6-bb8780ce505c",
   "metadata": {},
   "outputs": [
    {
     "data": {
      "text/plain": [
       "[<matplotlib.lines.Line2D at 0x7c80249edbd0>]"
      ]
     },
     "execution_count": 11,
     "metadata": {},
     "output_type": "execute_result"
    },
    {
     "data": {
      "image/png": "[encoded data removed]",
      "text/plain": [
       "<Figure size 600x500 with 1 Axes>"
      ]
     },
     "metadata": {},
     "output_type": "display_data"
    }
   ],
   "source": [
    "plt.plot(mu,Posterior)"
   ]
  },
  {
   "cell_type": "code",
   "execution_count": null,
   "id": "17025a1f-0a9b-4ec4-a838-273833507ea4",
   "metadata": {},
   "outputs": [],
   "source": []
  }
 ],
 "metadata": {
  "kernelspec": {
   "display_name": "Python 3 (ipykernel)",
   "language": "python",
   "name": "python3"
  },
  "language_info": {
   "codemirror_mode": {
    "name": "ipython",
    "version": 3
   },
   "file_extension": ".py",
   "mimetype": "text/x-python",
   "name": "python",
   "nbconvert_exporter": "python",
   "pygments_lexer": "ipython3",
   "version": "3.11.5"
  }
 },
 "nbformat": 4,
 "nbformat_minor": 5
}
