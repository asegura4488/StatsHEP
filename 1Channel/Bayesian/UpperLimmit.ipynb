{
 "cells": [
  {
   "cell_type": "code",
   "execution_count": 3,
   "id": "883d2a8e",
   "metadata": {},
   "outputs": [],
   "source": [
    "import numpy as np\n",
    "import matplotlib.pyplot as plt\n",
    "from matplotlib import rc\n",
    "import matplotlib.ticker as ticker\n",
    "from matplotlib import rc\n",
    "import scipy.integrate as integrate\n",
    "from tqdm import tqdm"
   ]
  },
  {
   "cell_type": "code",
   "execution_count": 4,
   "id": "5cff398c",
   "metadata": {},
   "outputs": [],
   "source": [
    "# Matplotlib customize\n",
    "plt.rcParams['figure.figsize'] = [6,5]\n",
    "plt.rcParams['figure.dpi'] = 100\n",
    "\n",
    "plt.rcParams['axes.titlesize'] = 20\n",
    "plt.rcParams['axes.labelsize'] = 20\n",
    "\n",
    "plt.rcParams['lines.linewidth'] = 1.5\n",
    "plt.rcParams['lines.markersize'] = 4\n",
    "\n",
    "plt.rcParams['xtick.labelsize'] = 12\n",
    "plt.rcParams['ytick.labelsize'] = 12\n",
    "\n",
    "plt.rcParams['legend.fontsize'] = 12\n",
    "plt.rcParams['legend.markerscale'] = 1.5\n",
    "plt.rcParams['legend.borderpad'] = 0.6\n",
    "plt.rcParams['legend.framealpha'] = 0.7"
   ]
  },
  {
   "cell_type": "code",
   "execution_count": 5,
   "id": "648ccf5f",
   "metadata": {},
   "outputs": [],
   "source": [
    "class BayesianCalculator:\n",
    "    \n",
    "    # Channels\n",
    "    def __init__(self,channels):\n",
    "        \n",
    "        self.n = channels[:,0]\n",
    "        self.b = channels[:,1]\n",
    "        self.s = channels[:,2]\n",
    "        \n",
    "        # NChannels\n",
    "        self.N = channels.shape[0]\n",
    "        \n",
    "    def PrintChannels(self):\n",
    "        for i in range(self.N):\n",
    "            print(i,':',self.n[i],self.b[i],self.s[i])\n",
    "    \n",
    "    \n",
    "    "
   ]
  },
  {
   "cell_type": "code",
   "execution_count": 6,
   "id": "9466c75a",
   "metadata": {},
   "outputs": [],
   "source": [
    "# Prueba\n",
    "channels = np.array([[2.,3.5,1.]])"
   ]
  },
  {
   "cell_type": "code",
   "execution_count": 7,
   "id": "1b2be206",
   "metadata": {},
   "outputs": [],
   "source": [
    "b1 = BayesianCalculator(channels)"
   ]
  },
  {
   "cell_type": "code",
   "execution_count": 8,
   "id": "9dc184c5",
   "metadata": {},
   "outputs": [
    {
     "name": "stdout",
     "output_type": "stream",
     "text": [
      "0 : 2.0 3.5 1.0\n"
     ]
    }
   ],
   "source": [
    "b1.PrintChannels()"
   ]
  },
  {
   "cell_type": "code",
   "execution_count": null,
   "id": "dcf11b0c",
   "metadata": {},
   "outputs": [],
   "source": []
  }
 ],
 "metadata": {
  "kernelspec": {
   "display_name": "Python 3 (ipykernel)",
   "language": "python",
   "name": "python3"
  },
  "language_info": {
   "codemirror_mode": {
    "name": "ipython",
    "version": 3
   },
   "file_extension": ".py",
   "mimetype": "text/x-python",
   "name": "python",
   "nbconvert_exporter": "python",
   "pygments_lexer": "ipython3",
   "version": "3.11.5"
  }
 },
 "nbformat": 4,
 "nbformat_minor": 5
}
