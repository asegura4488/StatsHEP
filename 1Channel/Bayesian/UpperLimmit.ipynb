{
 "cells": [
  {
   "cell_type": "code",
   "execution_count": 1,
   "id": "307072bb",
   "metadata": {},
   "outputs": [],
   "source": [
    "import numpy as np\n",
    "import matplotlib.pyplot as plt\n",
    "from matplotlib import rc\n",
    "import matplotlib.ticker as ticker\n",
    "from matplotlib import rc\n",
    "import scipy.integrate as integrate\n",
    "from scipy.special import factorial\n",
    "from tqdm import tqdm"
   ]
  },
  {
   "cell_type": "code",
   "execution_count": 2,
   "id": "8796db06",
   "metadata": {},
   "outputs": [],
   "source": [
    "# Matplotlib customize\n",
    "plt.rcParams['figure.figsize'] = [6,5]\n",
    "plt.rcParams['figure.dpi'] = 100\n",
    "\n",
    "plt.rcParams['axes.titlesize'] = 20\n",
    "plt.rcParams['axes.labelsize'] = 20\n",
    "\n",
    "plt.rcParams['lines.linewidth'] = 1.5\n",
    "plt.rcParams['lines.markersize'] = 4\n",
    "\n",
    "plt.rcParams['xtick.labelsize'] = 12\n",
    "plt.rcParams['ytick.labelsize'] = 12\n",
    "\n",
    "plt.rcParams['legend.fontsize'] = 12\n",
    "plt.rcParams['legend.markerscale'] = 1.5\n",
    "plt.rcParams['legend.borderpad'] = 0.6\n",
    "plt.rcParams['legend.framealpha'] = 0.7"
   ]
  },
  {
   "cell_type": "code",
   "execution_count": 3,
   "id": "91735666",
   "metadata": {},
   "outputs": [],
   "source": [
    "class BayesianCalculator:\n",
    "    \n",
    "    # Channels\n",
    "    def __init__(self,channels):\n",
    "        \n",
    "        self.n = channels[:,0]\n",
    "        self.b = channels[:,1]\n",
    "        self.s = channels[:,2]\n",
    "        \n",
    "        # NChannels\n",
    "        self.N = channels.shape[0]\n",
    "    \n",
    "    # POI ( Parameter of interest )\n",
    "    def SetPOI(self,min_,max_,N : int):\n",
    "        if not isinstance(N,int):\n",
    "            raise ValueError(f\"El valor de N debe ser un entero: {type(N).__name__}\")\n",
    "        self.mu = np.linspace(min_,max_,N)\n",
    "    \n",
    "    def GetPOI(self):\n",
    "        return self.mu\n",
    "    \n",
    "    # Bayesian stuff\n",
    "    def Prior(self,mu):\n",
    "        if np.isscalar(mu):\n",
    "            return 1. if mu > 0. else 0.\n",
    "        else:\n",
    "            return 1. if np.all(mu > 0) else 0.\n",
    "\n",
    "        \n",
    "    # Likelihood function\n",
    "    def Likelihood(self,n,b,s,mu):\n",
    "        lambda_ = mu*s+b\n",
    "        \n",
    "        try:\n",
    "            L = np.exp( -lambda_ )*lambda_**n / factorial(n)\n",
    "        except OverflowError:\n",
    "            L = 0.0\n",
    "        \n",
    "        return L\n",
    "        \n",
    "    # JointLikelihood\n",
    "    def GetJointLikelihood(self,mu):\n",
    "        \n",
    "        Like = 1.0\n",
    "        \n",
    "        # Likelihood in each channel\n",
    "        for c in range(self.N):\n",
    "            Like *= self.Likelihood(self.n[c],self.b[c],self.s[c],mu)\n",
    "        \n",
    "        # Aplicar el prior una sola vez\n",
    "        Like *= self.Prior(mu)\n",
    "            \n",
    "        return Like\n",
    "    \n",
    "    # Normalization\n",
    "    def GetNormalization(self):\n",
    "        self.Normalization = integrate.quad( self.GetJointLikelihood, self.mu[0], self.mu[-1] )[0]\n",
    "        return self.Normalization \n",
    "    \n",
    "    \n",
    "    # Posterior\n",
    "    def GetPosterior(self,mu):\n",
    "        return self.GetJointLikelihood(mu)/self.GetNormalization()\n",
    "    \n",
    "    \n",
    "    def PlotPosterior(self):\n",
    "        \n",
    "        Posterior = np.array([ self.GetPosterior(mu_val) for mu_val in self.mu ])\n",
    "    \n",
    "        fig = plt.figure()\n",
    "        ax = fig.add_subplot(1,1,1)\n",
    "        ax.plot(self.mu,Posterior,color='k',label='Posterior Distribution')\n",
    "        \n",
    "        # Label X\n",
    "        ax.set_xlabel(r'$\\mu$')\n",
    "        ax.xaxis.set_label_coords(0.95,-0.1)\n",
    "        ax.set_xlim(self.mu[0],self.mu[-1])\n",
    "\n",
    "        # Label Y\n",
    "        ax.set_ylabel(r'$p(\\mu;x)$')\n",
    "        ax.yaxis.set_label_coords(-0.1,0.90)\n",
    "        ax.set_ylim(np.min(Posterior),np.max(Posterior))\n",
    "        \n",
    "        # Ajustar los márgenes automáticamente\n",
    "        plt.tight_layout()\n",
    "\n",
    "        #Legend\n",
    "        ax.legend(loc='upper right',bbox_to_anchor=(1,1),ncol=1,title='')\n",
    "       \n",
    "        #\n",
    "        plt.savefig('BayesianUpperLimit.pdf')\n",
    "    \n",
    "    \n",
    "  # Imprimir canales\n",
    "    def PrintChannels(self):\n",
    "        for i in range(self.N):\n",
    "            print(f\"{i}: n={self.n[i]}, b={self.b[i]}, s={self.s[i]}\")\n",
    "    \n",
    "    \n",
    "    "
   ]
  },
  {
   "cell_type": "code",
   "execution_count": 4,
   "id": "76b93f89",
   "metadata": {},
   "outputs": [],
   "source": [
    "# Prueba\n",
    "channels = np.array([[0.,0.,1.]],dtype=float)"
   ]
  },
  {
   "cell_type": "code",
   "execution_count": 5,
   "id": "554b1628",
   "metadata": {},
   "outputs": [],
   "source": [
    "b1 = BayesianCalculator(channels)\n",
    "b1.SetPOI(0.1,10.,30)"
   ]
  },
  {
   "cell_type": "code",
   "execution_count": 6,
   "id": "963c477f",
   "metadata": {},
   "outputs": [
    {
     "name": "stdout",
     "output_type": "stream",
     "text": [
      "0: n=0.0, b=0.0, s=1.0\n"
     ]
    }
   ],
   "source": [
    "b1.PrintChannels()"
   ]
  },
  {
   "cell_type": "code",
   "execution_count": 7,
   "id": "cafbaf0f",
   "metadata": {},
   "outputs": [
    {
     "data": {
      "image/png": "[encoded data removed]",
      "text/plain": [
       "<Figure size 600x500 with 1 Axes>"
      ]
     },
     "metadata": {},
     "output_type": "display_data"
    }
   ],
   "source": [
    "b1.PlotPosterior()"
   ]
  },
  {
   "cell_type": "code",
   "execution_count": null,
   "id": "1f04b216",
   "metadata": {},
   "outputs": [],
   "source": []
  },
  {
   "cell_type": "code",
   "execution_count": null,
   "id": "7d49a9ea",
   "metadata": {},
   "outputs": [],
   "source": []
  }
 ],
 "metadata": {
  "kernelspec": {
   "display_name": "Python 3 (ipykernel)",
   "language": "python",
   "name": "python3"
  },
  "language_info": {
   "codemirror_mode": {
    "name": "ipython",
    "version": 3
   },
   "file_extension": ".py",
   "mimetype": "text/x-python",
   "name": "python",
   "nbconvert_exporter": "python",
   "pygments_lexer": "ipython3",
   "version": "3.11.5"
  }
 },
 "nbformat": 4,
 "nbformat_minor": 5
}
