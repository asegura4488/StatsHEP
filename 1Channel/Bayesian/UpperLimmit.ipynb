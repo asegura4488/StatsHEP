{
 "cells": [
  {
   "cell_type": "code",
   "execution_count": 26,
   "id": "05a27db3",
   "metadata": {},
   "outputs": [],
   "source": [
    "import numpy as np\n",
    "import matplotlib.pyplot as plt\n",
    "from matplotlib import rc\n",
    "import matplotlib.ticker as ticker\n",
    "from matplotlib import rc\n",
    "import scipy.integrate as integrate\n",
    "from scipy.special import factorial\n",
    "from tqdm import tqdm"
   ]
  },
  {
   "cell_type": "code",
   "execution_count": 27,
   "id": "4af095ef",
   "metadata": {},
   "outputs": [],
   "source": [
    "# Matplotlib customize\n",
    "plt.rcParams['figure.figsize'] = [6,5]\n",
    "plt.rcParams['figure.dpi'] = 100\n",
    "\n",
    "plt.rcParams['axes.titlesize'] = 20\n",
    "plt.rcParams['axes.labelsize'] = 20\n",
    "\n",
    "plt.rcParams['lines.linewidth'] = 1.5\n",
    "plt.rcParams['lines.markersize'] = 4\n",
    "\n",
    "plt.rcParams['xtick.labelsize'] = 12\n",
    "plt.rcParams['ytick.labelsize'] = 12\n",
    "\n",
    "plt.rcParams['legend.fontsize'] = 12\n",
    "plt.rcParams['legend.markerscale'] = 1.5\n",
    "plt.rcParams['legend.borderpad'] = 0.6\n",
    "plt.rcParams['legend.framealpha'] = 0.7"
   ]
  },
  {
   "cell_type": "code",
   "execution_count": 85,
   "id": "b769b63d",
   "metadata": {},
   "outputs": [],
   "source": [
    "class BayesianCalculator:\n",
    "    \n",
    "    # Channels\n",
    "    def __init__(self,channels):\n",
    "        \n",
    "        self.n = channels[:,0]\n",
    "        self.b = channels[:,1]\n",
    "        self.s = channels[:,2]\n",
    "        \n",
    "        # NChannels\n",
    "        self.N = channels.shape[0]\n",
    "    \n",
    "    # POI ( Parameter of interest )\n",
    "    def SetPOI(self,min_,max_,N : int):\n",
    "        if not isinstance(N,int):\n",
    "            raise ValueError(f\"El valor de N debe ser un entero: {type(N).__name__}\")\n",
    "        self.mu = np.linspace(min_,max_,N)\n",
    "    \n",
    "    def GetPOI(self):\n",
    "        return self.mu\n",
    "    \n",
    "    # Bayesian stuff\n",
    "    def Prior(self,mu):\n",
    "        if np.isscalar(mu):\n",
    "            return 1. if mu > 0. else 0.\n",
    "        else:\n",
    "            return 1. if np.all(mu > 0) else 0.\n",
    "\n",
    "        \n",
    "    # Likelihood function\n",
    "    def Likelihood(self,n,b,s,mu):\n",
    "        lambda_ = mu*s+b\n",
    "        \n",
    "        try:\n",
    "            L = np.exp( -lambda_ )*lambda_**n / factorial(n)\n",
    "        except OverflowError:\n",
    "            L = 0.0\n",
    "        \n",
    "        return L\n",
    "        \n",
    "    # JointLikelihood\n",
    "    def GetJointLikelihood(self,mu):\n",
    "        \n",
    "        Like = 1.0\n",
    "        \n",
    "        # Likelihood in each channel\n",
    "        for c in range(self.N):\n",
    "            Like *= self.Likelihood(self.n[c],self.b[c],self.s[c],mu)\n",
    "        \n",
    "        # Aplicar el prior una sola vez\n",
    "        Like *= self.Prior(mu)\n",
    "            \n",
    "        return Like\n",
    "    \n",
    "    # Normalization\n",
    "    def GetNormalization(self):\n",
    "        self.Normalization = integrate.quad( self.GetJointLikelihood, 0., np.inf )[0]\n",
    "        return self.Normalization \n",
    "    \n",
    "    \n",
    "    # Posterior\n",
    "    def GetPosterior(self,mu):\n",
    "        return self.GetJointLikelihood(mu)/self.GetNormalization()\n",
    "    \n",
    "    \n",
    "    def PlotPosterior(self):\n",
    "        \n",
    "        Posterior = np.array([ self.GetPosterior(mu_val) for mu_val in self.mu ])\n",
    "    \n",
    "        fig = plt.figure()\n",
    "        ax = fig.add_subplot(1,1,1)\n",
    "        ax.plot(self.mu,Posterior,marker='o',color='k',label='Posterior Distribution')\n",
    "        \n",
    "        # Label X\n",
    "        ax.set_xlabel(r'$\\mu$')\n",
    "        ax.xaxis.set_label_coords(0.95,-0.1)\n",
    "        ax.set_xlim(self.mu[0],self.mu[-1])\n",
    "\n",
    "        # Label Y\n",
    "        ax.set_ylabel(r'$p(\\mu;x)$')\n",
    "        ax.yaxis.set_label_coords(-0.1,0.90)\n",
    "        ax.set_ylim(np.min(Posterior),np.max(Posterior))\n",
    "        \n",
    "        # Ajustar los márgenes automáticamente\n",
    "        plt.tight_layout()\n",
    "\n",
    "        #Legend\n",
    "        ax.legend(loc='upper right',bbox_to_anchor=(1,1),ncol=1,title='')\n",
    "       \n",
    "        #\n",
    "        plt.savefig('BayesianUpperLimit.pdf')\n",
    "    \n",
    "    \n",
    "    # P-value scan\n",
    "    def GetPValueScan(self):\n",
    "        \n",
    "        self.pvalue = np.zeros( len(self.mu) - 1 )\n",
    "        \n",
    "        for i in range(len(self.pvalue)):\n",
    "            CL = integrate.quad( self.GetPosterior, 0., self.mu[i] )[0]\n",
    "            #print(CL)\n",
    "            self.pvalue[i] = 1. - CL\n",
    "            \n",
    "        return self.pvalue\n",
    "    \n",
    "    \n",
    "  # Imprimir canales\n",
    "    def PrintChannels(self):\n",
    "        for i in range(self.N):\n",
    "            print(f\"{i}: n={self.n[i]}, b={self.b[i]}, s={self.s[i]}\")\n",
    "    \n",
    "    \n",
    "    "
   ]
  },
  {
   "cell_type": "code",
   "execution_count": 88,
   "id": "78f4be05",
   "metadata": {},
   "outputs": [],
   "source": [
    "# Prueba\n",
    "channels = np.array([[0.,0.,1.]],dtype=float)"
   ]
  },
  {
   "cell_type": "code",
   "execution_count": 89,
   "id": "a435f870",
   "metadata": {},
   "outputs": [],
   "source": [
    "b1 = BayesianCalculator(channels)\n",
    "b1.SetPOI(0.1,10.,20)"
   ]
  },
  {
   "cell_type": "code",
   "execution_count": 90,
   "id": "98d65193",
   "metadata": {},
   "outputs": [
    {
     "name": "stdout",
     "output_type": "stream",
     "text": [
      "0: n=0.0, b=0.0, s=1.0\n"
     ]
    }
   ],
   "source": [
    "b1.PrintChannels()"
   ]
  },
  {
   "cell_type": "code",
   "execution_count": 91,
   "id": "ac00eadd",
   "metadata": {},
   "outputs": [
    {
     "data": {
      "image/png": "[encoded data removed]",
      "text/plain": [
       "<Figure size 600x500 with 1 Axes>"
      ]
     },
     "metadata": {},
     "output_type": "display_data"
    }
   ],
   "source": [
    "b1.PlotPosterior()"
   ]
  },
  {
   "cell_type": "code",
   "execution_count": 92,
   "id": "565842b4",
   "metadata": {},
   "outputs": [
    {
     "data": {
      "text/plain": [
       "array([9.04837418e-01, 5.37378478e-01, 3.19146427e-01, 1.89539488e-01,\n",
       "       1.12566567e-01, 6.68527287e-02, 3.97035057e-02, 2.35797162e-02,\n",
       "       1.40038771e-02, 8.31683351e-03, 4.93932639e-03, 2.93344157e-03,\n",
       "       1.74215648e-03, 1.03465814e-03, 6.14478362e-04, 3.64935667e-04,\n",
       "       2.16733492e-04, 1.28716952e-04, 7.64443626e-05])"
      ]
     },
     "execution_count": 92,
     "metadata": {},
     "output_type": "execute_result"
    }
   ],
   "source": [
    "b1.GetPValueScan()"
   ]
  },
  {
   "cell_type": "code",
   "execution_count": null,
   "id": "4a374a3c",
   "metadata": {},
   "outputs": [],
   "source": []
  },
  {
   "cell_type": "code",
   "execution_count": null,
   "id": "b176143a",
   "metadata": {},
   "outputs": [],
   "source": []
  },
  {
   "cell_type": "code",
   "execution_count": null,
   "id": "00353987",
   "metadata": {},
   "outputs": [],
   "source": []
  },
  {
   "cell_type": "code",
   "execution_count": null,
   "id": "995a4f4e",
   "metadata": {},
   "outputs": [],
   "source": []
  }
 ],
 "metadata": {
  "kernelspec": {
   "display_name": "Python 3 (ipykernel)",
   "language": "python",
   "name": "python3"
  },
  "language_info": {
   "codemirror_mode": {
    "name": "ipython",
    "version": 3
   },
   "file_extension": ".py",
   "mimetype": "text/x-python",
   "name": "python",
   "nbconvert_exporter": "python",
   "pygments_lexer": "ipython3",
   "version": "3.11.5"
  }
 },
 "nbformat": 4,
 "nbformat_minor": 5
}
