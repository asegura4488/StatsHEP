{
 "cells": [
  {
   "cell_type": "code",
   "execution_count": 24,
   "id": "71dc4f97-cacc-464a-925f-a1f26439518e",
   "metadata": {},
   "outputs": [],
   "source": [
    "import numpy as np\n",
    "import matplotlib.pyplot as plt\n",
    "from matplotlib import rc\n",
    "import matplotlib.ticker as ticker\n",
    "from matplotlib import rc\n",
    "from scipy.stats import chi2"
   ]
  },
  {
   "cell_type": "code",
   "execution_count": 38,
   "id": "c59911cf-390d-4526-bd86-5b7996f39657",
   "metadata": {},
   "outputs": [],
   "source": [
    "# Matplotlib customize\n",
    "plt.rcParams['figure.figsize'] = [6,5]\n",
    "plt.rcParams['figure.dpi'] = 100\n",
    "\n",
    "plt.rcParams['axes.titlesize'] = 20\n",
    "plt.rcParams['axes.labelsize'] = 20\n",
    "\n",
    "plt.rcParams['lines.linewidth'] = 1.5\n",
    "plt.rcParams['lines.markersize'] = 5\n",
    "\n",
    "plt.rcParams['xtick.labelsize'] = 12\n",
    "plt.rcParams['ytick.labelsize'] = 12\n",
    "\n",
    "plt.rcParams['legend.fontsize'] = 8\n",
    "plt.rcParams['legend.markerscale'] = 1.5\n",
    "plt.rcParams['legend.borderpad'] = 0.6\n",
    "plt.rcParams['legend.framealpha'] = 0.7"
   ]
  },
  {
   "cell_type": "code",
   "execution_count": 39,
   "id": "3ad6727d-3c51-4bb6-8b04-2f0e32bd7439",
   "metadata": {},
   "outputs": [
    {
     "data": {
      "text/plain": [
       "array([[0., 5., 1.]])"
      ]
     },
     "execution_count": 39,
     "metadata": {},
     "output_type": "execute_result"
    }
   ],
   "source": [
    "Channels = np.array([[0,5,1]],dtype=float)\n",
    "Channels"
   ]
  },
  {
   "cell_type": "code",
   "execution_count": 40,
   "id": "113aa57a-4eb3-4602-a69b-a897424996e9",
   "metadata": {},
   "outputs": [],
   "source": [
    "def GetCL(n,b,s,mu):\n",
    "    \n",
    "    df = 2*(n+1)\n",
    "\n",
    "    CLsb = 1 - chi2.cdf(2*(mu*s+b),df=df)\n",
    "    CLb = 1 - chi2.cdf(2*b, df=df)\n",
    "\n",
    "    return CLsb/CLb"
   ]
  },
  {
   "cell_type": "code",
   "execution_count": 44,
   "id": "3ba67c1f-433a-4b1e-8c2e-458ad280d9e4",
   "metadata": {},
   "outputs": [
    {
     "data": {
      "text/plain": [
       "array([0. , 0.2, 0.4, 0.6, 0.8, 1. , 1.2, 1.4, 1.6, 1.8, 2. , 2.2, 2.4,\n",
       "       2.6, 2.8, 3. , 3.2, 3.4, 3.6, 3.8, 4. ])"
      ]
     },
     "execution_count": 44,
     "metadata": {},
     "output_type": "execute_result"
    }
   ],
   "source": [
    "mu = np.linspace(0.,4.,21)\n",
    "mu"
   ]
  },
  {
   "cell_type": "code",
   "execution_count": 49,
   "id": "68f38bb8-dd12-47b1-bfb5-ccee0877e2ab",
   "metadata": {},
   "outputs": [],
   "source": [
    "n = Channels[:,0]\n",
    "b = Channels[:,1]\n",
    "s = Channels[:,2]\n",
    "Cls = GetCL(n[0],b[0],s[0],mu)"
   ]
  },
  {
   "cell_type": "code",
   "execution_count": 51,
   "id": "931aa555-18ab-4f67-9eaa-acdf7d459057",
   "metadata": {},
   "outputs": [
    {
     "data": {
      "text/plain": [
       "<matplotlib.lines.Line2D at 0x7e7d0b7d2b10>"
      ]
     },
     "execution_count": 51,
     "metadata": {},
     "output_type": "execute_result"
    },
    {
     "data": {
      "image/png": "[encoded data removed]",
      "text/plain": [
       "<Figure size 600x500 with 1 Axes>"
      ]
     },
     "metadata": {},
     "output_type": "display_data"
    }
   ],
   "source": [
    "fig = plt.figure()\n",
    "ax = fig.add_subplot(1,1,1)\n",
    "\n",
    "ax.plot(mu,Cls,color='k')\n",
    "alpha = 0.05\n",
    "ax.axhline( y = alpha, color='r', ls = '--', label=r'Critial Value: $\\alpha= %.2f$'%(alpha) )"
   ]
  },
  {
   "cell_type": "code",
   "execution_count": null,
   "id": "0cd9b151-1f12-4ec2-883c-53d821e7d460",
   "metadata": {},
   "outputs": [],
   "source": []
  }
 ],
 "metadata": {
  "kernelspec": {
   "display_name": "Python 3 (ipykernel)",
   "language": "python",
   "name": "python3"
  },
  "language_info": {
   "codemirror_mode": {
    "name": "ipython",
    "version": 3
   },
   "file_extension": ".py",
   "mimetype": "text/x-python",
   "name": "python",
   "nbconvert_exporter": "python",
   "pygments_lexer": "ipython3",
   "version": "3.11.5"
  }
 },
 "nbformat": 4,
 "nbformat_minor": 5
}
