{
 "cells": [
  {
   "cell_type": "code",
   "execution_count": 15,
   "id": "e8b5f691",
   "metadata": {},
   "outputs": [],
   "source": [
    "import numpy as np\n",
    "import matplotlib.pyplot as plt\n",
    "import pandas as pd\n",
    "from matplotlib import rc\n",
    "import matplotlib.ticker as ticker\n",
    "from matplotlib import rc\n",
    "from scipy.stats import norm\n",
    "from scipy.special import factorial\n",
    "from scipy.special import gammaln\n",
    "from tqdm import tqdm"
   ]
  },
  {
   "cell_type": "code",
   "execution_count": 16,
   "id": "8b182635",
   "metadata": {},
   "outputs": [],
   "source": [
    "# Matplotlib customize\n",
    "plt.rcParams['figure.figsize'] = [6,5]\n",
    "plt.rcParams['figure.dpi'] = 100\n",
    "\n",
    "plt.rcParams['axes.titlesize'] = 20\n",
    "plt.rcParams['axes.labelsize'] = 20\n",
    "\n",
    "plt.rcParams['lines.linewidth'] = 1.5\n",
    "plt.rcParams['lines.markersize'] = 4\n",
    "\n",
    "plt.rcParams['xtick.labelsize'] = 12\n",
    "plt.rcParams['ytick.labelsize'] = 12\n",
    "\n",
    "plt.rcParams['legend.fontsize'] = 12\n",
    "plt.rcParams['legend.markerscale'] = 1.5\n",
    "plt.rcParams['legend.borderpad'] = 0.6\n",
    "plt.rcParams['legend.framealpha'] = 0.7"
   ]
  },
  {
   "cell_type": "code",
   "execution_count": 35,
   "id": "67a3eaeb",
   "metadata": {},
   "outputs": [
    {
     "data": {
      "text/html": [
       "<div>\n",
       "<style scoped>\n",
       "    .dataframe tbody tr th:only-of-type {\n",
       "        vertical-align: middle;\n",
       "    }\n",
       "\n",
       "    .dataframe tbody tr th {\n",
       "        vertical-align: top;\n",
       "    }\n",
       "\n",
       "    .dataframe thead th {\n",
       "        text-align: right;\n",
       "    }\n",
       "</style>\n",
       "<table border=\"1\" class=\"dataframe\">\n",
       "  <thead>\n",
       "    <tr style=\"text-align: right;\">\n",
       "      <th></th>\n",
       "      <th>n</th>\n",
       "      <th>b</th>\n",
       "      <th>s</th>\n",
       "    </tr>\n",
       "  </thead>\n",
       "  <tbody>\n",
       "    <tr>\n",
       "      <th>0</th>\n",
       "      <td>105</td>\n",
       "      <td>100</td>\n",
       "      <td>10</td>\n",
       "    </tr>\n",
       "  </tbody>\n",
       "</table>\n",
       "</div>"
      ],
      "text/plain": [
       "     n    b   s\n",
       "0  105  100  10"
      ]
     },
     "execution_count": 35,
     "metadata": {},
     "output_type": "execute_result"
    }
   ],
   "source": [
    "# Reading channels\n",
    "data = pd.read_csv('datos.csv',sep=',')\n",
    "n = np.array(data.n)\n",
    "b = np.array(data.b)\n",
    "s = np.array(data.s)\n",
    "N = n.shape[0]\n",
    "data"
   ]
  },
  {
   "cell_type": "code",
   "execution_count": 36,
   "id": "d782d440",
   "metadata": {},
   "outputs": [],
   "source": [
    "def LogLikelihood(n,b,s,mu):\n",
    "    \n",
    "    lambda_ = mu*s + b\n",
    "    \n",
    "    log_likelihood = -lambda_ + n * np.log(lambda_) - gammaln(n+1)\n",
    "    \n",
    "    return log_likelihood"
   ]
  },
  {
   "cell_type": "code",
   "execution_count": 37,
   "id": "febcb479",
   "metadata": {},
   "outputs": [],
   "source": [
    "def GetJointLogLikelihood(Like,mu,Expected=True):\n",
    "    \n",
    "    JointLog = 0.\n",
    "    \n",
    "    for c in range(N):\n",
    "        \n",
    "        if Expected:\n",
    "            JointLog += LogLikelihood(b[c],b[c],s[c],mu)\n",
    "        else:\n",
    "            JointLog += LogLikelihood(n[c],b[c],s[c],mu)\n",
    "            \n",
    "    return -2*JointLog"
   ]
  },
  {
   "cell_type": "code",
   "execution_count": 40,
   "id": "6484fdf5",
   "metadata": {},
   "outputs": [],
   "source": [
    "mu = np.linspace(0.,1.,20)\n",
    "LogLike = GetJointLogLikelihood(LogLikelihood,mu,Expected=False)"
   ]
  },
  {
   "cell_type": "code",
   "execution_count": 41,
   "id": "53bcd7cc",
   "metadata": {},
   "outputs": [
    {
     "data": {
      "text/plain": [
       "[<matplotlib.lines.Line2D at 0x7ef7c0fe7450>]"
      ]
     },
     "execution_count": 41,
     "metadata": {},
     "output_type": "execute_result"
    },
    {
     "data": {
      "image/png": "[encoded data removed]",
      "text/plain": [
       "<Figure size 600x500 with 1 Axes>"
      ]
     },
     "metadata": {},
     "output_type": "display_data"
    }
   ],
   "source": [
    "plt.plot(mu,LogLike)"
   ]
  },
  {
   "cell_type": "code",
   "execution_count": null,
   "id": "69cf039c",
   "metadata": {},
   "outputs": [],
   "source": []
  },
  {
   "cell_type": "code",
   "execution_count": null,
   "id": "61ae57b7",
   "metadata": {},
   "outputs": [],
   "source": []
  }
 ],
 "metadata": {
  "kernelspec": {
   "display_name": "Python 3 (ipykernel)",
   "language": "python",
   "name": "python3"
  },
  "language_info": {
   "codemirror_mode": {
    "name": "ipython",
    "version": 3
   },
   "file_extension": ".py",
   "mimetype": "text/x-python",
   "name": "python",
   "nbconvert_exporter": "python",
   "pygments_lexer": "ipython3",
   "version": "3.11.5"
  }
 },
 "nbformat": 4,
 "nbformat_minor": 5
}
