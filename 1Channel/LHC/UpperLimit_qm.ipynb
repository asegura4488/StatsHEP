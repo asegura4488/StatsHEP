{
 "cells": [
  {
   "cell_type": "code",
   "execution_count": 41,
   "id": "b0e5657a",
   "metadata": {},
   "outputs": [],
   "source": [
    "import numpy as np\n",
    "import matplotlib.pyplot as plt\n",
    "import pandas as pd\n",
    "from matplotlib import rc\n",
    "import matplotlib.ticker as ticker\n",
    "from matplotlib import rc\n",
    "from scipy.stats import norm\n",
    "from scipy.special import factorial\n",
    "from scipy.special import gammaln\n",
    "from tqdm import tqdm\n",
    "import scipy.optimize as spo"
   ]
  },
  {
   "cell_type": "code",
   "execution_count": 57,
   "id": "04e0efdb",
   "metadata": {},
   "outputs": [],
   "source": [
    "# Matplotlib customize\n",
    "plt.rcParams['figure.figsize'] = [6,5]\n",
    "plt.rcParams['figure.dpi'] = 100\n",
    "\n",
    "plt.rcParams['axes.titlesize'] = 20\n",
    "plt.rcParams['axes.labelsize'] = 20\n",
    "\n",
    "plt.rcParams['lines.linewidth'] = 1.5\n",
    "plt.rcParams['lines.markersize'] = 4\n",
    "\n",
    "plt.rcParams['xtick.labelsize'] = 12\n",
    "plt.rcParams['ytick.labelsize'] = 12\n",
    "\n",
    "plt.rcParams['legend.fontsize'] = 12\n",
    "plt.rcParams['legend.markerscale'] = 1.5\n",
    "plt.rcParams['legend.borderpad'] = 0.6\n",
    "plt.rcParams['legend.framealpha'] = 0.7"
   ]
  },
  {
   "cell_type": "code",
   "execution_count": 292,
   "id": "9235bb35",
   "metadata": {},
   "outputs": [
    {
     "data": {
      "text/html": [
       "<div>\n",
       "<style scoped>\n",
       "    .dataframe tbody tr th:only-of-type {\n",
       "        vertical-align: middle;\n",
       "    }\n",
       "\n",
       "    .dataframe tbody tr th {\n",
       "        vertical-align: top;\n",
       "    }\n",
       "\n",
       "    .dataframe thead th {\n",
       "        text-align: right;\n",
       "    }\n",
       "</style>\n",
       "<table border=\"1\" class=\"dataframe\">\n",
       "  <thead>\n",
       "    <tr style=\"text-align: right;\">\n",
       "      <th></th>\n",
       "      <th>n</th>\n",
       "      <th>b</th>\n",
       "      <th>s</th>\n",
       "    </tr>\n",
       "  </thead>\n",
       "  <tbody>\n",
       "    <tr>\n",
       "      <th>0</th>\n",
       "      <td>105</td>\n",
       "      <td>100</td>\n",
       "      <td>10</td>\n",
       "    </tr>\n",
       "  </tbody>\n",
       "</table>\n",
       "</div>"
      ],
      "text/plain": [
       "     n    b   s\n",
       "0  105  100  10"
      ]
     },
     "execution_count": 292,
     "metadata": {},
     "output_type": "execute_result"
    }
   ],
   "source": [
    "# Reading channels\n",
    "data = pd.read_csv('datos.csv',sep=',')\n",
    "n = np.array(data.n)\n",
    "b = np.array(data.b)\n",
    "s = np.array(data.s)\n",
    "N = n.shape[0]\n",
    "data"
   ]
  },
  {
   "cell_type": "code",
   "execution_count": 293,
   "id": "324ccfaa",
   "metadata": {},
   "outputs": [],
   "source": [
    "def LogLikelihood(mu,n,b,s):\n",
    "    \n",
    "    lambda_ = mu*s + b\n",
    "    \n",
    "    log_likelihood = -lambda_ + n * np.log(lambda_) - gammaln(n+1)\n",
    "    \n",
    "    return log_likelihood"
   ]
  },
  {
   "cell_type": "code",
   "execution_count": 294,
   "id": "d360dac2",
   "metadata": {},
   "outputs": [],
   "source": [
    "def GetJointLogLikelihood(mu,n,b,s):\n",
    "    \n",
    "    JointLog = 0.\n",
    "    \n",
    "    for c in range(N):\n",
    "        JointLog += LogLikelihood(mu,n[c],b[c],s[c])\n",
    "            \n",
    "    return -JointLog"
   ]
  },
  {
   "cell_type": "code",
   "execution_count": 295,
   "id": "1e044a99",
   "metadata": {},
   "outputs": [],
   "source": [
    "mu = np.linspace(0.,2.,20)\n",
    "LogLike = GetJointLogLikelihood(mu,n,b,s)"
   ]
  },
  {
   "cell_type": "code",
   "execution_count": 296,
   "id": "69265b02",
   "metadata": {},
   "outputs": [
    {
     "data": {
      "text/plain": [
       "[<matplotlib.lines.Line2D at 0x7f200c1c8d50>]"
      ]
     },
     "execution_count": 296,
     "metadata": {},
     "output_type": "execute_result"
    },
    {
     "data": {
      "image/png": "[encoded data removed]",
      "text/plain": [
       "<Figure size 600x500 with 1 Axes>"
      ]
     },
     "metadata": {},
     "output_type": "display_data"
    }
   ],
   "source": [
    "plt.plot(mu,LogLike)"
   ]
  },
  {
   "cell_type": "code",
   "execution_count": 297,
   "id": "acd0ebd2",
   "metadata": {},
   "outputs": [
    {
     "name": "stdout",
     "output_type": "stream",
     "text": [
      "Optimization terminated successfully.\n",
      "         Current function value: 3.246712\n",
      "         Iterations: 15\n",
      "         Function evaluations: 30\n",
      "Maximum found\n"
     ]
    }
   ],
   "source": [
    "# Minimizando el log-likelihood\n",
    "mu0 = 1.\n",
    "result = spo.minimize( GetJointLogLikelihood, mu0, args=(n,b,s), options={\"disp\":True}, method='Nelder-Mead' )\n",
    "\n",
    "muhat = 0.\n",
    "if result.success:\n",
    "    print('Maximum found')\n",
    "    muhat = result.x[0]\n",
    "else:\n",
    "    print('Maximum no found - SETPOI')"
   ]
  },
  {
   "cell_type": "code",
   "execution_count": 298,
   "id": "5a4e049d",
   "metadata": {},
   "outputs": [
    {
     "data": {
      "text/plain": [
       "0.49999999999999956"
      ]
     },
     "execution_count": 298,
     "metadata": {},
     "output_type": "execute_result"
    }
   ],
   "source": [
    "muhat"
   ]
  },
  {
   "cell_type": "code",
   "execution_count": 299,
   "id": "05f597c7",
   "metadata": {},
   "outputs": [],
   "source": [
    "def GetqmObs(mu,n,b,s):\n",
    "\n",
    "    mu0 = 1.\n",
    "    result = spo.minimize( GetJointLogLikelihood, mu0, args=(n,b,s), options={\"disp\":False}, method='Nelder-Mead' )\n",
    "    \n",
    "    muhat = result.x[0]\n",
    "    \n",
    "    qm = 0.\n",
    "    \n",
    "    for c in range(N):\n",
    "        \n",
    "        if mu > muhat:\n",
    "            qm += -2*(LogLikelihood(mu,n[c],b[c],s[c]) - LogLikelihood(muhat,n[c],b[c],s[c]))\n",
    "        else:\n",
    "            qm += 0.\n",
    "            \n",
    "    return qm"
   ]
  },
  {
   "cell_type": "code",
   "execution_count": 359,
   "id": "482cdd30",
   "metadata": {},
   "outputs": [
    {
     "data": {
      "text/plain": [
       "0.7299993702357597"
      ]
     },
     "execution_count": 359,
     "metadata": {},
     "output_type": "execute_result"
    }
   ],
   "source": [
    "qmObs = GetqmObs(1.4,n,b,s)\n",
    "qmObs"
   ]
  },
  {
   "cell_type": "code",
   "execution_count": 360,
   "id": "fc50abfa",
   "metadata": {},
   "outputs": [
    {
     "data": {
      "text/plain": [
       "1.7943475187190643"
      ]
     },
     "execution_count": 360,
     "metadata": {},
     "output_type": "execute_result"
    }
   ],
   "source": [
    "# Expected\n",
    "qmObsE = GetqmObs(1.4,b,b,s)\n",
    "qmObsE"
   ]
  },
  {
   "cell_type": "code",
   "execution_count": 363,
   "id": "8f30bd4e",
   "metadata": {},
   "outputs": [],
   "source": [
    "def Getqm(mu,Null=True):\n",
    "    \n",
    "    Ntoys = np.zeros(N)\n",
    "   \n",
    "    for c in range(N):\n",
    "        \n",
    "        if Null:\n",
    "            ntoy = np.random.poisson(b[c])\n",
    "        else:\n",
    "            ntoy = np.random.poisson(mu*s[c]+b[c])\n",
    "          \n",
    "        Ntoys[c] = ntoy\n",
    "            \n",
    "    return GetqmObs(mu,Ntoys,b,s)"
   ]
  },
  {
   "cell_type": "code",
   "execution_count": 364,
   "id": "ab59c342",
   "metadata": {},
   "outputs": [],
   "source": [
    "def Sampler(mu,Ntoys = int(3e3)):\n",
    "    \n",
    "    q0 = np.zeros(Ntoys)\n",
    "    q1 = np.zeros(Ntoys)\n",
    "    \n",
    "    for i in tqdm(range(Ntoys)):\n",
    "        q0[i] = Getqm(mu,Null=True)\n",
    "        q1[i] = Getqm(mu,Null=False)\n",
    "        \n",
    "    return q0,q1"
   ]
  },
  {
   "cell_type": "code",
   "execution_count": 365,
   "id": "b596e344",
   "metadata": {},
   "outputs": [
    {
     "name": "stderr",
     "output_type": "stream",
     "text": [
      "100%|████████████████████████████████████████████████| 3000/3000 [00:14<00:00, 202.03it/s]\n"
     ]
    }
   ],
   "source": [
    "q0,q1 = Sampler(1.3)"
   ]
  },
  {
   "cell_type": "code",
   "execution_count": 366,
   "id": "eb9fbdfe",
   "metadata": {},
   "outputs": [
    {
     "data": {
      "image/png": "[encoded data removed]",
      "text/plain": [
       "<Figure size 600x500 with 1 Axes>"
      ]
     },
     "metadata": {},
     "output_type": "display_data"
    }
   ],
   "source": [
    "fig = plt.figure()\n",
    "ax = fig.add_subplot(1,1,1)\n",
    "ax.hist(q0,bins=45,color='green',density=True,label=r'$f(q_{\\mu};0)$')\n",
    "ax.hist(q1,bins=45,color='yellow',density=True,label=r'$f(q_{\\mu};\\mu)$')\n",
    "ax.axvline(x=qmObs,color='k')\n",
    "\n",
    "# Label X\n",
    "ax.set_xlabel(r'$q_{\\mu}$')\n",
    "ax.xaxis.set_label_coords(0.95,-0.07)\n",
    "\n",
    "# Label Y\n",
    "ax.set_ylabel(r'$f(q_{\\mu})$')\n",
    "ax.yaxis.set_label_coords(-0.12,0.85)\n",
    "\n",
    "ax.set_yscale('log')\n",
    "\n",
    "# Ajustar los márgenes automáticamente\n",
    "plt.tight_layout()\n",
    "\n",
    "#Legend\n",
    "ax.legend(loc='upper right',bbox_to_anchor=(1,1),ncol=1,title='')\n",
    "\n",
    "#\n",
    "plt.savefig('Distribution_qm.pdf')"
   ]
  },
  {
   "cell_type": "code",
   "execution_count": 367,
   "id": "d5faa01c",
   "metadata": {},
   "outputs": [],
   "source": [
    "def GetPValue(data,Qobs):\n",
    "\n",
    "    count_above_threshold = np.sum( data >= Qobs )\n",
    "    p_value = count_above_threshold / data.shape[0]\n",
    "\n",
    "    return p_value"
   ]
  },
  {
   "cell_type": "code",
   "execution_count": 368,
   "id": "0340b6e7",
   "metadata": {},
   "outputs": [
    {
     "data": {
      "text/plain": [
       "0.20933333333333334"
      ]
     },
     "execution_count": 368,
     "metadata": {},
     "output_type": "execute_result"
    }
   ],
   "source": [
    "GetPValue(q1,qmObs)"
   ]
  },
  {
   "cell_type": "code",
   "execution_count": 369,
   "id": "b03962bd",
   "metadata": {},
   "outputs": [],
   "source": [
    "# p-value scan \n",
    "def GetCls(mu,Expected = False):\n",
    "    \n",
    "    p_value = np.zeros_like(mu)\n",
    "    \n",
    "    for i in range(mu.shape[0]):\n",
    "        \n",
    "        if Expected:\n",
    "            qmObs = GetqmObs(mu[i],b,b,s)\n",
    "        else:\n",
    "            qmObs = GetqmObs(mu[i],n,b,s)\n",
    "            \n",
    "        q0,q1 = Sampler(mu[i])\n",
    "            \n",
    "        p0 = GetPValue(q0,qmObs)\n",
    "        p1 = GetPValue(q1,qmObs)\n",
    "        \n",
    "        if p0 != 0:\n",
    "            Cls = p1/p0\n",
    "        else:\n",
    "            print('Problemas con la hipotesis nula')\n",
    "            Cls = p1\n",
    "        \n",
    "        p_value[i] = Cls\n",
    "        \n",
    "    return p_value"
   ]
  },
  {
   "cell_type": "code",
   "execution_count": 370,
   "id": "103d8b56",
   "metadata": {},
   "outputs": [
    {
     "name": "stderr",
     "output_type": "stream",
     "text": [
      "100%|████████████████████████████████████████████████| 3000/3000 [00:14<00:00, 201.09it/s]\n",
      "100%|████████████████████████████████████████████████| 3000/3000 [00:15<00:00, 191.17it/s]\n",
      "100%|████████████████████████████████████████████████| 3000/3000 [00:15<00:00, 192.25it/s]\n",
      "100%|████████████████████████████████████████████████| 3000/3000 [00:17<00:00, 167.74it/s]\n",
      "100%|████████████████████████████████████████████████| 3000/3000 [00:15<00:00, 189.18it/s]\n",
      "100%|████████████████████████████████████████████████| 3000/3000 [00:14<00:00, 201.88it/s]\n",
      "100%|████████████████████████████████████████████████| 3000/3000 [00:13<00:00, 216.23it/s]\n",
      "100%|████████████████████████████████████████████████| 3000/3000 [00:14<00:00, 203.58it/s]\n",
      "100%|████████████████████████████████████████████████| 3000/3000 [00:16<00:00, 181.28it/s]\n",
      "100%|████████████████████████████████████████████████| 3000/3000 [00:15<00:00, 193.61it/s]\n",
      "100%|████████████████████████████████████████████████| 3000/3000 [00:15<00:00, 188.90it/s]\n",
      "100%|████████████████████████████████████████████████| 3000/3000 [00:15<00:00, 190.54it/s]\n"
     ]
    }
   ],
   "source": [
    "mu = np.linspace(2,3,6)\n",
    "Op_value = GetCls(mu)\n",
    "Ep_value = GetCls(mu,Expected=True)"
   ]
  },
  {
   "cell_type": "code",
   "execution_count": 371,
   "id": "2fce80aa",
   "metadata": {},
   "outputs": [
    {
     "data": {
      "image/png": "[encoded data removed]",
      "text/plain": [
       "<Figure size 600x500 with 1 Axes>"
      ]
     },
     "metadata": {},
     "output_type": "display_data"
    }
   ],
   "source": [
    "fig = plt.figure()\n",
    "ax = fig.add_subplot(1,1,1)\n",
    "\n",
    "ax.plot(mu,Op_value,color='k',marker='o',label='Observed CLs')\n",
    "ax.plot(mu,Ep_value,'--',color='b',marker='o',label='Expected CLs')\n",
    "ax.axhline(y=0.05,ls='--',color='r')\n",
    "\n",
    "# Label X\n",
    "ax.set_xlabel(r'$\\mu$')\n",
    "ax.xaxis.set_label_coords(0.95,-0.1)\n",
    "ax.set_xlim(mu[0],mu[-1])\n",
    "\n",
    "# Label Y\n",
    "ax.set_ylabel(r'$Pvalue$')\n",
    "ax.yaxis.set_label_coords(-0.1,0.85)\n",
    "\n",
    "# Ajustar los márgenes automáticamente\n",
    "plt.tight_layout()\n",
    "\n",
    "#Legend\n",
    "ax.legend(loc='upper right',bbox_to_anchor=(1,1),ncol=1,title='')\n",
    "\n",
    "#\n",
    "plt.savefig('UpperLimit_qmScan.pdf')"
   ]
  },
  {
   "cell_type": "code",
   "execution_count": 372,
   "id": "02cd4c3d",
   "metadata": {},
   "outputs": [],
   "source": [
    "# Upper limit\n",
    "def GetUpperLimit(mu,Cls,alpha = 0.05):\n",
    "\n",
    "    i = np.where( Cls <= alpha )\n",
    "\n",
    "    if len(i[0]) == 0:\n",
    "        print('--- Cls is never less than alpha --- ')\n",
    "        return 0.\n",
    "    else:\n",
    "        i = i[0][0]\n",
    "\n",
    "    # Saving the indez where pvalues is less than the critical value\n",
    "\n",
    "    x0 = mu[i-1]\n",
    "    x1 = mu[i]\n",
    "    fx0 = Cls[i-1]\n",
    "    fx1 = Cls[i]\n",
    "\n",
    "    # Compute the slope\n",
    "    m = (fx1-fx0)/(x1-x0)\n",
    "\n",
    "    if m == 0:\n",
    "        print('--- Problem with the scan ---')\n",
    "        return 0.\n",
    "\n",
    "    # 1D Polynomial interpolation\n",
    "    mup = (alpha - fx0)/m + x0\n",
    "\n",
    "    return mup"
   ]
  },
  {
   "cell_type": "code",
   "execution_count": 373,
   "id": "e1aa876a",
   "metadata": {},
   "outputs": [
    {
     "data": {
      "text/plain": [
       "2.128126958265447"
      ]
     },
     "execution_count": 373,
     "metadata": {},
     "output_type": "execute_result"
    }
   ],
   "source": [
    "ExpectedLimit = GetUpperLimit(mu,Ep_value)\n",
    "ExpectedLimit"
   ]
  },
  {
   "cell_type": "code",
   "execution_count": 374,
   "id": "48ae6765",
   "metadata": {},
   "outputs": [
    {
     "data": {
      "text/plain": [
       "2.537537287102672"
      ]
     },
     "execution_count": 374,
     "metadata": {},
     "output_type": "execute_result"
    }
   ],
   "source": [
    "ObservedLimit = GetUpperLimit(mu,Op_value)\n",
    "ObservedLimit"
   ]
  },
  {
   "cell_type": "code",
   "execution_count": null,
   "id": "4bf79219",
   "metadata": {},
   "outputs": [],
   "source": []
  }
 ],
 "metadata": {
  "kernelspec": {
   "display_name": "Python 3 (ipykernel)",
   "language": "python",
   "name": "python3"
  },
  "language_info": {
   "codemirror_mode": {
    "name": "ipython",
    "version": 3
   },
   "file_extension": ".py",
   "mimetype": "text/x-python",
   "name": "python",
   "nbconvert_exporter": "python",
   "pygments_lexer": "ipython3",
   "version": "3.11.5"
  }
 },
 "nbformat": 4,
 "nbformat_minor": 5
}
