{
 "cells": [
  {
   "cell_type": "code",
   "execution_count": 1,
   "id": "008b9e24",
   "metadata": {},
   "outputs": [],
   "source": [
    "import numpy as np\n",
    "import matplotlib.pyplot as plt\n",
    "import pandas as pd\n",
    "from matplotlib import rc\n",
    "import matplotlib.ticker as ticker\n",
    "from matplotlib import rc\n",
    "from scipy.stats import norm\n",
    "from scipy.special import factorial\n",
    "from scipy.special import gammaln\n",
    "from tqdm import tqdm\n",
    "import scipy.optimize as spo"
   ]
  },
  {
   "cell_type": "code",
   "execution_count": 2,
   "id": "38acc81b",
   "metadata": {},
   "outputs": [],
   "source": [
    "# Matplotlib customize\n",
    "plt.rcParams['figure.figsize'] = [6,5]\n",
    "plt.rcParams['figure.dpi'] = 100\n",
    "\n",
    "plt.rcParams['axes.titlesize'] = 20\n",
    "plt.rcParams['axes.labelsize'] = 20\n",
    "\n",
    "plt.rcParams['lines.linewidth'] = 1.5\n",
    "plt.rcParams['lines.markersize'] = 4\n",
    "\n",
    "plt.rcParams['xtick.labelsize'] = 12\n",
    "plt.rcParams['ytick.labelsize'] = 12\n",
    "\n",
    "plt.rcParams['legend.fontsize'] = 12\n",
    "plt.rcParams['legend.markerscale'] = 1.5\n",
    "plt.rcParams['legend.borderpad'] = 0.6\n",
    "plt.rcParams['legend.framealpha'] = 0.7"
   ]
  },
  {
   "cell_type": "code",
   "execution_count": 40,
   "id": "173b54cd",
   "metadata": {},
   "outputs": [
    {
     "data": {
      "text/html": [
       "<div>\n",
       "<style scoped>\n",
       "    .dataframe tbody tr th:only-of-type {\n",
       "        vertical-align: middle;\n",
       "    }\n",
       "\n",
       "    .dataframe tbody tr th {\n",
       "        vertical-align: top;\n",
       "    }\n",
       "\n",
       "    .dataframe thead th {\n",
       "        text-align: right;\n",
       "    }\n",
       "</style>\n",
       "<table border=\"1\" class=\"dataframe\">\n",
       "  <thead>\n",
       "    <tr style=\"text-align: right;\">\n",
       "      <th></th>\n",
       "      <th>n</th>\n",
       "      <th>b</th>\n",
       "      <th>s</th>\n",
       "    </tr>\n",
       "  </thead>\n",
       "  <tbody>\n",
       "    <tr>\n",
       "      <th>0</th>\n",
       "      <td>105</td>\n",
       "      <td>100</td>\n",
       "      <td>10</td>\n",
       "    </tr>\n",
       "  </tbody>\n",
       "</table>\n",
       "</div>"
      ],
      "text/plain": [
       "     n    b   s\n",
       "0  105  100  10"
      ]
     },
     "execution_count": 40,
     "metadata": {},
     "output_type": "execute_result"
    }
   ],
   "source": [
    "# Reading channels\n",
    "data = pd.read_csv('datos.csv',sep=',')\n",
    "n = np.array(data.n)\n",
    "b = np.array(data.b)\n",
    "s = np.array(data.s)\n",
    "#n = s+b\n",
    "N = n.shape[0]\n",
    "data"
   ]
  },
  {
   "cell_type": "code",
   "execution_count": 41,
   "id": "4805b992",
   "metadata": {},
   "outputs": [],
   "source": [
    "def LogLikelihood(mu,n,b,s):\n",
    "    \n",
    "    lambda_ = mu*s + b\n",
    "    \n",
    "    log_likelihood = -lambda_ + n * np.log(lambda_) - gammaln(n+1)\n",
    "    \n",
    "    return log_likelihood"
   ]
  },
  {
   "cell_type": "code",
   "execution_count": 42,
   "id": "9cdd6774",
   "metadata": {},
   "outputs": [],
   "source": [
    "def GetJointLogLikelihood(mu,n,b,s):\n",
    "    \n",
    "    JointLog = 0.\n",
    "    \n",
    "    for c in range(N):\n",
    "        JointLog += LogLikelihood(mu,n[c],b[c],s[c])\n",
    "            \n",
    "    return -JointLog"
   ]
  },
  {
   "cell_type": "code",
   "execution_count": 43,
   "id": "6d7100fa",
   "metadata": {},
   "outputs": [],
   "source": [
    "mu = np.linspace(0.,2.,20)\n",
    "LogLike = GetJointLogLikelihood(mu,n,b,s)"
   ]
  },
  {
   "cell_type": "code",
   "execution_count": 44,
   "id": "63f98692",
   "metadata": {},
   "outputs": [
    {
     "data": {
      "text/plain": [
       "[<matplotlib.lines.Line2D at 0x755a88e42910>]"
      ]
     },
     "execution_count": 44,
     "metadata": {},
     "output_type": "execute_result"
    },
    {
     "data": {
      "image/png": "[encoded data removed]",
      "text/plain": [
       "<Figure size 600x500 with 1 Axes>"
      ]
     },
     "metadata": {},
     "output_type": "display_data"
    }
   ],
   "source": [
    "plt.plot(mu,LogLike)"
   ]
  },
  {
   "cell_type": "code",
   "execution_count": 45,
   "id": "bce5fa69",
   "metadata": {},
   "outputs": [
    {
     "name": "stdout",
     "output_type": "stream",
     "text": [
      "Optimization terminated successfully.\n",
      "         Current function value: 3.246712\n",
      "         Iterations: 15\n",
      "         Function evaluations: 30\n",
      "Maximum found\n"
     ]
    }
   ],
   "source": [
    "# Minimizando el log-likelihood\n",
    "mu0 = 1.\n",
    "result = spo.minimize( GetJointLogLikelihood, mu0, args=(n,b,s), options={\"disp\":True}, method='Nelder-Mead' )\n",
    "\n",
    "muhat = 0.\n",
    "if result.success:\n",
    "    print('Maximum found')\n",
    "    muhat = result.x[0]\n",
    "else:\n",
    "    print('Maximum no found - SETPOI')"
   ]
  },
  {
   "cell_type": "code",
   "execution_count": 46,
   "id": "81db5215",
   "metadata": {},
   "outputs": [
    {
     "data": {
      "text/plain": [
       "0.49999999999999956"
      ]
     },
     "execution_count": 46,
     "metadata": {},
     "output_type": "execute_result"
    }
   ],
   "source": [
    "muhat"
   ]
  },
  {
   "cell_type": "code",
   "execution_count": 47,
   "id": "67641245",
   "metadata": {},
   "outputs": [],
   "source": [
    "def GetqmObs(mu,n,b,s):\n",
    "\n",
    "    mu0 = 1.\n",
    "    result = spo.minimize( GetJointLogLikelihood, mu0, args=(n,b,s), options={\"disp\":False}, method='Nelder-Mead' )\n",
    "    \n",
    "    muhat = result.x[0]\n",
    "    \n",
    "    qm = 0.\n",
    "    \n",
    "    for c in range(N):\n",
    "        \n",
    "        if mu > muhat:\n",
    "            qm += -2*(LogLikelihood(mu,n[c],b[c],s[c]) - LogLikelihood(muhat,n[c],b[c],s[c]))\n",
    "        else:\n",
    "            qm += 0.\n",
    "            \n",
    "    return qm"
   ]
  },
  {
   "cell_type": "code",
   "execution_count": 48,
   "id": "0220bb57",
   "metadata": {},
   "outputs": [
    {
     "data": {
      "text/plain": [
       "0.23079671667244384"
      ]
     },
     "execution_count": 48,
     "metadata": {},
     "output_type": "execute_result"
    }
   ],
   "source": [
    "qmObs = GetqmObs(1.0,n,b,s)\n",
    "qmObs"
   ]
  },
  {
   "cell_type": "code",
   "execution_count": 49,
   "id": "ffaf24b7",
   "metadata": {},
   "outputs": [],
   "source": [
    "mu = np.linspace(0.,2.,20)\n",
    "qmObsEV = np.zeros_like(mu)\n",
    "for i in range(mu.shape[0]):\n",
    "    qmObsEV[i] = GetqmObs(mu[i],n,b,s) "
   ]
  },
  {
   "cell_type": "code",
   "execution_count": 50,
   "id": "bfc7dde5",
   "metadata": {},
   "outputs": [
    {
     "data": {
      "image/png": "[encoded data removed]",
      "text/plain": [
       "<Figure size 600x500 with 1 Axes>"
      ]
     },
     "metadata": {},
     "output_type": "display_data"
    }
   ],
   "source": [
    "fig = plt.figure()\n",
    "ax = fig.add_subplot(1,1,1)\n",
    "ax.plot(mu,qmObsEV,color='k',label='Profile Log-Likelihood')\n",
    "\n",
    "# Label X\n",
    "ax.set_xlabel(r'$\\mu$')\n",
    "ax.xaxis.set_label_coords(0.95,-0.07)\n",
    "\n",
    "# Label Y\n",
    "ax.set_ylabel(r'$q_{\\mu}$')\n",
    "ax.yaxis.set_label_coords(-0.12,0.95)\n",
    "\n",
    "# Ajustar los márgenes automáticamente\n",
    "plt.tight_layout()\n",
    "\n",
    "#Legend\n",
    "ax.legend(loc='upper right',bbox_to_anchor=(1,1),ncol=1,title='')\n",
    "\n",
    "#\n",
    "plt.savefig('qm_plot.pdf')"
   ]
  },
  {
   "cell_type": "code",
   "execution_count": null,
   "id": "b3f9cd30",
   "metadata": {},
   "outputs": [],
   "source": []
  },
  {
   "cell_type": "code",
   "execution_count": 51,
   "id": "18568b08",
   "metadata": {},
   "outputs": [],
   "source": [
    "def Getqm(mu,Null=True):\n",
    "    \n",
    "    Ntoys = np.zeros(N)\n",
    "   \n",
    "    for c in range(N):\n",
    "        \n",
    "        if Null:\n",
    "            ntoy = np.random.poisson(b[c])\n",
    "        else:\n",
    "            ntoy = np.random.poisson(mu*s[c]+b[c])\n",
    "          \n",
    "        Ntoys[c] = ntoy\n",
    "            \n",
    "    return GetqmObs(mu,Ntoys,b,s)"
   ]
  },
  {
   "cell_type": "code",
   "execution_count": 52,
   "id": "2db26824",
   "metadata": {},
   "outputs": [],
   "source": [
    "def Sampler(mu,Ntoys = int(1e3)):\n",
    "    \n",
    "    q0 = np.zeros(Ntoys)\n",
    "    #q1 = np.zeros(Ntoys)\n",
    "    \n",
    "    for i in tqdm(range(Ntoys)):\n",
    "        q0[i] = Getqm(mu,Null=True)\n",
    "    #    q1[i] = Getqm(mu,Null=False)\n",
    "        \n",
    "    return q0"
   ]
  },
  {
   "cell_type": "code",
   "execution_count": 53,
   "id": "2a75052a",
   "metadata": {},
   "outputs": [
    {
     "name": "stderr",
     "output_type": "stream",
     "text": [
      "100%|████████████████████████████████████████████████| 1000/1000 [00:02<00:00, 414.16it/s]\n"
     ]
    }
   ],
   "source": [
    "q0 = Sampler(1.0)"
   ]
  },
  {
   "cell_type": "code",
   "execution_count": 54,
   "id": "5914b95e",
   "metadata": {},
   "outputs": [
    {
     "data": {
      "image/png": "[encoded data removed]",
      "text/plain": [
       "<Figure size 600x500 with 1 Axes>"
      ]
     },
     "metadata": {},
     "output_type": "display_data"
    }
   ],
   "source": [
    "fig = plt.figure()\n",
    "ax = fig.add_subplot(1,1,1)\n",
    "ax.hist(q0,bins=35,color='green',density=True,label=r'$f(q_{\\mu};0)$')\n",
    "#ax.hist(q1,bins=35,color='yellow',density=True,label=r'$f(q_{\\mu};\\mu)$')\n",
    "ax.axvline(x=qmObs,color='k',label=r'$q_{\\mu,obs}$')\n",
    "\n",
    "# Label X\n",
    "ax.set_xlabel(r'$q_{\\mu}$')\n",
    "ax.xaxis.set_label_coords(0.95,-0.07)\n",
    "\n",
    "# Label Y\n",
    "ax.set_ylabel(r'$f(q_{\\mu})$')\n",
    "ax.yaxis.set_label_coords(-0.12,0.85)\n",
    "\n",
    "ax.set_yscale('log')\n",
    "\n",
    "# Ajustar los márgenes automáticamente\n",
    "plt.tight_layout()\n",
    "\n",
    "#Legend\n",
    "ax.legend(loc='upper right',bbox_to_anchor=(1,1),ncol=1,title='')\n",
    "\n",
    "#\n",
    "plt.savefig('Distribution_qm.pdf')"
   ]
  },
  {
   "cell_type": "code",
   "execution_count": 55,
   "id": "108a0723",
   "metadata": {},
   "outputs": [],
   "source": [
    "def GetPValue(data,Qobs):\n",
    "\n",
    "    count_above_threshold = np.sum( data >= Qobs )\n",
    "    p_value = count_above_threshold / data.shape[0]\n",
    "\n",
    "    return p_value"
   ]
  },
  {
   "cell_type": "code",
   "execution_count": 56,
   "id": "f48bcfb7",
   "metadata": {},
   "outputs": [
    {
     "name": "stdout",
     "output_type": "stream",
     "text": [
      "0.724\n"
     ]
    }
   ],
   "source": [
    "p0 = GetPValue(q0,qmObs)\n",
    "print(p0)"
   ]
  },
  {
   "cell_type": "code",
   "execution_count": 57,
   "id": "25e80efa",
   "metadata": {},
   "outputs": [
    {
     "data": {
      "text/plain": [
       "0.5947658468016781"
      ]
     },
     "execution_count": 57,
     "metadata": {},
     "output_type": "execute_result"
    }
   ],
   "source": [
    "Significancia = np.abs(norm.ppf(p0))\n",
    "Significancia"
   ]
  },
  {
   "cell_type": "code",
   "execution_count": 58,
   "id": "5267fdd5",
   "metadata": {},
   "outputs": [
    {
     "data": {
      "text/plain": [
       "0.9534625892455924"
      ]
     },
     "execution_count": 58,
     "metadata": {},
     "output_type": "execute_result"
    }
   ],
   "source": [
    "# Deberia ser similiar a \n",
    "S = np.sum(s)\n",
    "B = np.sum(b)\n",
    "S/np.sqrt(B+S)"
   ]
  },
  {
   "cell_type": "code",
   "execution_count": null,
   "id": "f40459e8",
   "metadata": {},
   "outputs": [],
   "source": []
  }
 ],
 "metadata": {
  "kernelspec": {
   "display_name": "Python 3 (ipykernel)",
   "language": "python",
   "name": "python3"
  },
  "language_info": {
   "codemirror_mode": {
    "name": "ipython",
    "version": 3
   },
   "file_extension": ".py",
   "mimetype": "text/x-python",
   "name": "python",
   "nbconvert_exporter": "python",
   "pygments_lexer": "ipython3",
   "version": "3.11.5"
  }
 },
 "nbformat": 4,
 "nbformat_minor": 5
}
