{
 "cells": [
  {
   "cell_type": "code",
   "execution_count": 23,
   "id": "38f7ef6f-84e4-4fcb-b705-1f6ce1da938b",
   "metadata": {},
   "outputs": [],
   "source": [
    "import numpy as np\n",
    "import matplotlib.pyplot as plt\n",
    "from matplotlib import rc\n",
    "import matplotlib.ticker as ticker\n",
    "import pandas as pd\n",
    "import glob\n",
    "import re\n",
    "# Statistics\n",
    "from scipy.stats import norm\n",
    "from scipy.special import factorial\n",
    "from scipy.special import gammaln\n",
    "import scipy.optimize as spo\n",
    "# Parallel\n",
    "from concurrent.futures import ProcessPoolExecutor, as_completed\n",
    "from tqdm import tqdm"
   ]
  },
  {
   "cell_type": "code",
   "execution_count": 24,
   "id": "f45085f3-27ce-4698-8fd4-4c91f1e31ef2",
   "metadata": {},
   "outputs": [],
   "source": [
    "# Matplotlib customize\n",
    "plt.rcParams['figure.figsize'] = [6,5]\n",
    "plt.rcParams['figure.dpi'] = 100\n",
    "\n",
    "plt.rcParams['axes.titlesize'] = 20\n",
    "plt.rcParams['axes.labelsize'] = 20\n",
    "\n",
    "plt.rcParams['lines.linewidth'] = 1.5\n",
    "plt.rcParams['lines.markersize'] = 4\n",
    "\n",
    "plt.rcParams['xtick.labelsize'] = 12\n",
    "plt.rcParams['ytick.labelsize'] = 12\n",
    "\n",
    "plt.rcParams['legend.fontsize'] = 12\n",
    "plt.rcParams['legend.markerscale'] = 1.5\n",
    "plt.rcParams['legend.borderpad'] = 0.6\n",
    "plt.rcParams['legend.framealpha'] = 0.7"
   ]
  },
  {
   "cell_type": "code",
   "execution_count": 25,
   "id": "f941f732-fbce-44c4-b0ec-155ee580f06d",
   "metadata": {},
   "outputs": [
    {
     "name": "stdout",
     "output_type": "stream",
     "text": [
      "[100. 106. 112. 118. 124. 130. 136. 142. 148. 154. 160.]\n"
     ]
    }
   ],
   "source": [
    "Data = []\n",
    "Mass = np.array([])\n",
    "\n",
    "for f in glob.glob('Data/*.csv'):\n",
    "    #print(f)\n",
    "    \n",
    "    data = pd.read_csv(f,sep=',')\n",
    "    Data.append(data)\n",
    "\n",
    "    # Extraer los últimos tres números del nombre del archivo\n",
    "    match = re.search(r'(\\d{3})\\.csv$', f)\n",
    "    if match:\n",
    "        Mass = np.append(Mass, float(match.group(1)))\n",
    "\n",
    "# Emparejar los numeros con los dataframes\n",
    "paired = list(zip(Mass,Data))\n",
    "\n",
    "# Ordenar los pares segun las masas\n",
    "Mass_sorted = sorted(paired, key=lambda x: x[0])\n",
    "\n",
    "# Separar de nuevo los numeros y los dataFrames\n",
    "Mass_sorted, Data = zip(*Mass_sorted)\n",
    "\n",
    "# Numpy array\n",
    "Mass = np.array(Mass_sorted)\n",
    "\n",
    "print(Mass)"
   ]
  },
  {
   "cell_type": "code",
   "execution_count": 52,
   "id": "ce95d817-bc33-4226-93fe-c38311c905fd",
   "metadata": {},
   "outputs": [],
   "source": [
    "# Reading channels\n",
    "data = Data[4]\n",
    "labels = list(data.keys())\n",
    "n = np.array(data[labels[0]])\n",
    "b = np.array(data[labels[1]])\n",
    "s = np.array(data[labels[2]])\n",
    "# Para significancia debes hacer n = s+b\n",
    "N = n.shape[0]"
   ]
  },
  {
   "cell_type": "code",
   "execution_count": 53,
   "id": "ead7860b-0289-4a1d-a873-8c498e3ab409",
   "metadata": {},
   "outputs": [],
   "source": [
    "def LogLikelihood(mu,n,b,s):\n",
    "    \n",
    "    lambda_ = mu*s + b\n",
    "    \n",
    "    log_likelihood = -lambda_ + n * np.log(lambda_) - gammaln(n+1)\n",
    "    \n",
    "    return log_likelihood"
   ]
  },
  {
   "cell_type": "code",
   "execution_count": 54,
   "id": "f5f4e40f-385b-4290-ae65-447ba820b28d",
   "metadata": {},
   "outputs": [],
   "source": [
    "def GetJointLogLikelihood(mu,n,b,s):\n",
    "    \n",
    "    JointLog = 0.\n",
    "    \n",
    "    for c in range(N):\n",
    "        JointLog += LogLikelihood(mu,n[c],b[c],s[c])\n",
    "            \n",
    "    return -JointLog"
   ]
  },
  {
   "cell_type": "code",
   "execution_count": 55,
   "id": "11d2db1d-d22f-4ab5-bc51-629d6cb8383c",
   "metadata": {},
   "outputs": [],
   "source": [
    "mu = np.linspace(0.,2.,20)\n",
    "LogLike = GetJointLogLikelihood(mu,n,b,s)"
   ]
  },
  {
   "cell_type": "code",
   "execution_count": 56,
   "id": "5f7a911b-f7b8-4e6c-b0f0-3ef0a996e134",
   "metadata": {},
   "outputs": [
    {
     "data": {
      "text/plain": [
       "[<matplotlib.lines.Line2D at 0x78679da2ff50>]"
      ]
     },
     "execution_count": 56,
     "metadata": {},
     "output_type": "execute_result"
    },
    {
     "data": {
      "image/png": "[encoded data removed]",
      "text/plain": [
       "<Figure size 600x500 with 1 Axes>"
      ]
     },
     "metadata": {},
     "output_type": "display_data"
    }
   ],
   "source": [
    "plt.plot(mu,LogLike)"
   ]
  },
  {
   "cell_type": "code",
   "execution_count": 57,
   "id": "49228ca8-074a-4335-a9de-abfc2326373b",
   "metadata": {},
   "outputs": [
    {
     "name": "stdout",
     "output_type": "stream",
     "text": [
      "Optimization terminated successfully.\n",
      "         Current function value: 106.135377\n",
      "         Iterations: 10\n",
      "         Function evaluations: 20\n",
      "Maximum found\n"
     ]
    },
    {
     "data": {
      "text/plain": [
       "0.9865234375"
      ]
     },
     "execution_count": 57,
     "metadata": {},
     "output_type": "execute_result"
    }
   ],
   "source": [
    "# Minimizando el log-likelihood\n",
    "mu0 = 1.\n",
    "result = spo.minimize( GetJointLogLikelihood, mu0, args=(n,b,s), options={\"disp\":True}, method='Nelder-Mead' )\n",
    "\n",
    "muhat = 0.\n",
    "if result.success:\n",
    "    print('Maximum found')\n",
    "    muhat = result.x[0]\n",
    "else:\n",
    "    print('Maximum no found - SETPOI')\n",
    "\n",
    "muhat"
   ]
  },
  {
   "cell_type": "code",
   "execution_count": 58,
   "id": "b5d65311-22fb-43e4-86d4-0d11d6dc2767",
   "metadata": {},
   "outputs": [],
   "source": [
    "def GetqmObs(mu,n,b,s):\n",
    "\n",
    "    mu0 = 1.\n",
    "    result = spo.minimize( GetJointLogLikelihood, mu0, args=(n,b,s), options={\"disp\":False}, method='Nelder-Mead' )\n",
    "    \n",
    "    muhat = result.x[0]\n",
    "    \n",
    "    qm = 0.\n",
    "    \n",
    "    for c in range(N):\n",
    "        \n",
    "        if muhat > 0.:\n",
    "            qm += -2*(LogLikelihood(mu,n[c],b[c],s[c]) - LogLikelihood(muhat,n[c],b[c],s[c]))\n",
    "        else:\n",
    "            qm += 0.\n",
    "            \n",
    "    return qm"
   ]
  },
  {
   "cell_type": "code",
   "execution_count": 59,
   "id": "c6730126-1e79-426a-9b6b-cc11b2123f2e",
   "metadata": {},
   "outputs": [
    {
     "data": {
      "text/plain": [
       "20.416131414338338"
      ]
     },
     "execution_count": 59,
     "metadata": {},
     "output_type": "execute_result"
    }
   ],
   "source": [
    "# Evaluamos la fortaleza de señal en mu=0\n",
    "qmObs = GetqmObs(0.,n,b,s)\n",
    "qmObs"
   ]
  },
  {
   "cell_type": "code",
   "execution_count": 60,
   "id": "9372159d-e9ae-47ce-aae9-20b61cf24ef1",
   "metadata": {},
   "outputs": [],
   "source": [
    "def Getqm(mu,Null=True):\n",
    "    \n",
    "    Ntoys = np.zeros(N)\n",
    "   \n",
    "    for c in range(N):\n",
    "        \n",
    "        if Null:\n",
    "            ntoy = np.random.poisson(b[c])\n",
    "        else:\n",
    "            ntoy = np.random.poisson(mu*s[c]+b[c])\n",
    "          \n",
    "        Ntoys[c] = ntoy\n",
    "            \n",
    "    return GetqmObs(mu,Ntoys,b,s)"
   ]
  },
  {
   "cell_type": "code",
   "execution_count": 128,
   "id": "9d9d2845-fc52-466c-ae03-7b048ab2f515",
   "metadata": {},
   "outputs": [],
   "source": [
    "def Sampler(mu,Ntoys = int(1e3)):\n",
    "    \n",
    "    q0 = np.zeros(Ntoys)\n",
    "\n",
    "    for i in range(Ntoys):\n",
    "        q0[i] = Getqm(mu,Null=True)\n",
    "        \n",
    "    return q0"
   ]
  },
  {
   "cell_type": "code",
   "execution_count": 129,
   "id": "ddb17238-a0c2-4e51-be5f-a1249bf73c57",
   "metadata": {},
   "outputs": [],
   "source": [
    "q0 = Sampler(0.)"
   ]
  },
  {
   "cell_type": "code",
   "execution_count": 130,
   "id": "3a508463-6042-440c-8d1c-c8119dfe0c86",
   "metadata": {},
   "outputs": [
    {
     "data": {
      "text/plain": [
       "<matplotlib.legend.Legend at 0x78678cbc44d0>"
      ]
     },
     "execution_count": 130,
     "metadata": {},
     "output_type": "execute_result"
    },
    {
     "data": {
      "image/png": "[encoded data removed]",
      "text/plain": [
       "<Figure size 600x500 with 1 Axes>"
      ]
     },
     "metadata": {},
     "output_type": "display_data"
    }
   ],
   "source": [
    "fig = plt.figure()\n",
    "ax = fig.add_subplot(1,1,1)\n",
    "ax.hist(q0,bins=35,color='green',density=True,label=r'$f(q_{0};0)$')\n",
    "ax.axvline(x=qmObs,color='k',label=r'$q_{0,obs}$')\n",
    "\n",
    "# Label X\n",
    "ax.set_xlabel(r'$q_{0}$')\n",
    "ax.xaxis.set_label_coords(0.95,-0.07)\n",
    "\n",
    "# Label Y\n",
    "ax.set_ylabel(r'$f(q_{0})$')\n",
    "ax.yaxis.set_label_coords(-0.12,0.85)\n",
    "\n",
    "ax.set_yscale('log')\n",
    "\n",
    "# Ajustar los márgenes automáticamente\n",
    "plt.tight_layout()\n",
    "\n",
    "#Legend\n",
    "ax.legend(loc='upper right',bbox_to_anchor=(1,1),ncol=1,title='')\n",
    "\n",
    "#\n",
    "#plt.savefig('Distribution_q0.pdf')"
   ]
  },
  {
   "cell_type": "code",
   "execution_count": 142,
   "id": "fa6f22ec-f8b9-4313-9727-ef5745aaddc4",
   "metadata": {},
   "outputs": [],
   "source": [
    "def GetPValue(data,Qobs):\n",
    "\n",
    "    count_above_threshold = np.sum( data >= Qobs )\n",
    "    p_value = count_above_threshold / data.shape[0]\n",
    "\n",
    "    return p_value"
   ]
  },
  {
   "cell_type": "code",
   "execution_count": 143,
   "id": "55323652",
   "metadata": {},
   "outputs": [],
   "source": [
    "data = Data[4]\n",
    "labels = list(data.keys())\n",
    "n = np.array(data[labels[0]])\n",
    "b = np.array(data[labels[1]])\n",
    "s = np.array(data[labels[2]])\n",
    "# Para significancia debes hacer n = s+b\n",
    "N = n.shape[0]"
   ]
  },
  {
   "cell_type": "code",
   "execution_count": 145,
   "id": "7a7391e8",
   "metadata": {},
   "outputs": [
    {
     "name": "stdout",
     "output_type": "stream",
     "text": [
      "0.0\n"
     ]
    }
   ],
   "source": [
    "p0 = GetPValue(q0,qmObs)\n",
    "#p1 = GetPValue(q1,Qobs,Null = False)\n",
    "print(p0)"
   ]
  },
  {
   "cell_type": "code",
   "execution_count": null,
   "id": "77473a8a",
   "metadata": {},
   "outputs": [],
   "source": []
  },
  {
   "cell_type": "code",
   "execution_count": 150,
   "id": "4264bd9d",
   "metadata": {},
   "outputs": [],
   "source": [
    "def GetPvalue_for_data(i,data):\n",
    "\n",
    "  #  print(data)\n",
    "    labels = list(data.keys())\n",
    "    n = np.array(data[labels[0]])\n",
    "    b = np.array(data[labels[1]])\n",
    "    s = np.array(data[labels[2]])\n",
    "\n",
    "    # Signal strength debe ser 0\n",
    "    qmObs = GetqmObs(0,n,b,s)           \n",
    "    q0  = Sampler(0.)\n",
    "\n",
    "    p0 = GetPValue(q0,qmObs)    \n",
    "    \n",
    "    return i,p0"
   ]
  },
  {
   "cell_type": "code",
   "execution_count": 151,
   "id": "7b832a1c-b163-4528-8136-dc8ff70884d4",
   "metadata": {},
   "outputs": [],
   "source": [
    "def GetPvalue_Parallel(Data, num_processors=None):\n",
    "    \n",
    "    p_value = np.zeros_like(Mass)\n",
    "\n",
    "    with ProcessPoolExecutor(max_workers=num_processors) as executor:\n",
    "\n",
    "        futures = np.array([])\n",
    "\n",
    "        # Crear las tareas (futuras) para cada valor de mu\n",
    "        for i in range(len(Data)):\n",
    "            futures = np.append(futures,executor.submit(GetPvalue_for_data, i, Data[i]))\n",
    "\n",
    "        # Recolectar los resultados a medida que se completan\n",
    "        for future in tqdm(as_completed(futures), total=len(futures)):\n",
    "            i, p = future.result()\n",
    "            p_value[i] = p\n",
    "\n",
    "    return p_value"
   ]
  },
  {
   "cell_type": "code",
   "execution_count": 152,
   "id": "b623f514-4386-43e1-96e2-7a22b5ff7cca",
   "metadata": {},
   "outputs": [],
   "source": [
    "# Estructura de datos para guardar\n",
    "MatrizDatos = np.zeros((Mass.shape[0],2))\n",
    "MatrizDatos[:,0] = Mass\n",
    "#MatrizDatos"
   ]
  },
  {
   "cell_type": "code",
   "execution_count": 153,
   "id": "9845b470-a68a-4165-90cd-30508396367a",
   "metadata": {},
   "outputs": [
    {
     "name": "stderr",
     "output_type": "stream",
     "text": [
      "100%|█████████████████████████████████████████████████████████████████████████████████████████████| 11/11 [00:28<00:00,  2.61s/it]"
     ]
    },
    {
     "name": "stdout",
     "output_type": "stream",
     "text": [
      "[1.    1.    0.467 0.002 0.    0.006 0.438 1.    0.25  0.157 0.418]\n"
     ]
    },
    {
     "name": "stderr",
     "output_type": "stream",
     "text": [
      "\n"
     ]
    }
   ],
   "source": [
    "p_value = GetPvalue_Parallel(Data,num_processors=8)\n",
    "print(p_value)\n",
    "MatrizDatos[:,1] = p_value"
   ]
  },
  {
   "cell_type": "code",
   "execution_count": 154,
   "id": "1f2c7c3a-74c1-4006-9ce0-ebccd76c76d0",
   "metadata": {},
   "outputs": [
    {
     "data": {
      "text/html": [
       "<div>\n",
       "<style scoped>\n",
       "    .dataframe tbody tr th:only-of-type {\n",
       "        vertical-align: middle;\n",
       "    }\n",
       "\n",
       "    .dataframe tbody tr th {\n",
       "        vertical-align: top;\n",
       "    }\n",
       "\n",
       "    .dataframe thead th {\n",
       "        text-align: right;\n",
       "    }\n",
       "</style>\n",
       "<table border=\"1\" class=\"dataframe\">\n",
       "  <thead>\n",
       "    <tr style=\"text-align: right;\">\n",
       "      <th></th>\n",
       "      <th>Mass</th>\n",
       "      <th>Local-p0</th>\n",
       "    </tr>\n",
       "  </thead>\n",
       "  <tbody>\n",
       "    <tr>\n",
       "      <th>0</th>\n",
       "      <td>100.0</td>\n",
       "      <td>1.000</td>\n",
       "    </tr>\n",
       "    <tr>\n",
       "      <th>1</th>\n",
       "      <td>106.0</td>\n",
       "      <td>1.000</td>\n",
       "    </tr>\n",
       "    <tr>\n",
       "      <th>2</th>\n",
       "      <td>112.0</td>\n",
       "      <td>0.467</td>\n",
       "    </tr>\n",
       "    <tr>\n",
       "      <th>3</th>\n",
       "      <td>118.0</td>\n",
       "      <td>0.002</td>\n",
       "    </tr>\n",
       "    <tr>\n",
       "      <th>4</th>\n",
       "      <td>124.0</td>\n",
       "      <td>0.000</td>\n",
       "    </tr>\n",
       "    <tr>\n",
       "      <th>5</th>\n",
       "      <td>130.0</td>\n",
       "      <td>0.006</td>\n",
       "    </tr>\n",
       "    <tr>\n",
       "      <th>6</th>\n",
       "      <td>136.0</td>\n",
       "      <td>0.438</td>\n",
       "    </tr>\n",
       "    <tr>\n",
       "      <th>7</th>\n",
       "      <td>142.0</td>\n",
       "      <td>1.000</td>\n",
       "    </tr>\n",
       "    <tr>\n",
       "      <th>8</th>\n",
       "      <td>148.0</td>\n",
       "      <td>0.250</td>\n",
       "    </tr>\n",
       "    <tr>\n",
       "      <th>9</th>\n",
       "      <td>154.0</td>\n",
       "      <td>0.157</td>\n",
       "    </tr>\n",
       "    <tr>\n",
       "      <th>10</th>\n",
       "      <td>160.0</td>\n",
       "      <td>0.418</td>\n",
       "    </tr>\n",
       "  </tbody>\n",
       "</table>\n",
       "</div>"
      ],
      "text/plain": [
       "     Mass  Local-p0\n",
       "0   100.0     1.000\n",
       "1   106.0     1.000\n",
       "2   112.0     0.467\n",
       "3   118.0     0.002\n",
       "4   124.0     0.000\n",
       "5   130.0     0.006\n",
       "6   136.0     0.438\n",
       "7   142.0     1.000\n",
       "8   148.0     0.250\n",
       "9   154.0     0.157\n",
       "10  160.0     0.418"
      ]
     },
     "execution_count": 154,
     "metadata": {},
     "output_type": "execute_result"
    }
   ],
   "source": [
    "DataFinal = pd.DataFrame(MatrizDatos)\n",
    "DataFinal.columns = ['Mass','Local-p0']\n",
    "DataFinal"
   ]
  },
  {
   "cell_type": "code",
   "execution_count": 155,
   "id": "352e834a-5086-42c3-8e17-6c6d2c7b9712",
   "metadata": {},
   "outputs": [],
   "source": [
    "DataFinal.to_csv('LocalPvalue.csv',index=False)"
   ]
  },
  {
   "cell_type": "code",
   "execution_count": 158,
   "id": "fe319430-4487-4a34-87a0-6816e9cd50f1",
   "metadata": {},
   "outputs": [
    {
     "data": {
      "image/png": "[encoded data removed]",
      "text/plain": [
       "<Figure size 600x500 with 1 Axes>"
      ]
     },
     "metadata": {},
     "output_type": "display_data"
    }
   ],
   "source": [
    "fig = plt.figure()\n",
    "ax = fig.add_subplot(1,1,1)\n",
    "ax.plot(DataFinal['Mass'],DataFinal['Local-p0'],color='k',label=r'Local $p_{0}$')\n",
    "\n",
    "#ax.axvline(x=qmObs,color='k',label=r'$q_{0,obs}$')\n",
    "\n",
    "# Label X\n",
    "ax.set_xlabel(r'$M(H)[GeV]$')\n",
    "ax.xaxis.set_label_coords(0.85,-0.07)\n",
    "\n",
    "# Label Y\n",
    "ax.set_ylabel(r'$p_{0}$')\n",
    "ax.yaxis.set_label_coords(-0.12,0.85)\n",
    "\n",
    "#ax.set_yscale('log')\n",
    "\n",
    "# Ajustar los márgenes automáticamente\n",
    "plt.tight_layout()\n",
    "\n",
    "#Legend\n",
    "ax.legend(loc='upper right',bbox_to_anchor=(1,1),ncol=1,title='')\n",
    "\n",
    "#\n",
    "plt.savefig('LocalP0.pdf')"
   ]
  },
  {
   "cell_type": "code",
   "execution_count": null,
   "id": "67c673e3-8c5e-473f-bfdc-805b133c3f97",
   "metadata": {},
   "outputs": [],
   "source": []
  }
 ],
 "metadata": {
  "kernelspec": {
   "display_name": "Python 3 (ipykernel)",
   "language": "python",
   "name": "python3"
  },
  "language_info": {
   "codemirror_mode": {
    "name": "ipython",
    "version": 3
   },
   "file_extension": ".py",
   "mimetype": "text/x-python",
   "name": "python",
   "nbconvert_exporter": "python",
   "pygments_lexer": "ipython3",
   "version": "3.11.5"
  }
 },
 "nbformat": 4,
 "nbformat_minor": 5
}
