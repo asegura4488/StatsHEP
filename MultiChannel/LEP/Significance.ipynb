{
 "cells": [
  {
   "cell_type": "code",
   "execution_count": 314,
   "id": "38f7ef6f-84e4-4fcb-b705-1f6ce1da938b",
   "metadata": {},
   "outputs": [],
   "source": [
    "import numpy as np\n",
    "import matplotlib.pyplot as plt\n",
    "from matplotlib import rc\n",
    "import matplotlib.ticker as ticker\n",
    "import pandas as pd\n",
    "import glob\n",
    "import re\n",
    "# Statistics\n",
    "from scipy.stats import norm\n",
    "from scipy.special import factorial\n",
    "# Parallel\n",
    "from concurrent.futures import ProcessPoolExecutor, as_completed\n",
    "from tqdm import tqdm"
   ]
  },
  {
   "cell_type": "code",
   "execution_count": 315,
   "id": "f45085f3-27ce-4698-8fd4-4c91f1e31ef2",
   "metadata": {},
   "outputs": [],
   "source": [
    "# Matplotlib customize\n",
    "plt.rcParams['figure.figsize'] = [6,5]\n",
    "plt.rcParams['figure.dpi'] = 100\n",
    "\n",
    "plt.rcParams['axes.titlesize'] = 20\n",
    "plt.rcParams['axes.labelsize'] = 20\n",
    "\n",
    "plt.rcParams['lines.linewidth'] = 1.5\n",
    "plt.rcParams['lines.markersize'] = 4\n",
    "\n",
    "plt.rcParams['xtick.labelsize'] = 12\n",
    "plt.rcParams['ytick.labelsize'] = 12\n",
    "\n",
    "plt.rcParams['legend.fontsize'] = 12\n",
    "plt.rcParams['legend.markerscale'] = 1.5\n",
    "plt.rcParams['legend.borderpad'] = 0.6\n",
    "plt.rcParams['legend.framealpha'] = 0.7"
   ]
  },
  {
   "cell_type": "code",
   "execution_count": 316,
   "id": "f941f732-fbce-44c4-b0ec-155ee580f06d",
   "metadata": {},
   "outputs": [
    {
     "name": "stdout",
     "output_type": "stream",
     "text": [
      "[100. 106. 112. 118. 124. 130. 136. 142. 148. 154. 160.]\n"
     ]
    }
   ],
   "source": [
    "Data = []\n",
    "Mass = np.array([])\n",
    "\n",
    "for f in glob.glob('Data/*.csv'):\n",
    "    #print(f)\n",
    "    \n",
    "    data = pd.read_csv(f,sep=',')\n",
    "    Data.append(data)\n",
    "\n",
    "    # Extraer los últimos tres números del nombre del archivo\n",
    "    match = re.search(r'(\\d{3})\\.csv$', f)\n",
    "    if match:\n",
    "        Mass = np.append(Mass, float(match.group(1)))\n",
    "\n",
    "# Emparejar los numeros con los dataframes\n",
    "paired = list(zip(Mass,Data))\n",
    "\n",
    "# Ordenar los pares segun las masas\n",
    "Mass_sorted = sorted(paired, key=lambda x: x[0])\n",
    "\n",
    "# Separar de nuevo los numeros y los dataFrames\n",
    "Mass_sorted, Data = zip(*Mass_sorted)\n",
    "\n",
    "# Numpy array\n",
    "Mass = np.array(Mass_sorted)\n",
    "\n",
    "print(Mass)"
   ]
  },
  {
   "cell_type": "code",
   "execution_count": 317,
   "id": "9b379612-724e-493c-9229-c57739659f3e",
   "metadata": {},
   "outputs": [],
   "source": [
    "# Estimator definition\n",
    "def GetLnQ(n,b,s,mu):\n",
    "    return 2*(mu*s - n*np.log( 1 + (mu*s/b) ))"
   ]
  },
  {
   "cell_type": "code",
   "execution_count": 318,
   "id": "a4b807b3-5754-48b1-920b-111f762a4277",
   "metadata": {},
   "outputs": [],
   "source": [
    "def GetJointLnQ(LnQ,mu,Null=True):\n",
    "\n",
    "    Q = 0.\n",
    "\n",
    "    for c in range(N):\n",
    "\n",
    "        if Null:\n",
    "            ntoy = np.random.poisson(b[c])\n",
    "        else:\n",
    "            ntoy = np.random.poisson( mu*s[c] + b[c] )\n",
    "\n",
    "        Q += LnQ(ntoy,b[c],s[c],mu)\n",
    "\n",
    "    return Q"
   ]
  },
  {
   "cell_type": "code",
   "execution_count": 319,
   "id": "64ff7b7c-c679-4747-95b9-485c662c76e5",
   "metadata": {},
   "outputs": [],
   "source": [
    "def GetObsJointLnQ(LnQ,mu,Expected = True):\n",
    "\n",
    "    Q = 0.\n",
    "    \n",
    "    for c in range(N):\n",
    "\n",
    "        if Expected: # Observed events are the expected background\n",
    "            Q += LnQ( b[c], b[c], s[c], mu )\n",
    "        else:\n",
    "            Q += LnQ( n[c], b[c], s[c], mu )\n",
    "\n",
    "    return Q"
   ]
  },
  {
   "cell_type": "code",
   "execution_count": 320,
   "id": "ddb17238-a0c2-4e51-be5f-a1249bf73c57",
   "metadata": {},
   "outputs": [],
   "source": [
    "def Sampler(mu, Ntoys = int(1e5)):\n",
    "\n",
    "    q0 = np.zeros(Ntoys)\n",
    "  \n",
    "    for i in tqdm(range(Ntoys)):\n",
    "        q0[i] = GetJointLnQ(GetLnQ, mu)  #H0\n",
    "    \n",
    "    return q0"
   ]
  },
  {
   "cell_type": "code",
   "execution_count": 321,
   "id": "55323652",
   "metadata": {},
   "outputs": [],
   "source": [
    "data = Data[4]\n",
    "labels = list(data.keys())\n",
    "#n = np.array(data[labels[0]])\n",
    "b = np.array(data[labels[1]])\n",
    "s = np.array(data[labels[2]])\n",
    "n = s+b\n",
    "N = n.shape[0]"
   ]
  },
  {
   "cell_type": "code",
   "execution_count": null,
   "id": "b0f758db",
   "metadata": {},
   "outputs": [],
   "source": []
  },
  {
   "cell_type": "code",
   "execution_count": 322,
   "id": "f811f498",
   "metadata": {},
   "outputs": [
    {
     "data": {
      "text/plain": [
       "-21.04595409661052"
      ]
     },
     "execution_count": 322,
     "metadata": {},
     "output_type": "execute_result"
    }
   ],
   "source": [
    "# Con significancia\n",
    "Qobs = GetObsJointLnQ(GetLnQ,1.0,Expected = False)\n",
    "Qobs"
   ]
  },
  {
   "cell_type": "code",
   "execution_count": 323,
   "id": "5c50c35c",
   "metadata": {},
   "outputs": [
    {
     "name": "stderr",
     "output_type": "stream",
     "text": [
      "100%|███████████████████████████████████████████| 100000/100000 [00:25<00:00, 3971.70it/s]\n"
     ]
    }
   ],
   "source": [
    "q0 = Sampler(1.)"
   ]
  },
  {
   "cell_type": "code",
   "execution_count": 324,
   "id": "14e02d94",
   "metadata": {},
   "outputs": [
    {
     "data": {
      "text/plain": [
       "<matplotlib.legend.Legend at 0x737f80f5eed0>"
      ]
     },
     "execution_count": 324,
     "metadata": {},
     "output_type": "execute_result"
    },
    {
     "data": {
      "image/png": "[encoded data removed]",
      "text/plain": [
       "<Figure size 600x500 with 1 Axes>"
      ]
     },
     "metadata": {},
     "output_type": "display_data"
    }
   ],
   "source": [
    "fig = plt.figure()\n",
    "ax = fig.add_subplot(1,1,1)\n",
    "ax.hist(q0,bins=45,color='green',density=True,label=r'$f(\\mathcal{Q};0)$')\n",
    "plt.axvline(x=Qobs,color='k',label=r'$\\mathcal{Q}_{Obs}(\\mu=1)$')\n",
    "#plt.yscale('log')\n",
    "\n",
    "# Label X\n",
    "ax.set_xlabel(r'$\\mathcal{Q}$')\n",
    "ax.xaxis.set_label_coords(0.95,-0.05)\n",
    "\n",
    "# Label Y\n",
    "ax.set_ylabel(r'$f(\\mathcal{Q})$')\n",
    "ax.yaxis.set_label_coords(-0.12,0.85)\n",
    "\n",
    "# Ajustar los márgenes automáticamente\n",
    "plt.tight_layout()\n",
    "\n",
    "#Legend\n",
    "ax.legend(loc='upper right',bbox_to_anchor=(1,1),ncol=1,title='')\n",
    "\n",
    "#\n",
    "#plt.savefig('Significance_Q.pdf')"
   ]
  },
  {
   "cell_type": "code",
   "execution_count": 325,
   "id": "fa6f22ec-f8b9-4313-9727-ef5745aaddc4",
   "metadata": {},
   "outputs": [],
   "source": [
    "def GetPValue(data,Qobs, Null = True):\n",
    "\n",
    "    if Null:\n",
    "        count_below_threshold = np.sum( data <= Qobs )\n",
    "        p_value = count_below_threshold/data.shape[0]\n",
    "\n",
    "    else:\n",
    "        count_above_threshold = np.sum( data >= Qobs )\n",
    "        p_value = count_above_threshold / data.shape[0]\n",
    "\n",
    "    return p_value"
   ]
  },
  {
   "cell_type": "code",
   "execution_count": 326,
   "id": "f9fcb159",
   "metadata": {},
   "outputs": [
    {
     "name": "stdout",
     "output_type": "stream",
     "text": [
      "0.0\n"
     ]
    }
   ],
   "source": [
    "p0 = GetPValue(q0,Qobs,Null = True)\n",
    "#p1 = GetPValue(q1,Qobs,Null = False)\n",
    "print(p0)"
   ]
  },
  {
   "cell_type": "code",
   "execution_count": 327,
   "id": "9ec1576a",
   "metadata": {},
   "outputs": [
    {
     "data": {
      "text/plain": [
       "inf"
      ]
     },
     "execution_count": 327,
     "metadata": {},
     "output_type": "execute_result"
    }
   ],
   "source": [
    "Significancia = np.abs(norm.ppf(p0))\n",
    "Significancia"
   ]
  },
  {
   "cell_type": "code",
   "execution_count": null,
   "id": "a98e1180",
   "metadata": {},
   "outputs": [],
   "source": []
  },
  {
   "cell_type": "code",
   "execution_count": 328,
   "id": "359b1030-9e07-4ba3-8bc0-af9018404659",
   "metadata": {},
   "outputs": [],
   "source": [
    "# Funcion en paralelo\n",
    "def GetCls_for_mu(i, mu, Expected = False):\n",
    "\n",
    "    Qobs = GetObsJointLnQ(GetLnQ,1,Expected)\n",
    "    q0,q1 = Sampler(mu)\n",
    "    \n",
    "    p0 = GetPValue(q0, Qobs, Null = True)\n",
    "    p1 = GetPValue(q1, Qobs, Null = False)\n",
    "\n",
    "    Clb = 1 - p0\n",
    "    Clsb = p1\n",
    "\n",
    "    Cls = Clsb/Clb\n",
    "\n",
    "    return i,Clsb"
   ]
  },
  {
   "cell_type": "code",
   "execution_count": 329,
   "id": "7b832a1c-b163-4528-8136-dc8ff70884d4",
   "metadata": {},
   "outputs": [],
   "source": [
    "def GetCls_parallel(mu, Expected=False, num_processors=None):\n",
    "\n",
    "    p_value = np.zeros_like(mu)\n",
    "\n",
    "    with ProcessPoolExecutor(max_workers=num_processors) as executor:\n",
    "\n",
    "        futures = np.array([])\n",
    "\n",
    "        # Crear las tareas (futuras) para cada valor de mu\n",
    "        for i in range(mu.shape[0]):\n",
    "\n",
    "            futures = np.append(futures,executor.submit(GetCls_for_mu, i, mu[i], Expected))\n",
    "\n",
    "        # Recolectar los resultados a medida que se completan\n",
    "        for future in tqdm(as_completed(futures), total=len(futures)):\n",
    "            i, Clsb = future.result()\n",
    "            p_value[i] = Clsb\n",
    "\n",
    "    return p_value"
   ]
  },
  {
   "cell_type": "code",
   "execution_count": 330,
   "id": "b623f514-4386-43e1-96e2-7a22b5ff7cca",
   "metadata": {},
   "outputs": [
    {
     "data": {
      "text/plain": [
       "array([[100.,   0.,   0.],\n",
       "       [106.,   0.,   0.],\n",
       "       [112.,   0.,   0.],\n",
       "       [118.,   0.,   0.],\n",
       "       [124.,   0.,   0.],\n",
       "       [130.,   0.,   0.],\n",
       "       [136.,   0.,   0.],\n",
       "       [142.,   0.,   0.],\n",
       "       [148.,   0.,   0.],\n",
       "       [154.,   0.,   0.],\n",
       "       [160.,   0.,   0.]])"
      ]
     },
     "execution_count": 330,
     "metadata": {},
     "output_type": "execute_result"
    }
   ],
   "source": [
    "# Estructura de datos para guardar\n",
    "MatrizDatos = np.zeros((Mass.shape[0],3))\n",
    "MatrizDatos[:,0] = Mass\n",
    "MatrizDatos"
   ]
  },
  {
   "cell_type": "code",
   "execution_count": null,
   "id": "3c4b9e4c-e9df-4fdb-862b-d0057bfadff4",
   "metadata": {},
   "outputs": [
    {
     "name": "stdout",
     "output_type": "stream",
     "text": [
      "--- Estimating Limits for --- 100.0\n"
     ]
    },
    {
     "name": "stderr",
     "output_type": "stream",
     "text": [
      " 33%|██████████████▌                             | 32972/100000 [00:09<00:19, 3470.07it/s]"
     ]
    }
   ],
   "source": [
    "# Running the upper limits for each signal points\n",
    "\n",
    "for i, data in enumerate(Data):\n",
    "\n",
    "    print('--- Estimating Limits for ---', Mass[i])\n",
    "    labels = list(data.keys())\n",
    "    n = np.array(data[labels[0]])\n",
    "    b = np.array(data[labels[1]])\n",
    "    s = np.array(data[labels[2]])\n",
    "   # n = s+b # Para la significancia\n",
    "    N = n.shape[0]\n",
    "\n",
    "    Qobs = GetObsJointLnQ(GetLnQ,1.0,Expected = False)    \n",
    "    q0 = Sampler(1.)\n",
    "    \n",
    "    p0 = GetPValue(q0,Qobs,Null = True)\n",
    "    Significance = np.abs(norm.ppf(p0))\n",
    "    \n",
    "   \n",
    "    MatrizDatos[i,1] = p0\n",
    "    MatrizDatos[i,2] = Significance"
   ]
  },
  {
   "cell_type": "code",
   "execution_count": null,
   "id": "ef39a290-bba9-4b4b-a5df-6cede25b27bf",
   "metadata": {},
   "outputs": [],
   "source": []
  },
  {
   "cell_type": "code",
   "execution_count": 296,
   "id": "1f2c7c3a-74c1-4006-9ce0-ebccd76c76d0",
   "metadata": {},
   "outputs": [
    {
     "data": {
      "text/html": [
       "<div>\n",
       "<style scoped>\n",
       "    .dataframe tbody tr th:only-of-type {\n",
       "        vertical-align: middle;\n",
       "    }\n",
       "\n",
       "    .dataframe tbody tr th {\n",
       "        vertical-align: top;\n",
       "    }\n",
       "\n",
       "    .dataframe thead th {\n",
       "        text-align: right;\n",
       "    }\n",
       "</style>\n",
       "<table border=\"1\" class=\"dataframe\">\n",
       "  <thead>\n",
       "    <tr style=\"text-align: right;\">\n",
       "      <th></th>\n",
       "      <th>Mass</th>\n",
       "      <th>p0</th>\n",
       "      <th>Significance</th>\n",
       "    </tr>\n",
       "  </thead>\n",
       "  <tbody>\n",
       "    <tr>\n",
       "      <th>0</th>\n",
       "      <td>100.0</td>\n",
       "      <td>0.68450</td>\n",
       "      <td>0.480320</td>\n",
       "    </tr>\n",
       "    <tr>\n",
       "      <th>1</th>\n",
       "      <td>106.0</td>\n",
       "      <td>0.69580</td>\n",
       "      <td>0.512359</td>\n",
       "    </tr>\n",
       "    <tr>\n",
       "      <th>2</th>\n",
       "      <td>112.0</td>\n",
       "      <td>0.47975</td>\n",
       "      <td>0.050781</td>\n",
       "    </tr>\n",
       "    <tr>\n",
       "      <th>3</th>\n",
       "      <td>118.0</td>\n",
       "      <td>0.00290</td>\n",
       "      <td>2.758879</td>\n",
       "    </tr>\n",
       "    <tr>\n",
       "      <th>4</th>\n",
       "      <td>124.0</td>\n",
       "      <td>0.00000</td>\n",
       "      <td>inf</td>\n",
       "    </tr>\n",
       "    <tr>\n",
       "      <th>5</th>\n",
       "      <td>130.0</td>\n",
       "      <td>0.00495</td>\n",
       "      <td>2.579303</td>\n",
       "    </tr>\n",
       "    <tr>\n",
       "      <th>6</th>\n",
       "      <td>136.0</td>\n",
       "      <td>0.44535</td>\n",
       "      <td>0.137419</td>\n",
       "    </tr>\n",
       "    <tr>\n",
       "      <th>7</th>\n",
       "      <td>142.0</td>\n",
       "      <td>0.69300</td>\n",
       "      <td>0.504372</td>\n",
       "    </tr>\n",
       "    <tr>\n",
       "      <th>8</th>\n",
       "      <td>148.0</td>\n",
       "      <td>0.25495</td>\n",
       "      <td>0.658993</td>\n",
       "    </tr>\n",
       "    <tr>\n",
       "      <th>9</th>\n",
       "      <td>154.0</td>\n",
       "      <td>0.15965</td>\n",
       "      <td>0.995897</td>\n",
       "    </tr>\n",
       "    <tr>\n",
       "      <th>10</th>\n",
       "      <td>160.0</td>\n",
       "      <td>0.39090</td>\n",
       "      <td>0.276974</td>\n",
       "    </tr>\n",
       "  </tbody>\n",
       "</table>\n",
       "</div>"
      ],
      "text/plain": [
       "     Mass       p0  Significance\n",
       "0   100.0  0.68450      0.480320\n",
       "1   106.0  0.69580      0.512359\n",
       "2   112.0  0.47975      0.050781\n",
       "3   118.0  0.00290      2.758879\n",
       "4   124.0  0.00000           inf\n",
       "5   130.0  0.00495      2.579303\n",
       "6   136.0  0.44535      0.137419\n",
       "7   142.0  0.69300      0.504372\n",
       "8   148.0  0.25495      0.658993\n",
       "9   154.0  0.15965      0.995897\n",
       "10  160.0  0.39090      0.276974"
      ]
     },
     "execution_count": 296,
     "metadata": {},
     "output_type": "execute_result"
    }
   ],
   "source": [
    "DataFinal = pd.DataFrame(MatrizDatos)\n",
    "DataFinal.columns = ['Mass','p0','Significance']\n",
    "DataFinal"
   ]
  },
  {
   "cell_type": "code",
   "execution_count": 297,
   "id": "352e834a-5086-42c3-8e17-6c6d2c7b9712",
   "metadata": {},
   "outputs": [],
   "source": [
    "DataFinal.to_csv('SignificanceMassScan.csv',index=False)"
   ]
  },
  {
   "cell_type": "code",
   "execution_count": 301,
   "id": "fe319430-4487-4a34-87a0-6816e9cd50f1",
   "metadata": {},
   "outputs": [
    {
     "data": {
      "image/png": "[encoded data removed]",
      "text/plain": [
       "<Figure size 600x500 with 1 Axes>"
      ]
     },
     "metadata": {},
     "output_type": "display_data"
    }
   ],
   "source": [
    "import seaborn as sns\n",
    "sns.scatterplot(x='Mass',y='p0',data = DataFinal)\n",
    "plt.yscale('log')"
   ]
  },
  {
   "cell_type": "code",
   "execution_count": null,
   "id": "67c673e3-8c5e-473f-bfdc-805b133c3f97",
   "metadata": {},
   "outputs": [],
   "source": []
  }
 ],
 "metadata": {
  "kernelspec": {
   "display_name": "Python 3 (ipykernel)",
   "language": "python",
   "name": "python3"
  },
  "language_info": {
   "codemirror_mode": {
    "name": "ipython",
    "version": 3
   },
   "file_extension": ".py",
   "mimetype": "text/x-python",
   "name": "python",
   "nbconvert_exporter": "python",
   "pygments_lexer": "ipython3",
   "version": "3.11.5"
  }
 },
 "nbformat": 4,
 "nbformat_minor": 5
}
