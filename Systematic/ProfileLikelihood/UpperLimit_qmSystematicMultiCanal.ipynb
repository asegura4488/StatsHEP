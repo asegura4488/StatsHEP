{
 "cells": [
  {
   "cell_type": "code",
   "execution_count": 136,
   "id": "008b9e24",
   "metadata": {},
   "outputs": [],
   "source": [
    "import numpy as np\n",
    "import matplotlib.pyplot as plt\n",
    "from matplotlib import rc\n",
    "import matplotlib.ticker as ticker\n",
    "import pandas as pd\n",
    "import glob\n",
    "import re\n",
    "# Statistics\n",
    "from scipy.stats import norm\n",
    "from scipy.special import factorial\n",
    "from scipy.special import gammaln\n",
    "import scipy.optimize as spo\n",
    "# Parallel\n",
    "from concurrent.futures import ProcessPoolExecutor, as_completed\n",
    "from tqdm import tqdm"
   ]
  },
  {
   "cell_type": "code",
   "execution_count": 137,
   "id": "38acc81b",
   "metadata": {},
   "outputs": [],
   "source": [
    "# Matplotlib customize\n",
    "plt.rcParams['figure.figsize'] = [6,5]\n",
    "plt.rcParams['figure.dpi'] = 100\n",
    "\n",
    "plt.rcParams['axes.titlesize'] = 20\n",
    "plt.rcParams['axes.labelsize'] = 20\n",
    "\n",
    "plt.rcParams['lines.linewidth'] = 1.5\n",
    "plt.rcParams['lines.markersize'] = 4\n",
    "\n",
    "plt.rcParams['xtick.labelsize'] = 12\n",
    "plt.rcParams['ytick.labelsize'] = 12\n",
    "\n",
    "plt.rcParams['legend.fontsize'] = 12\n",
    "plt.rcParams['legend.markerscale'] = 1.5\n",
    "plt.rcParams['legend.borderpad'] = 0.6\n",
    "plt.rcParams['legend.framealpha'] = 0.7"
   ]
  },
  {
   "cell_type": "code",
   "execution_count": 138,
   "id": "acb5a0e4-ea1d-4b12-93a8-8c1b90f1639c",
   "metadata": {},
   "outputs": [
    {
     "name": "stdout",
     "output_type": "stream",
     "text": [
      "[100. 106. 112. 118. 124. 130. 136. 142. 148. 154. 160.]\n"
     ]
    }
   ],
   "source": [
    "Data = []\n",
    "Mass = np.array([])\n",
    "\n",
    "for f in glob.glob('Data/*.csv'):\n",
    "    #print(f)\n",
    "    \n",
    "    data = pd.read_csv(f,sep=',')\n",
    "    Data.append(data)\n",
    "\n",
    "    # Extraer los últimos tres números del nombre del archivo\n",
    "    match = re.search(r'(\\d{3})\\.csv$', f)\n",
    "    if match:\n",
    "        Mass = np.append(Mass, float(match.group(1)))\n",
    "\n",
    "# Emparejar los numeros con los dataframes\n",
    "paired = list(zip(Mass,Data))\n",
    "\n",
    "# Ordenar los pares segun las masas\n",
    "Mass_sorted = sorted(paired, key=lambda x: x[0])\n",
    "\n",
    "# Separar de nuevo los numeros y los dataFrames\n",
    "Mass_sorted, Data = zip(*Mass_sorted)\n",
    "\n",
    "# Numpy array\n",
    "Mass = np.array(Mass_sorted)\n",
    "\n",
    "print(Mass)"
   ]
  },
  {
   "cell_type": "code",
   "execution_count": 140,
   "id": "173b54cd",
   "metadata": {},
   "outputs": [],
   "source": [
    "# Reading channels\n",
    "data = Data[2]\n",
    "labels = list(data.keys())\n",
    "n = np.array(data[labels[0]])\n",
    "b = np.array(data[labels[1]])\n",
    "s = np.array(data[labels[2]])\n",
    "N = n.shape[0]"
   ]
  },
  {
   "cell_type": "code",
   "execution_count": null,
   "id": "abc6e3ae-03cc-441b-ba53-5b13085f1167",
   "metadata": {},
   "outputs": [],
   "source": []
  },
  {
   "cell_type": "code",
   "execution_count": 141,
   "id": "abde1f5c-3755-4a20-a8fd-c7e9c90020a3",
   "metadata": {},
   "outputs": [],
   "source": [
    "def Gauss(x,mean=1.,sigma=0.1):\n",
    "    return norm.pdf(x,loc=mean,scale=sigma)"
   ]
  },
  {
   "cell_type": "code",
   "execution_count": 142,
   "id": "4805b992",
   "metadata": {},
   "outputs": [],
   "source": [
    "def LogLikelihood(p,mu,n,b,s):\n",
    "\n",
    "    e = p\n",
    "\n",
    "    r = 1e-5\n",
    "    lambda_ = mu*s + e*b + r\n",
    "    \n",
    "    log_likelihood = -lambda_ + n * np.log(lambda_) - gammaln(n+1)\n",
    "    \n",
    "    return log_likelihood"
   ]
  },
  {
   "cell_type": "code",
   "execution_count": 143,
   "id": "074ce71b-9151-48be-bae4-a1d61649cc11",
   "metadata": {},
   "outputs": [],
   "source": [
    "def GetJointLogLikelihood(p,n,b,s,sigmab=0.1):\n",
    "\n",
    "    mu,e = p\n",
    "    JointLog = 0.\n",
    "    \n",
    "    for c in range(N):             \n",
    "        JointLog += LogLikelihood(e,mu,n[c],b[c],s[c])\n",
    "        # Background uncertainty   \n",
    "        JointLog += np.log(Gauss(e,1.,sigmab))\n",
    "            \n",
    "    return -JointLog"
   ]
  },
  {
   "cell_type": "code",
   "execution_count": 144,
   "id": "9cdd6774",
   "metadata": {},
   "outputs": [],
   "source": [
    "def GetJointLogLikelihoodNuissance(p,mu,n,b,s,sigmab=0.1):\n",
    "\n",
    "    e = p\n",
    "    JointLog = 0.\n",
    "    for c in range(N):\n",
    "\n",
    "        JointLog += LogLikelihood(p,mu,n[c],b[c],s[c])\n",
    "        # Background uncertainty\n",
    "        JointLog += np.log(Gauss(e,1.,sigmab))\n",
    "            \n",
    "    return -JointLog"
   ]
  },
  {
   "cell_type": "code",
   "execution_count": 145,
   "id": "6d7100fa",
   "metadata": {},
   "outputs": [],
   "source": [
    "mu = np.linspace(0.05,2.,20)\n",
    "LogLike = GetJointLogLikelihoodNuissance(1.0,mu,n,b,s,0.1)"
   ]
  },
  {
   "cell_type": "code",
   "execution_count": 146,
   "id": "63f98692",
   "metadata": {},
   "outputs": [
    {
     "data": {
      "text/plain": [
       "[<matplotlib.lines.Line2D at 0x70a6ceb90c90>]"
      ]
     },
     "execution_count": 146,
     "metadata": {},
     "output_type": "execute_result"
    },
    {
     "data": {
      "image/png": "[encoded data removed]",
      "text/plain": [
       "<Figure size 600x500 with 1 Axes>"
      ]
     },
     "metadata": {},
     "output_type": "display_data"
    }
   ],
   "source": [
    "plt.plot(mu,LogLike)"
   ]
  },
  {
   "cell_type": "code",
   "execution_count": 147,
   "id": "64893a40-4cfe-4cfb-9775-dce7e01ea447",
   "metadata": {},
   "outputs": [],
   "source": [
    "def GetHat(n,b,s,sigmab=0.1):\n",
    "\n",
    "    bounds = ((0,50),(0,10))\n",
    "    p0 = np.array([1.,1.])\n",
    "    result = spo.minimize( GetJointLogLikelihood, p0, args=(n,b,s,sigmab), bounds=bounds, options={\"disp\":False}, method='Nelder-Mead' )\n",
    "    Hat = result.x\n",
    "\n",
    "    return Hat"
   ]
  },
  {
   "cell_type": "code",
   "execution_count": 148,
   "id": "7ae8b4d5-6a08-46cc-8528-859ffe4b0ef5",
   "metadata": {},
   "outputs": [],
   "source": [
    "def GetDoubleHat(mu,n,b,s,sigmab=0.1):\n",
    "    \n",
    "    bounds =  ((0,10),)\n",
    "    p0 = np.array([1.])\n",
    "    result = spo.minimize( GetJointLogLikelihoodNuissance, p0, args=(mu,n,b,s,sigmab), bounds=bounds, options={\"disp\":False}, method='Nelder-Mead' )\n",
    "    Doublehat = result.x[0]\n",
    "\n",
    "    return Doublehat"
   ]
  },
  {
   "cell_type": "code",
   "execution_count": 149,
   "id": "40392b27-10c6-4ccb-8270-be136457a2ba",
   "metadata": {},
   "outputs": [
    {
     "data": {
      "text/plain": [
       "0.9867187500000001"
      ]
     },
     "execution_count": 149,
     "metadata": {},
     "output_type": "execute_result"
    }
   ],
   "source": [
    "# Probando\n",
    "GetDoubleHat(1.5,n,b,s,0.3)"
   ]
  },
  {
   "cell_type": "code",
   "execution_count": 150,
   "id": "ec90738a-1759-4cad-9f3d-6e7386450988",
   "metadata": {},
   "outputs": [
    {
     "data": {
      "text/plain": [
       "array([0.        , 1.02944243])"
      ]
     },
     "execution_count": 150,
     "metadata": {},
     "output_type": "execute_result"
    }
   ],
   "source": [
    "GetHat(n,b,s,0.3)"
   ]
  },
  {
   "cell_type": "code",
   "execution_count": 151,
   "id": "bce5fa69",
   "metadata": {},
   "outputs": [],
   "source": [
    "# Probando funciones hat and double hat"
   ]
  },
  {
   "cell_type": "code",
   "execution_count": 167,
   "id": "67641245",
   "metadata": {},
   "outputs": [],
   "source": [
    "def GetqmObs(mu,n,b,s,sigmab=0.1):\n",
    "\n",
    "    doublehat = GetDoubleHat(mu,n,b,s,sigmab)\n",
    "    hat = GetHat(n,b,s,sigmab)\n",
    "    muhat,ehat = hat[0],hat[1]\n",
    "    \n",
    "    qm = 0.\n",
    "    \n",
    "    for c in range(N):\n",
    "        \n",
    "        if mu > muhat:\n",
    "            qm += -2*(LogLikelihood(doublehat,mu,n[c],b[c],s[c]) - LogLikelihood(ehat,muhat,n[c],b[c],s[c]))\n",
    "            qm += -2*( np.log(Gauss(doublehat,1,sigmab)) - np.log(Gauss(ehat,1,sigmab)) )\n",
    "        else:\n",
    "            qm += 0.\n",
    "            \n",
    "    return qm"
   ]
  },
  {
   "cell_type": "code",
   "execution_count": 168,
   "id": "0220bb57",
   "metadata": {},
   "outputs": [
    {
     "data": {
      "text/plain": [
       "15.313159159294091"
      ]
     },
     "execution_count": 168,
     "metadata": {},
     "output_type": "execute_result"
    }
   ],
   "source": [
    "qmObs = GetqmObs(1.0,n,b,s)\n",
    "qmObs"
   ]
  },
  {
   "cell_type": "code",
   "execution_count": 169,
   "id": "eed5f195",
   "metadata": {},
   "outputs": [
    {
     "data": {
      "text/plain": [
       "10.497540454314118"
      ]
     },
     "execution_count": 169,
     "metadata": {},
     "output_type": "execute_result"
    }
   ],
   "source": [
    "# Expected\n",
    "qmObsE = GetqmObs(1.0,b,b,s)\n",
    "qmObsE"
   ]
  },
  {
   "cell_type": "code",
   "execution_count": 170,
   "id": "ffaf24b7",
   "metadata": {},
   "outputs": [],
   "source": [
    "mu = np.linspace(0.1,0.5,20)\n",
    "qmObsEV = np.zeros_like(mu)\n",
    "qmObsEV1 = np.zeros_like(mu)\n",
    "qmObsEV2 = np.zeros_like(mu)\n",
    "\n",
    "for i in range(mu.shape[0]):\n",
    "    qmObsEV[i] = GetqmObs(mu[i],n,b,s,sigmab=0.05)\n",
    "    qmObsEV1[i] = GetqmObs(mu[i],n,b,s,sigmab=0.1)\n",
    "    qmObsEV2[i] = GetqmObs(mu[i],n,b,s,sigmab=0.2)"
   ]
  },
  {
   "cell_type": "code",
   "execution_count": null,
   "id": "6b4894cf",
   "metadata": {},
   "outputs": [],
   "source": []
  },
  {
   "cell_type": "code",
   "execution_count": 171,
   "id": "bfc7dde5",
   "metadata": {},
   "outputs": [
    {
     "data": {
      "image/png": "[encoded data removed]",
      "text/plain": [
       "<Figure size 600x500 with 1 Axes>"
      ]
     },
     "metadata": {},
     "output_type": "display_data"
    }
   ],
   "source": [
    "fig = plt.figure()\n",
    "ax = fig.add_subplot(1,1,1)\n",
    "ax.plot(mu,qmObsEV,color='k',label=r'$\\sigma=$%.2f'%(0.05))\n",
    "ax.plot(mu,qmObsEV1,color='r',label=r'$\\sigma=$%.2f'%(0.1))\n",
    "ax.plot(mu,qmObsEV2,color='b',label=r'$\\sigma=$%.2f'%(0.2))\n",
    "\n",
    "ax.axhline(y=norm.ppf(0.95)**2,ls='--',color='g',label=r'$\\sqrt{q_{\\mu}}=1.64$')\n",
    "\n",
    "# Label X\n",
    "ax.set_xlabel(r'$\\mu$')\n",
    "ax.xaxis.set_label_coords(0.95,-0.07)\n",
    "\n",
    "# Label Y\n",
    "ax.set_ylabel(r'$q_{\\mu}$')\n",
    "ax.yaxis.set_label_coords(-0.12,0.90)\n",
    "\n",
    "# Ajustar los márgenes automáticamente\n",
    "plt.tight_layout()\n",
    "\n",
    "#Legend\n",
    "ax.legend(loc='upper right',bbox_to_anchor=(0.37,1),ncol=1,title='')\n",
    "\n",
    "\n",
    "#\n",
    "plt.savefig('qm_plot_systematic.pdf')"
   ]
  },
  {
   "cell_type": "code",
   "execution_count": 118,
   "id": "18568b08",
   "metadata": {},
   "outputs": [],
   "source": [
    "def Getqm(mu,sigmab=0.1,Null=True):\n",
    "    \n",
    "    Ntoys = np.zeros(N)\n",
    "   \n",
    "    for c in range(N):\n",
    "        \n",
    "        if Null:\n",
    "            ntoy = np.random.poisson(b[c])\n",
    "        else:\n",
    "            ntoy = np.random.poisson(mu*s[c]+b[c])\n",
    "          \n",
    "        Ntoys[c] = ntoy\n",
    "            \n",
    "    return GetqmObs(mu,Ntoys,b,s,sigmab)"
   ]
  },
  {
   "cell_type": "code",
   "execution_count": 87,
   "id": "2db26824",
   "metadata": {},
   "outputs": [],
   "source": [
    "def Sampler(mu,Ntoys = int(4e2),sigmab=0.1):\n",
    "    \n",
    "    q0 = np.zeros(Ntoys)\n",
    "    q1 = np.zeros(Ntoys)\n",
    "    \n",
    "    for i in range(Ntoys):\n",
    "        q0[i] = Getqm(mu,sigmab,Null=True)\n",
    "        q1[i] = Getqm(mu,sigmab,Null=False)\n",
    "        \n",
    "    return q0,q1"
   ]
  },
  {
   "cell_type": "code",
   "execution_count": 88,
   "id": "e078b5e2-ee3f-46a9-8bcd-ade2878cc2a2",
   "metadata": {},
   "outputs": [],
   "source": [
    "#q0,q1 = Sampler(2,sigmab=0.1)\n",
    "#_ = plt.hist(q0,bins=50,density=True)\n",
    "#_ = plt.hist(q1,bins=50,density=True)"
   ]
  },
  {
   "cell_type": "code",
   "execution_count": 89,
   "id": "108a0723",
   "metadata": {},
   "outputs": [],
   "source": [
    "def GetPValue(data,Qobs):\n",
    "\n",
    "    count_above_threshold = np.sum( data >= Qobs )\n",
    "    p_value = count_above_threshold / data.shape[0]\n",
    "\n",
    "    return p_value"
   ]
  },
  {
   "cell_type": "code",
   "execution_count": 90,
   "id": "e5894b13-a017-4db3-8c18-01a56cef717b",
   "metadata": {},
   "outputs": [],
   "source": [
    "def GetCls_for_mu(i,mu, Expected=False, sigmab = 0.1):\n",
    "\n",
    "    if Expected:\n",
    "        qmObs = GetqmObs(mu,b,b,s,sigmab)\n",
    "    else:\n",
    "        qmObs = GetqmObs(mu,n,b,s,sigmab)\n",
    "            \n",
    "    q0,q1 = Sampler(mu,sigmab=sigmab)\n",
    "\n",
    "    p0 = GetPValue(q0,qmObs)\n",
    "    p1 = GetPValue(q1,qmObs)\n",
    "\n",
    "    if p0 != 0:\n",
    "        Cls = p1/p0\n",
    "    else:\n",
    "        print('Problemas con la hipotesis nula')\n",
    "        Cls = p1\n",
    "\n",
    "    return i,Cls"
   ]
  },
  {
   "cell_type": "code",
   "execution_count": 91,
   "id": "3edf3426-79b4-4a63-b912-29b2920f3447",
   "metadata": {},
   "outputs": [],
   "source": [
    "#GetCls_for_mu(0,2.5,sigmab=0.2)"
   ]
  },
  {
   "cell_type": "code",
   "execution_count": 92,
   "id": "99f0177a-a2b5-4472-836f-f609513f0335",
   "metadata": {},
   "outputs": [],
   "source": [
    "def GetCls_parallel(mu, Expected=False, sigmab = 0.1,num_processors=None):\n",
    "\n",
    "    p_value = np.zeros_like(mu)\n",
    "\n",
    "    with ProcessPoolExecutor(max_workers=num_processors) as executor:\n",
    "\n",
    "        futures = np.array([])\n",
    "\n",
    "        # Crear las tareas (futuras) para cada valor de mu\n",
    "        for i in range(mu.shape[0]):\n",
    "            futures = np.append(futures,executor.submit(GetCls_for_mu, i, mu[i], Expected=Expected, sigmab=sigmab))\n",
    "\n",
    "        # Recolectar los resultados a medida que se completan\n",
    "        for future in tqdm(as_completed(futures), total=len(futures)):\n",
    "            i, Cls = future.result()\n",
    "            p_value[i] = Cls\n",
    "\n",
    "    return p_value"
   ]
  },
  {
   "cell_type": "code",
   "execution_count": 93,
   "id": "c18ef7fd-a29d-4890-b11a-744f75e41c8c",
   "metadata": {},
   "outputs": [],
   "source": [
    "# Upper limit\n",
    "def GetUpperLimit(mu,Cls,alpha = 0.05):\n",
    "\n",
    "    i = np.where( Cls <= alpha )\n",
    "\n",
    "    if len(i[0]) == 0:\n",
    "        print('--- Cls is never less than alpha --- ')\n",
    "        return 0.\n",
    "    else:\n",
    "        i = i[0][0]\n",
    "\n",
    "    # Saving the indez where pvalues is less than the critical value\n",
    "\n",
    "    x0 = mu[i-1]\n",
    "    x1 = mu[i]\n",
    "    fx0 = Cls[i-1]\n",
    "    fx1 = Cls[i]\n",
    "\n",
    "    # Compute the slope\n",
    "    m = (fx1-fx0)/(x1-x0)\n",
    "\n",
    "    if m == 0:\n",
    "        print('--- Problem with the scan ---')\n",
    "        return 0.\n",
    "\n",
    "    # 1D Polynomial interpolation\n",
    "    mup = (alpha - fx0)/m + x0\n",
    "\n",
    "    return mup"
   ]
  },
  {
   "cell_type": "code",
   "execution_count": 94,
   "id": "e998e916-9fd6-4024-91f1-0642ec2462b1",
   "metadata": {},
   "outputs": [
    {
     "data": {
      "text/plain": [
       "array([[100.,   0.,   0.,   0.,   0.,   0.,   0.],\n",
       "       [106.,   0.,   0.,   0.,   0.,   0.,   0.],\n",
       "       [112.,   0.,   0.,   0.,   0.,   0.,   0.],\n",
       "       [118.,   0.,   0.,   0.,   0.,   0.,   0.],\n",
       "       [124.,   0.,   0.,   0.,   0.,   0.,   0.],\n",
       "       [130.,   0.,   0.,   0.,   0.,   0.,   0.],\n",
       "       [136.,   0.,   0.,   0.,   0.,   0.,   0.],\n",
       "       [142.,   0.,   0.,   0.,   0.,   0.,   0.],\n",
       "       [148.,   0.,   0.,   0.,   0.,   0.,   0.],\n",
       "       [154.,   0.,   0.,   0.,   0.,   0.,   0.],\n",
       "       [160.,   0.,   0.,   0.,   0.,   0.,   0.]])"
      ]
     },
     "execution_count": 94,
     "metadata": {},
     "output_type": "execute_result"
    }
   ],
   "source": [
    "# Estructura de datos para guardar\n",
    "MatrizDatos = np.zeros((Mass.shape[0],7))\n",
    "MatrizDatos[:,0] = Mass\n",
    "MatrizDatos"
   ]
  },
  {
   "cell_type": "code",
   "execution_count": 95,
   "id": "66866c8b-0636-4523-a2aa-bffff02dc0ff",
   "metadata": {},
   "outputs": [
    {
     "name": "stdout",
     "output_type": "stream",
     "text": [
      "--- Estimating Limits for --- 100.0\n"
     ]
    },
    {
     "name": "stderr",
     "output_type": "stream",
     "text": [
      "100%|███████████████████████████████████████████████████████████████████████████████████████████████| 8/8 [06:36<00:00, 49.55s/it]\n"
     ]
    },
    {
     "name": "stdout",
     "output_type": "stream",
     "text": [
      "0.36450422348163136\n",
      "--- Estimating Limits for --- 106.0\n"
     ]
    },
    {
     "name": "stderr",
     "output_type": "stream",
     "text": [
      "  0%|                                                                                                       | 0/8 [00:39<?, ?it/s]\n"
     ]
    },
    {
     "ename": "KeyboardInterrupt",
     "evalue": "",
     "output_type": "error",
     "traceback": [
      "\u001b[0;31m---------------------------------------------------------------------------\u001b[0m",
      "\u001b[0;31mKeyboardInterrupt\u001b[0m                         Traceback (most recent call last)",
      "Cell \u001b[0;32mIn[95], line 13\u001b[0m\n\u001b[1;32m     11\u001b[0m mu \u001b[38;5;241m=\u001b[39m np\u001b[38;5;241m.\u001b[39mlinspace(\u001b[38;5;241m0.1\u001b[39m,\u001b[38;5;241m2.0\u001b[39m,\u001b[38;5;241m8\u001b[39m)\n\u001b[1;32m     12\u001b[0m \u001b[38;5;66;03m#Ep_value = GetCls_parallel(mu,Expected=True,sigmab=0.1,num_processors=8)\u001b[39;00m\n\u001b[0;32m---> 13\u001b[0m Op_value \u001b[38;5;241m=\u001b[39m GetCls_parallel(mu,Expected\u001b[38;5;241m=\u001b[39m\u001b[38;5;28;01mFalse\u001b[39;00m,sigmab\u001b[38;5;241m=\u001b[39m\u001b[38;5;241m0.1\u001b[39m,num_processors\u001b[38;5;241m=\u001b[39m\u001b[38;5;241m8\u001b[39m) \u001b[38;5;66;03m# Ajustamos sigma\u001b[39;00m\n\u001b[1;32m     15\u001b[0m \u001b[38;5;66;03m#ExpectedLimit = GetUpperLimit(mu,Ep_value)\u001b[39;00m\n\u001b[1;32m     16\u001b[0m ObservedLimit \u001b[38;5;241m=\u001b[39m GetUpperLimit(mu,Op_value)\n",
      "Cell \u001b[0;32mIn[92], line 14\u001b[0m, in \u001b[0;36mGetCls_parallel\u001b[0;34m(mu, Expected, sigmab, num_processors)\u001b[0m\n\u001b[1;32m     11\u001b[0m     futures \u001b[38;5;241m=\u001b[39m np\u001b[38;5;241m.\u001b[39mappend(futures,executor\u001b[38;5;241m.\u001b[39msubmit(GetCls_for_mu, i, mu[i], Expected\u001b[38;5;241m=\u001b[39mExpected, sigmab\u001b[38;5;241m=\u001b[39msigmab))\n\u001b[1;32m     13\u001b[0m \u001b[38;5;66;03m# Recolectar los resultados a medida que se completan\u001b[39;00m\n\u001b[0;32m---> 14\u001b[0m \u001b[38;5;28;01mfor\u001b[39;00m future \u001b[38;5;129;01min\u001b[39;00m tqdm(as_completed(futures), total\u001b[38;5;241m=\u001b[39m\u001b[38;5;28mlen\u001b[39m(futures)):\n\u001b[1;32m     15\u001b[0m     i, Cls \u001b[38;5;241m=\u001b[39m future\u001b[38;5;241m.\u001b[39mresult()\n\u001b[1;32m     16\u001b[0m     p_value[i] \u001b[38;5;241m=\u001b[39m Cls\n",
      "File \u001b[0;32m~/anaconda3/lib/python3.11/site-packages/tqdm/std.py:1181\u001b[0m, in \u001b[0;36mtqdm.__iter__\u001b[0;34m(self)\u001b[0m\n\u001b[1;32m   1178\u001b[0m time \u001b[38;5;241m=\u001b[39m \u001b[38;5;28mself\u001b[39m\u001b[38;5;241m.\u001b[39m_time\n\u001b[1;32m   1180\u001b[0m \u001b[38;5;28;01mtry\u001b[39;00m:\n\u001b[0;32m-> 1181\u001b[0m     \u001b[38;5;28;01mfor\u001b[39;00m obj \u001b[38;5;129;01min\u001b[39;00m iterable:\n\u001b[1;32m   1182\u001b[0m         \u001b[38;5;28;01myield\u001b[39;00m obj\n\u001b[1;32m   1183\u001b[0m         \u001b[38;5;66;03m# Update and possibly print the progressbar.\u001b[39;00m\n\u001b[1;32m   1184\u001b[0m         \u001b[38;5;66;03m# Note: does not call self.update(1) for speed optimisation.\u001b[39;00m\n",
      "File \u001b[0;32m~/anaconda3/lib/python3.11/concurrent/futures/_base.py:243\u001b[0m, in \u001b[0;36mas_completed\u001b[0;34m(fs, timeout)\u001b[0m\n\u001b[1;32m    238\u001b[0m     \u001b[38;5;28;01mif\u001b[39;00m wait_timeout \u001b[38;5;241m<\u001b[39m \u001b[38;5;241m0\u001b[39m:\n\u001b[1;32m    239\u001b[0m         \u001b[38;5;28;01mraise\u001b[39;00m \u001b[38;5;167;01mTimeoutError\u001b[39;00m(\n\u001b[1;32m    240\u001b[0m                 \u001b[38;5;124m'\u001b[39m\u001b[38;5;132;01m%d\u001b[39;00m\u001b[38;5;124m (of \u001b[39m\u001b[38;5;132;01m%d\u001b[39;00m\u001b[38;5;124m) futures unfinished\u001b[39m\u001b[38;5;124m'\u001b[39m \u001b[38;5;241m%\u001b[39m (\n\u001b[1;32m    241\u001b[0m                 \u001b[38;5;28mlen\u001b[39m(pending), total_futures))\n\u001b[0;32m--> 243\u001b[0m waiter\u001b[38;5;241m.\u001b[39mevent\u001b[38;5;241m.\u001b[39mwait(wait_timeout)\n\u001b[1;32m    245\u001b[0m \u001b[38;5;28;01mwith\u001b[39;00m waiter\u001b[38;5;241m.\u001b[39mlock:\n\u001b[1;32m    246\u001b[0m     finished \u001b[38;5;241m=\u001b[39m waiter\u001b[38;5;241m.\u001b[39mfinished_futures\n",
      "File \u001b[0;32m~/anaconda3/lib/python3.11/threading.py:622\u001b[0m, in \u001b[0;36mEvent.wait\u001b[0;34m(self, timeout)\u001b[0m\n\u001b[1;32m    620\u001b[0m signaled \u001b[38;5;241m=\u001b[39m \u001b[38;5;28mself\u001b[39m\u001b[38;5;241m.\u001b[39m_flag\n\u001b[1;32m    621\u001b[0m \u001b[38;5;28;01mif\u001b[39;00m \u001b[38;5;129;01mnot\u001b[39;00m signaled:\n\u001b[0;32m--> 622\u001b[0m     signaled \u001b[38;5;241m=\u001b[39m \u001b[38;5;28mself\u001b[39m\u001b[38;5;241m.\u001b[39m_cond\u001b[38;5;241m.\u001b[39mwait(timeout)\n\u001b[1;32m    623\u001b[0m \u001b[38;5;28;01mreturn\u001b[39;00m signaled\n",
      "File \u001b[0;32m~/anaconda3/lib/python3.11/threading.py:320\u001b[0m, in \u001b[0;36mCondition.wait\u001b[0;34m(self, timeout)\u001b[0m\n\u001b[1;32m    318\u001b[0m \u001b[38;5;28;01mtry\u001b[39;00m:    \u001b[38;5;66;03m# restore state no matter what (e.g., KeyboardInterrupt)\u001b[39;00m\n\u001b[1;32m    319\u001b[0m     \u001b[38;5;28;01mif\u001b[39;00m timeout \u001b[38;5;129;01mis\u001b[39;00m \u001b[38;5;28;01mNone\u001b[39;00m:\n\u001b[0;32m--> 320\u001b[0m         waiter\u001b[38;5;241m.\u001b[39macquire()\n\u001b[1;32m    321\u001b[0m         gotit \u001b[38;5;241m=\u001b[39m \u001b[38;5;28;01mTrue\u001b[39;00m\n\u001b[1;32m    322\u001b[0m     \u001b[38;5;28;01melse\u001b[39;00m:\n",
      "\u001b[0;31mKeyboardInterrupt\u001b[0m: "
     ]
    }
   ],
   "source": [
    "for i, data in enumerate(Data):\n",
    "\n",
    "    print('--- Estimating Limits for ---', Mass[i])\n",
    "    labels = list(data.keys())\n",
    "    n = np.array(data[labels[0]])\n",
    "    b = np.array(data[labels[1]])\n",
    "    s = np.array(data[labels[2]])\n",
    "    N = n.shape[0]\n",
    "\n",
    "    # SetPOI scan\n",
    "    mu = np.linspace(0.1,2.0,8)\n",
    "    #Ep_value = GetCls_parallel(mu,Expected=True,sigmab=0.1,num_processors=8)\n",
    "    Op_value = GetCls_parallel(mu,Expected=False,sigmab=0.1,num_processors=8) # Ajustamos sigma\n",
    "\n",
    "    #ExpectedLimit = GetUpperLimit(mu,Ep_value)\n",
    "    ObservedLimit = GetUpperLimit(mu,Op_value)\n",
    "    ExpectedLimit = 0.9*ObservedLimit # No me interesa esta vez\n",
    "\n",
    "    print(ObservedLimit)\n",
    "    # For Errors\n",
    "    Qm = GetqmObs(ExpectedLimit,b,b,s)\n",
    "    sigma = ExpectedLimit / np.sqrt(Qm)\n",
    " \n",
    "    MatrizDatos[i,1] =  2*sigma    \n",
    "    MatrizDatos[i,2] =  1*sigma\n",
    "    MatrizDatos[i,3] = ExpectedLimit\n",
    "    MatrizDatos[i,4] = 1*sigma\n",
    "    MatrizDatos[i,5] = 2*sigma\n",
    "    # Observed Limit\n",
    "    MatrizDatos[i,6] = ObservedLimit"
   ]
  },
  {
   "cell_type": "code",
   "execution_count": null,
   "id": "0604041d-72be-4560-8678-e5a062186a08",
   "metadata": {},
   "outputs": [],
   "source": [
    "DataFinal = pd.DataFrame(MatrizDatos)\n",
    "DataFinal.columns = ['Mass','-2sigma','-1sigma','Expected','+1sigma','+2sigma','Observed']\n",
    "DataFinal"
   ]
  },
  {
   "cell_type": "code",
   "execution_count": 30,
   "id": "1fe5aa4d-223e-4ce2-8103-3f25bd2f4d62",
   "metadata": {},
   "outputs": [],
   "source": [
    "DataFinal.to_csv('UpperLimitMassScanqm.csv',index=False)"
   ]
  },
  {
   "cell_type": "code",
   "execution_count": 31,
   "id": "7d2e789e-5291-4cfa-a162-a75c4f1cd931",
   "metadata": {},
   "outputs": [
    {
     "data": {
      "text/plain": [
       "<Axes: xlabel='Mass', ylabel='Expected'>"
      ]
     },
     "execution_count": 31,
     "metadata": {},
     "output_type": "execute_result"
    },
    {
     "data": {
      "image/png": "[encoded data removed]",
      "text/plain": [
       "<Figure size 600x500 with 1 Axes>"
      ]
     },
     "metadata": {},
     "output_type": "display_data"
    }
   ],
   "source": [
    "import seaborn as sns\n",
    "sns.scatterplot(x='Mass',y='Expected',data = DataFinal)\n",
    "sns.scatterplot(x='Mass',y='Observed',data = DataFinal)"
   ]
  },
  {
   "cell_type": "code",
   "execution_count": 33,
   "id": "5914b95e",
   "metadata": {},
   "outputs": [
    {
     "name": "stderr",
     "output_type": "stream",
     "text": [
      "No artists with labels found to put in legend.  Note that artists whose label start with an underscore are ignored when legend() is called with no argument.\n"
     ]
    },
    {
     "data": {
      "image/png": "[encoded data removed]",
      "text/plain": [
       "<Figure size 600x500 with 1 Axes>"
      ]
     },
     "metadata": {},
     "output_type": "display_data"
    }
   ],
   "source": [
    "fig = plt.figure()\n",
    "ax = fig.add_subplot(1,1,1)\n",
    "#ax.hist(q0,bins=35,color='green',density=True,label=r'$f(q_{\\mu};0)$')\n",
    "#ax.hist(q1,bins=35,color='yellow',density=True,label=r'$f(q_{\\mu};\\mu)$')\n",
    "#ax.axvline(x=qmObs,color='k',label=r'$q_{\\mu,obs}$')\n",
    "\n",
    "# Label X\n",
    "ax.set_xlabel(r'$q_{\\mu}$')\n",
    "ax.xaxis.set_label_coords(0.95,-0.07)\n",
    "\n",
    "# Label Y\n",
    "ax.set_ylabel(r'$f(q_{\\mu})$')\n",
    "ax.yaxis.set_label_coords(-0.12,0.85)\n",
    "\n",
    "ax.set_yscale('log')\n",
    "\n",
    "# Ajustar los márgenes automáticamente\n",
    "plt.tight_layout()\n",
    "\n",
    "#Legend\n",
    "ax.legend(loc='upper right',bbox_to_anchor=(1,1),ncol=1,title='')\n",
    "\n",
    "#\n",
    "#plt.savefig('Distribution_qm.pdf')"
   ]
  },
  {
   "cell_type": "code",
   "execution_count": null,
   "id": "00904d20-e735-4b93-9c22-ad69f9c8d406",
   "metadata": {},
   "outputs": [],
   "source": []
  }
 ],
 "metadata": {
  "kernelspec": {
   "display_name": "Python 3 (ipykernel)",
   "language": "python",
   "name": "python3"
  },
  "language_info": {
   "codemirror_mode": {
    "name": "ipython",
    "version": 3
   },
   "file_extension": ".py",
   "mimetype": "text/x-python",
   "name": "python",
   "nbconvert_exporter": "python",
   "pygments_lexer": "ipython3",
   "version": "3.11.5"
  }
 },
 "nbformat": 4,
 "nbformat_minor": 5
}
