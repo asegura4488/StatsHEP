{
 "cells": [
  {
   "cell_type": "code",
   "execution_count": 4,
   "id": "008b9e24",
   "metadata": {},
   "outputs": [],
   "source": [
    "import numpy as np\n",
    "import matplotlib.pyplot as plt\n",
    "from matplotlib import rc\n",
    "import matplotlib.ticker as ticker\n",
    "import pandas as pd\n",
    "import glob\n",
    "import re\n",
    "# Statistics\n",
    "from scipy.stats import norm\n",
    "from scipy.special import factorial\n",
    "from scipy.special import gammaln\n",
    "import scipy.optimize as spo\n",
    "# Parallel\n",
    "from concurrent.futures import ProcessPoolExecutor, as_completed\n",
    "from tqdm import tqdm"
   ]
  },
  {
   "cell_type": "code",
   "execution_count": 5,
   "id": "38acc81b",
   "metadata": {},
   "outputs": [],
   "source": [
    "# Matplotlib customize\n",
    "plt.rcParams['figure.figsize'] = [6,5]\n",
    "plt.rcParams['figure.dpi'] = 100\n",
    "\n",
    "plt.rcParams['axes.titlesize'] = 20\n",
    "plt.rcParams['axes.labelsize'] = 20\n",
    "\n",
    "plt.rcParams['lines.linewidth'] = 1.5\n",
    "plt.rcParams['lines.markersize'] = 4\n",
    "\n",
    "plt.rcParams['xtick.labelsize'] = 12\n",
    "plt.rcParams['ytick.labelsize'] = 12\n",
    "\n",
    "plt.rcParams['legend.fontsize'] = 12\n",
    "plt.rcParams['legend.markerscale'] = 1.5\n",
    "plt.rcParams['legend.borderpad'] = 0.6\n",
    "plt.rcParams['legend.framealpha'] = 0.7"
   ]
  },
  {
   "cell_type": "code",
   "execution_count": 6,
   "id": "acb5a0e4-ea1d-4b12-93a8-8c1b90f1639c",
   "metadata": {},
   "outputs": [
    {
     "name": "stdout",
     "output_type": "stream",
     "text": [
      "[100. 106. 112. 118. 124. 130. 136. 142. 148. 154. 160.]\n"
     ]
    }
   ],
   "source": [
    "Data = []\n",
    "Mass = np.array([])\n",
    "\n",
    "for f in glob.glob('Data/*.csv'):\n",
    "    #print(f)\n",
    "    \n",
    "    data = pd.read_csv(f,sep=',')\n",
    "    Data.append(data)\n",
    "\n",
    "    # Extraer los últimos tres números del nombre del archivo\n",
    "    match = re.search(r'(\\d{3})\\.csv$', f)\n",
    "    if match:\n",
    "        Mass = np.append(Mass, float(match.group(1)))\n",
    "\n",
    "# Emparejar los numeros con los dataframes\n",
    "paired = list(zip(Mass,Data))\n",
    "\n",
    "# Ordenar los pares segun las masas\n",
    "Mass_sorted = sorted(paired, key=lambda x: x[0])\n",
    "\n",
    "# Separar de nuevo los numeros y los dataFrames\n",
    "Mass_sorted, Data = zip(*Mass_sorted)\n",
    "\n",
    "# Numpy array\n",
    "Mass = np.array(Mass_sorted)\n",
    "\n",
    "print(Mass)"
   ]
  },
  {
   "cell_type": "code",
   "execution_count": 7,
   "id": "173b54cd",
   "metadata": {},
   "outputs": [],
   "source": [
    "# Reading channels\n",
    "data = Data[1]\n",
    "labels = list(data.keys())\n",
    "n = np.array(data[labels[0]])\n",
    "b = np.array(data[labels[1]])\n",
    "s = np.array(data[labels[2]])\n",
    "N = n.shape[0]"
   ]
  },
  {
   "cell_type": "code",
   "execution_count": 117,
   "id": "abc6e3ae-03cc-441b-ba53-5b13085f1167",
   "metadata": {},
   "outputs": [],
   "source": [
    "# Para el caso 1 canal\n",
    "data = pd.read_csv('Data/1Channel.csv',sep=',')\n",
    "labels = list(data.keys())\n",
    "n = np.array(data[labels[0]])\n",
    "b = np.array(data[labels[1]])\n",
    "s = np.array(data[labels[2]])\n",
    "N = n.shape[0]"
   ]
  },
  {
   "cell_type": "code",
   "execution_count": 118,
   "id": "abde1f5c-3755-4a20-a8fd-c7e9c90020a3",
   "metadata": {},
   "outputs": [],
   "source": [
    "def Gauss(x,mean=1.,sigma=0.1):\n",
    "    return norm.pdf(x,loc=mean,scale=sigma)"
   ]
  },
  {
   "cell_type": "code",
   "execution_count": 119,
   "id": "4805b992",
   "metadata": {},
   "outputs": [],
   "source": [
    "def LogLikelihood(p,mu,n,b,s):\n",
    "\n",
    "    e = p\n",
    "\n",
    "    r = 1e-5\n",
    "    lambda_ = mu*s + e*b + r\n",
    "    \n",
    "    log_likelihood = -lambda_ + n * np.log(lambda_) - gammaln(n+1)\n",
    "    \n",
    "    return log_likelihood"
   ]
  },
  {
   "cell_type": "code",
   "execution_count": 120,
   "id": "074ce71b-9151-48be-bae4-a1d61649cc11",
   "metadata": {},
   "outputs": [],
   "source": [
    "def GetJointLogLikelihood(p,n,b,s,sigmab=0.1):\n",
    "\n",
    "    mu,e = p\n",
    "    JointLog = 0.\n",
    "    \n",
    "    for c in range(N):             \n",
    "        JointLog += LogLikelihood(e,mu,n[c],b[c],s[c])\n",
    "        # Background uncertainty   \n",
    "        JointLog += np.log(Gauss(e,1.,sigmab))\n",
    "            \n",
    "    return -JointLog"
   ]
  },
  {
   "cell_type": "code",
   "execution_count": 121,
   "id": "9cdd6774",
   "metadata": {},
   "outputs": [],
   "source": [
    "def GetJointLogLikelihoodNuissance(p,mu,n,b,s,sigmab=0.1):\n",
    "\n",
    "    e = p\n",
    "    JointLog = 0.\n",
    "    for c in range(N):\n",
    "\n",
    "        JointLog += LogLikelihood(p,mu,n[c],b[c],s[c])\n",
    "        # Background uncertainty\n",
    "        JointLog += np.log(Gauss(e,1.,sigmab))\n",
    "            \n",
    "    return -JointLog"
   ]
  },
  {
   "cell_type": "code",
   "execution_count": 122,
   "id": "6d7100fa",
   "metadata": {},
   "outputs": [],
   "source": [
    "mu = np.linspace(0.05,2.,20)\n",
    "LogLike = GetJointLogLikelihoodNuissance(1.0,mu,n,b,s,0.1)"
   ]
  },
  {
   "cell_type": "code",
   "execution_count": 123,
   "id": "63f98692",
   "metadata": {},
   "outputs": [
    {
     "data": {
      "text/plain": [
       "[<matplotlib.lines.Line2D at 0x7ae3c45b6710>]"
      ]
     },
     "execution_count": 123,
     "metadata": {},
     "output_type": "execute_result"
    },
    {
     "data": {
      "image/png": "[encoded data removed]",
      "text/plain": [
       "<Figure size 600x500 with 1 Axes>"
      ]
     },
     "metadata": {},
     "output_type": "display_data"
    }
   ],
   "source": [
    "plt.plot(mu,LogLike)"
   ]
  },
  {
   "cell_type": "code",
   "execution_count": 124,
   "id": "64893a40-4cfe-4cfb-9775-dce7e01ea447",
   "metadata": {},
   "outputs": [],
   "source": [
    "def GetHat(n,b,s,sigmab=0.1):\n",
    "\n",
    "    bounds = ((0,50),(0,10))\n",
    "    p0 = np.array([1.,1.])\n",
    "    result = spo.minimize( GetJointLogLikelihood, p0, args=(n,b,s,sigmab), bounds=bounds, options={\"disp\":False}, method='Nelder-Mead' )\n",
    "    Hat = result.x\n",
    "\n",
    "    return Hat"
   ]
  },
  {
   "cell_type": "code",
   "execution_count": 125,
   "id": "7ae8b4d5-6a08-46cc-8528-859ffe4b0ef5",
   "metadata": {},
   "outputs": [],
   "source": [
    "def GetDoubleHat(mu,n,b,s,sigmab=0.1):\n",
    "    \n",
    "    bounds =  ((0,10),)\n",
    "    p0 = np.array([1.])\n",
    "    result = spo.minimize( GetJointLogLikelihoodNuissance, p0, args=(mu,n,b,s,sigmab), bounds=bounds, options={\"disp\":False}, method='Nelder-Mead' )\n",
    "    Doublehat = result.x[0]\n",
    "\n",
    "    return Doublehat"
   ]
  },
  {
   "cell_type": "code",
   "execution_count": 126,
   "id": "40392b27-10c6-4ccb-8270-be136457a2ba",
   "metadata": {},
   "outputs": [
    {
     "data": {
      "text/plain": [
       "0.9105468749999999"
      ]
     },
     "execution_count": 126,
     "metadata": {},
     "output_type": "execute_result"
    }
   ],
   "source": [
    "# Probando\n",
    "GetDoubleHat(1.5,n,b,s,0.3)"
   ]
  },
  {
   "cell_type": "code",
   "execution_count": 127,
   "id": "ec90738a-1759-4cad-9f3d-6e7386450988",
   "metadata": {},
   "outputs": [
    {
     "data": {
      "text/plain": [
       "array([0.50003274, 0.99999695])"
      ]
     },
     "execution_count": 127,
     "metadata": {},
     "output_type": "execute_result"
    }
   ],
   "source": [
    "GetHat(n,b,s,0.3)"
   ]
  },
  {
   "cell_type": "code",
   "execution_count": 128,
   "id": "bce5fa69",
   "metadata": {},
   "outputs": [],
   "source": [
    "# Probando funciones hat and double hat"
   ]
  },
  {
   "cell_type": "code",
   "execution_count": 129,
   "id": "67641245",
   "metadata": {},
   "outputs": [],
   "source": [
    "def GetqmObs(mu,n,b,s,sigmab=0.1):\n",
    "\n",
    "    doublehat = GetDoubleHat(mu,n,b,s,sigmab)\n",
    "    hat = GetHat(n,b,s,sigmab)\n",
    "    muhat,ehat = hat[0],hat[1]\n",
    "    \n",
    "    qm = 0.\n",
    "    \n",
    "    for c in range(N):\n",
    "        \n",
    "        if mu > muhat:\n",
    "            qm += -2*(LogLikelihood(doublehat,mu,n[c],b[c],s[c]) - LogLikelihood(ehat,muhat,n[c],b[c],s[c]))\n",
    "            qm += -2*( np.log(Gauss(doublehat,1,sigmab)) - np.log(Gauss(ehat,1,sigmab)) )\n",
    "        else:\n",
    "            qm += 0.\n",
    "            \n",
    "    return qm"
   ]
  },
  {
   "cell_type": "code",
   "execution_count": 81,
   "id": "0220bb57",
   "metadata": {},
   "outputs": [
    {
     "data": {
      "text/plain": [
       "2.9489826836465225"
      ]
     },
     "execution_count": 81,
     "metadata": {},
     "output_type": "execute_result"
    }
   ],
   "source": [
    "qmObs = GetqmObs(1.0,n,b,s)\n",
    "qmObs"
   ]
  },
  {
   "cell_type": "code",
   "execution_count": 82,
   "id": "eed5f195",
   "metadata": {},
   "outputs": [
    {
     "data": {
      "text/plain": [
       "5.135045031818867"
      ]
     },
     "execution_count": 82,
     "metadata": {},
     "output_type": "execute_result"
    }
   ],
   "source": [
    "# Expected\n",
    "qmObsE = GetqmObs(1.0,b,b,s)\n",
    "qmObsE"
   ]
  },
  {
   "cell_type": "code",
   "execution_count": 137,
   "id": "ffaf24b7",
   "metadata": {},
   "outputs": [],
   "source": [
    "mu = np.linspace(1.5,5.0,20)\n",
    "qmObsEV = np.zeros_like(mu)\n",
    "qmObsEV1 = np.zeros_like(mu)\n",
    "qmObsEV2 = np.zeros_like(mu)\n",
    "\n",
    "for i in range(mu.shape[0]):\n",
    "    qmObsEV[i] = GetqmObs(mu[i],n,b,s,sigmab=0.05)\n",
    "    qmObsEV1[i] = GetqmObs(mu[i],n,b,s,sigmab=0.1)\n",
    "    qmObsEV2[i] = GetqmObs(mu[i],n,b,s,sigmab=0.2)"
   ]
  },
  {
   "cell_type": "code",
   "execution_count": 138,
   "id": "bfc7dde5",
   "metadata": {},
   "outputs": [
    {
     "data": {
      "image/png": "[encoded data removed]",
      "text/plain": [
       "<Figure size 600x500 with 1 Axes>"
      ]
     },
     "metadata": {},
     "output_type": "display_data"
    }
   ],
   "source": [
    "fig = plt.figure()\n",
    "ax = fig.add_subplot(1,1,1)\n",
    "ax.plot(mu,qmObsEV,color='k',label=r'$\\sigma=$%.2f'%(0.05))\n",
    "ax.plot(mu,qmObsEV1,color='r',label=r'$\\sigma=$%.2f'%(0.1))\n",
    "ax.plot(mu,qmObsEV2,color='b',label=r'$\\sigma=$%.2f'%(0.2))\n",
    "\n",
    "ax.axhline(y=norm.ppf(0.95)**2,ls='--',color='g')\n",
    "\n",
    "# Label X\n",
    "ax.set_xlabel(r'$\\mu$')\n",
    "ax.xaxis.set_label_coords(0.95,-0.07)\n",
    "\n",
    "# Label Y\n",
    "ax.set_ylabel(r'$q_{\\mu}$')\n",
    "ax.yaxis.set_label_coords(-0.12,0.95)\n",
    "\n",
    "# Ajustar los márgenes automáticamente\n",
    "plt.tight_layout()\n",
    "\n",
    "#Legend\n",
    "ax.legend(loc='upper right',bbox_to_anchor=(1,1),ncol=1,title='')\n",
    "\n",
    "\n",
    "#\n",
    "plt.savefig('qm_plot_systematic.pdf')"
   ]
  },
  {
   "cell_type": "code",
   "execution_count": 139,
   "id": "18568b08",
   "metadata": {},
   "outputs": [],
   "source": [
    "def Getqm(mu,sigmab=0.1,Null=True):\n",
    "    \n",
    "    Ntoys = np.zeros(N)\n",
    "   \n",
    "    for c in range(N):\n",
    "        \n",
    "        if Null:\n",
    "            ntoy = np.random.poisson(b[c])\n",
    "        else:\n",
    "            ntoy = np.random.poisson(mu*s[c]+b[c])\n",
    "          \n",
    "        Ntoys[c] = ntoy\n",
    "            \n",
    "    return GetqmObs(mu,Ntoys,b,s,sigmab)"
   ]
  },
  {
   "cell_type": "code",
   "execution_count": 140,
   "id": "2db26824",
   "metadata": {},
   "outputs": [],
   "source": [
    "def Sampler(mu,Ntoys = int(3e2),sigmab=0.1):\n",
    "    \n",
    "    q0 = np.zeros(Ntoys)\n",
    "    q1 = np.zeros(Ntoys)\n",
    "    \n",
    "    for i in range(Ntoys):\n",
    "        q0[i] = Getqm(mu,sigmab,Null=True)\n",
    "        q1[i] = Getqm(mu,sigmab,Null=False)\n",
    "        \n",
    "    return q0,q1"
   ]
  },
  {
   "cell_type": "code",
   "execution_count": 141,
   "id": "e078b5e2-ee3f-46a9-8bcd-ade2878cc2a2",
   "metadata": {},
   "outputs": [],
   "source": [
    "#q0,q1 = Sampler(2,sigmab=0.1)\n",
    "#_ = plt.hist(q0,bins=50,density=True)\n",
    "#_ = plt.hist(q1,bins=50,density=True)"
   ]
  },
  {
   "cell_type": "code",
   "execution_count": 142,
   "id": "108a0723",
   "metadata": {},
   "outputs": [],
   "source": [
    "def GetPValue(data,Qobs):\n",
    "\n",
    "    count_above_threshold = np.sum( data >= Qobs )\n",
    "    p_value = count_above_threshold / data.shape[0]\n",
    "\n",
    "    return p_value"
   ]
  },
  {
   "cell_type": "code",
   "execution_count": 143,
   "id": "e5894b13-a017-4db3-8c18-01a56cef717b",
   "metadata": {},
   "outputs": [],
   "source": [
    "def GetCls_for_mu(i,mu, Expected=False, sigmab = 0.1):\n",
    "\n",
    "    if Expected:\n",
    "        qmObs = GetqmObs(mu,b,b,s,sigmab)\n",
    "    else:\n",
    "        qmObs = GetqmObs(mu,n,b,s,sigmab)\n",
    "            \n",
    "    q0,q1 = Sampler(mu,sigmab=sigmab)\n",
    "\n",
    "    p0 = GetPValue(q0,qmObs)\n",
    "    p1 = GetPValue(q1,qmObs)\n",
    "\n",
    "    if p0 != 0:\n",
    "        Cls = p1/p0\n",
    "    else:\n",
    "        print('Problemas con la hipotesis nula')\n",
    "        Cls = p1\n",
    "\n",
    "    return i,Cls"
   ]
  },
  {
   "cell_type": "code",
   "execution_count": 144,
   "id": "3edf3426-79b4-4a63-b912-29b2920f3447",
   "metadata": {},
   "outputs": [],
   "source": [
    "#GetCls_for_mu(0,2.5,sigmab=0.2)"
   ]
  },
  {
   "cell_type": "code",
   "execution_count": 145,
   "id": "99f0177a-a2b5-4472-836f-f609513f0335",
   "metadata": {},
   "outputs": [],
   "source": [
    "def GetCls_parallel(mu, Expected=False, sigmab = 0.1,num_processors=None):\n",
    "\n",
    "    p_value = np.zeros_like(mu)\n",
    "\n",
    "    with ProcessPoolExecutor(max_workers=num_processors) as executor:\n",
    "\n",
    "        futures = np.array([])\n",
    "\n",
    "        # Crear las tareas (futuras) para cada valor de mu\n",
    "        for i in range(mu.shape[0]):\n",
    "            futures = np.append(futures,executor.submit(GetCls_for_mu, i, mu[i], Expected=Expected, sigmab=sigmab))\n",
    "\n",
    "        # Recolectar los resultados a medida que se completan\n",
    "        for future in tqdm(as_completed(futures), total=len(futures)):\n",
    "            i, Cls = future.result()\n",
    "            p_value[i] = Cls\n",
    "\n",
    "    return p_value"
   ]
  },
  {
   "cell_type": "code",
   "execution_count": 147,
   "id": "c18ef7fd-a29d-4890-b11a-744f75e41c8c",
   "metadata": {},
   "outputs": [],
   "source": [
    "# Upper limit\n",
    "def GetUpperLimit(mu,Cls,alpha = 0.05):\n",
    "\n",
    "    i = np.where( Cls <= alpha )\n",
    "\n",
    "    if len(i[0]) == 0:\n",
    "        print('--- Cls is never less than alpha --- ')\n",
    "        return 0.\n",
    "    else:\n",
    "        i = i[0][0]\n",
    "\n",
    "    # Saving the indez where pvalues is less than the critical value\n",
    "\n",
    "    x0 = mu[i-1]\n",
    "    x1 = mu[i]\n",
    "    fx0 = Cls[i-1]\n",
    "    fx1 = Cls[i]\n",
    "\n",
    "    # Compute the slope\n",
    "    m = (fx1-fx0)/(x1-x0)\n",
    "\n",
    "    if m == 0:\n",
    "        print('--- Problem with the scan ---')\n",
    "        return 0.\n",
    "\n",
    "    # 1D Polynomial interpolation\n",
    "    mup = (alpha - fx0)/m + x0\n",
    "\n",
    "    return mup"
   ]
  },
  {
   "cell_type": "code",
   "execution_count": 148,
   "id": "56851568-fe2d-4158-a536-47dc2197dd96",
   "metadata": {},
   "outputs": [],
   "source": [
    "mu = np.linspace(1.5,5.0,10)"
   ]
  },
  {
   "cell_type": "code",
   "execution_count": 149,
   "id": "b6b37e90-9f49-4653-ba5c-a52ed45407e4",
   "metadata": {},
   "outputs": [
    {
     "name": "stderr",
     "output_type": "stream",
     "text": [
      "100%|█████████████████████████████████████████████████████████████████████████████████████████████| 10/10 [00:16<00:00,  1.68s/it]\n"
     ]
    }
   ],
   "source": [
    "Op_value = GetCls_parallel(mu,Expected=False,sigmab=0.1,num_processors=8)"
   ]
  },
  {
   "cell_type": "code",
   "execution_count": 150,
   "id": "96b4c6c0-32a4-477c-a15d-83b25ec1066f",
   "metadata": {},
   "outputs": [
    {
     "name": "stderr",
     "output_type": "stream",
     "text": [
      "100%|█████████████████████████████████████████████████████████████████████████████████████████████| 10/10 [00:19<00:00,  1.91s/it]\n"
     ]
    }
   ],
   "source": [
    "Op_value1 = GetCls_parallel(mu,Expected=False,sigmab=0.2,num_processors=8)"
   ]
  },
  {
   "cell_type": "code",
   "execution_count": 151,
   "id": "2591e104-f170-468a-861b-2d97a2f2fd99",
   "metadata": {},
   "outputs": [
    {
     "data": {
      "text/plain": [
       "2.6265410286611703"
      ]
     },
     "execution_count": 151,
     "metadata": {},
     "output_type": "execute_result"
    }
   ],
   "source": [
    "GetUpperLimit(mu,Op_value)"
   ]
  },
  {
   "cell_type": "code",
   "execution_count": 152,
   "id": "a51cfe45-b40a-4ea1-a7e1-65cfd406dec7",
   "metadata": {},
   "outputs": [
    {
     "data": {
      "text/plain": [
       "2.6265410286611703"
      ]
     },
     "execution_count": 152,
     "metadata": {},
     "output_type": "execute_result"
    }
   ],
   "source": [
    "GetUpperLimit(mu,Op_value1)"
   ]
  },
  {
   "cell_type": "code",
   "execution_count": 153,
   "id": "f6610545-835c-4c07-9433-ef7b3b4f660a",
   "metadata": {},
   "outputs": [
    {
     "data": {
      "text/plain": [
       "<matplotlib.lines.Line2D at 0x7ae3c8db3110>"
      ]
     },
     "execution_count": 153,
     "metadata": {},
     "output_type": "execute_result"
    },
    {
     "data": {
      "image/png": "[encoded data removed]",
      "text/plain": [
       "<Figure size 600x500 with 1 Axes>"
      ]
     },
     "metadata": {},
     "output_type": "display_data"
    }
   ],
   "source": [
    "plt.plot(mu,Op_value,color='k')\n",
    "plt.plot(mu,Op_value1,color='k')\n",
    "plt.axhline(y=0.05,color='r')"
   ]
  },
  {
   "cell_type": "code",
   "execution_count": 192,
   "id": "e998e916-9fd6-4024-91f1-0642ec2462b1",
   "metadata": {},
   "outputs": [
    {
     "data": {
      "text/plain": [
       "array([[100.,   0.,   0.,   0.,   0.,   0.,   0.],\n",
       "       [106.,   0.,   0.,   0.,   0.,   0.,   0.],\n",
       "       [112.,   0.,   0.,   0.,   0.,   0.,   0.],\n",
       "       [118.,   0.,   0.,   0.,   0.,   0.,   0.],\n",
       "       [124.,   0.,   0.,   0.,   0.,   0.,   0.],\n",
       "       [130.,   0.,   0.,   0.,   0.,   0.,   0.],\n",
       "       [136.,   0.,   0.,   0.,   0.,   0.,   0.],\n",
       "       [142.,   0.,   0.,   0.,   0.,   0.,   0.],\n",
       "       [148.,   0.,   0.,   0.,   0.,   0.,   0.],\n",
       "       [154.,   0.,   0.,   0.,   0.,   0.,   0.],\n",
       "       [160.,   0.,   0.,   0.,   0.,   0.,   0.]])"
      ]
     },
     "execution_count": 192,
     "metadata": {},
     "output_type": "execute_result"
    }
   ],
   "source": [
    "# Estructura de datos para guardar\n",
    "MatrizDatos = np.zeros((Mass.shape[0],7))\n",
    "MatrizDatos[:,0] = Mass\n",
    "MatrizDatos"
   ]
  },
  {
   "cell_type": "code",
   "execution_count": 101,
   "id": "66866c8b-0636-4523-a2aa-bffff02dc0ff",
   "metadata": {},
   "outputs": [
    {
     "name": "stdout",
     "output_type": "stream",
     "text": [
      "--- Estimating Limits for --- 100.0\n"
     ]
    },
    {
     "name": "stderr",
     "output_type": "stream",
     "text": [
      " 80%|███████████████████████████████████████████████████████████████████████████▏                  | 8/10 [02:08<00:32, 16.12s/it]Process ForkProcess-12:\n",
      "Process ForkProcess-13:\n",
      "Process ForkProcess-16:\n",
      "Process ForkProcess-15:\n",
      "Process ForkProcess-10:\n",
      "Process ForkProcess-11:\n",
      "Traceback (most recent call last):\n",
      "Traceback (most recent call last):\n",
      "  File \"/home/alejandro/anaconda3/lib/python3.11/multiprocessing/process.py\", line 314, in _bootstrap\n",
      "    self.run()\n",
      "Traceback (most recent call last):\n",
      "Traceback (most recent call last):\n",
      "Traceback (most recent call last):\n",
      "Traceback (most recent call last):\n",
      "  File \"/home/alejandro/anaconda3/lib/python3.11/multiprocessing/process.py\", line 108, in run\n",
      "    self._target(*self._args, **self._kwargs)\n",
      "  File \"/home/alejandro/anaconda3/lib/python3.11/multiprocessing/process.py\", line 314, in _bootstrap\n",
      "    self.run()\n",
      "  File \"/home/alejandro/anaconda3/lib/python3.11/multiprocessing/process.py\", line 314, in _bootstrap\n",
      "    self.run()\n",
      "  File \"/home/alejandro/anaconda3/lib/python3.11/multiprocessing/process.py\", line 314, in _bootstrap\n",
      "    self.run()\n",
      "  File \"/home/alejandro/anaconda3/lib/python3.11/multiprocessing/process.py\", line 314, in _bootstrap\n",
      "    self.run()\n",
      "  File \"/home/alejandro/anaconda3/lib/python3.11/concurrent/futures/process.py\", line 244, in _process_worker\n",
      "    call_item = call_queue.get(block=True)\n",
      "                ^^^^^^^^^^^^^^^^^^^^^^^^^^\n",
      "  File \"/home/alejandro/anaconda3/lib/python3.11/multiprocessing/process.py\", line 314, in _bootstrap\n",
      "    self.run()\n",
      "  File \"/home/alejandro/anaconda3/lib/python3.11/multiprocessing/process.py\", line 108, in run\n",
      "    self._target(*self._args, **self._kwargs)\n",
      "  File \"/home/alejandro/anaconda3/lib/python3.11/multiprocessing/process.py\", line 108, in run\n",
      "    self._target(*self._args, **self._kwargs)\n",
      "  File \"/home/alejandro/anaconda3/lib/python3.11/multiprocessing/process.py\", line 108, in run\n",
      "    self._target(*self._args, **self._kwargs)\n",
      "  File \"/home/alejandro/anaconda3/lib/python3.11/multiprocessing/process.py\", line 108, in run\n",
      "    self._target(*self._args, **self._kwargs)\n",
      "  File \"/home/alejandro/anaconda3/lib/python3.11/multiprocessing/queues.py\", line 103, in get\n",
      "    res = self._recv_bytes()\n",
      "          ^^^^^^^^^^^^^^^^^^\n",
      "  File \"/home/alejandro/anaconda3/lib/python3.11/multiprocessing/process.py\", line 108, in run\n",
      "    self._target(*self._args, **self._kwargs)\n",
      "  File \"/home/alejandro/anaconda3/lib/python3.11/concurrent/futures/process.py\", line 244, in _process_worker\n",
      "    call_item = call_queue.get(block=True)\n",
      "                ^^^^^^^^^^^^^^^^^^^^^^^^^^\n",
      "  File \"/home/alejandro/anaconda3/lib/python3.11/concurrent/futures/process.py\", line 244, in _process_worker\n",
      "    call_item = call_queue.get(block=True)\n",
      "                ^^^^^^^^^^^^^^^^^^^^^^^^^^\n",
      "  File \"/home/alejandro/anaconda3/lib/python3.11/multiprocessing/connection.py\", line 215, in recv_bytes\n",
      "    buf = self._recv_bytes(maxlength)\n",
      "          ^^^^^^^^^^^^^^^^^^^^^^^^^^^\n",
      "  File \"/home/alejandro/anaconda3/lib/python3.11/concurrent/futures/process.py\", line 244, in _process_worker\n",
      "    call_item = call_queue.get(block=True)\n",
      "                ^^^^^^^^^^^^^^^^^^^^^^^^^^\n",
      "  File \"/home/alejandro/anaconda3/lib/python3.11/multiprocessing/queues.py\", line 102, in get\n",
      "    with self._rlock:\n",
      "  File \"/home/alejandro/anaconda3/lib/python3.11/concurrent/futures/process.py\", line 244, in _process_worker\n",
      "    call_item = call_queue.get(block=True)\n",
      "                ^^^^^^^^^^^^^^^^^^^^^^^^^^\n",
      "  File \"/home/alejandro/anaconda3/lib/python3.11/multiprocessing/queues.py\", line 102, in get\n",
      "    with self._rlock:\n",
      "  File \"/home/alejandro/anaconda3/lib/python3.11/concurrent/futures/process.py\", line 244, in _process_worker\n",
      "    call_item = call_queue.get(block=True)\n",
      "                ^^^^^^^^^^^^^^^^^^^^^^^^^^\n",
      "  File \"/home/alejandro/anaconda3/lib/python3.11/multiprocessing/queues.py\", line 102, in get\n",
      "    with self._rlock:\n",
      "  File \"/home/alejandro/anaconda3/lib/python3.11/multiprocessing/connection.py\", line 413, in _recv_bytes\n",
      "    buf = self._recv(4)\n",
      "          ^^^^^^^^^^^^^\n",
      "  File \"/home/alejandro/anaconda3/lib/python3.11/multiprocessing/synchronize.py\", line 95, in __enter__\n",
      "    return self._semlock.__enter__()\n",
      "           ^^^^^^^^^^^^^^^^^^^^^^^^^\n",
      "  File \"/home/alejandro/anaconda3/lib/python3.11/multiprocessing/synchronize.py\", line 95, in __enter__\n",
      "    return self._semlock.__enter__()\n",
      "           ^^^^^^^^^^^^^^^^^^^^^^^^^\n",
      "  File \"/home/alejandro/anaconda3/lib/python3.11/multiprocessing/queues.py\", line 102, in get\n",
      "    with self._rlock:\n",
      "  File \"/home/alejandro/anaconda3/lib/python3.11/multiprocessing/queues.py\", line 102, in get\n",
      "    with self._rlock:\n",
      "  File \"/home/alejandro/anaconda3/lib/python3.11/multiprocessing/synchronize.py\", line 95, in __enter__\n",
      "    return self._semlock.__enter__()\n",
      "           ^^^^^^^^^^^^^^^^^^^^^^^^^\n",
      "KeyboardInterrupt\n",
      "  File \"/home/alejandro/anaconda3/lib/python3.11/multiprocessing/synchronize.py\", line 95, in __enter__\n",
      "    return self._semlock.__enter__()\n",
      "           ^^^^^^^^^^^^^^^^^^^^^^^^^\n",
      "  File \"/home/alejandro/anaconda3/lib/python3.11/multiprocessing/connection.py\", line 378, in _recv\n",
      "    chunk = read(handle, remaining)\n",
      "            ^^^^^^^^^^^^^^^^^^^^^^^\n",
      "  File \"/home/alejandro/anaconda3/lib/python3.11/multiprocessing/synchronize.py\", line 95, in __enter__\n",
      "    return self._semlock.__enter__()\n",
      "           ^^^^^^^^^^^^^^^^^^^^^^^^^\n",
      "KeyboardInterrupt\n",
      "KeyboardInterrupt\n",
      "KeyboardInterrupt\n",
      "KeyboardInterrupt\n",
      "KeyboardInterrupt\n",
      "\n",
      "Process ForkProcess-14:\n",
      "Process ForkProcess-9:\n",
      "Traceback (most recent call last):\n",
      "Traceback (most recent call last):\n",
      "  File \"/home/alejandro/anaconda3/lib/python3.11/multiprocessing/process.py\", line 314, in _bootstrap\n",
      "    self.run()\n",
      "  File \"/home/alejandro/anaconda3/lib/python3.11/multiprocessing/process.py\", line 314, in _bootstrap\n",
      "    self.run()\n"
     ]
    },
    {
     "ename": "KeyboardInterrupt",
     "evalue": "",
     "output_type": "error",
     "traceback": [
      "\u001b[0;31m---------------------------------------------------------------------------\u001b[0m",
      "\u001b[0;31mKeyboardInterrupt\u001b[0m                         Traceback (most recent call last)",
      "Cell \u001b[0;32mIn[98], line 15\u001b[0m, in \u001b[0;36mGetCls_parallel\u001b[0;34m(mu, Expected, num_processors)\u001b[0m\n\u001b[1;32m     14\u001b[0m \u001b[38;5;66;03m# Recolectar los resultados a medida que se completan\u001b[39;00m\n\u001b[0;32m---> 15\u001b[0m \u001b[38;5;28;01mfor\u001b[39;00m future \u001b[38;5;129;01min\u001b[39;00m tqdm(as_completed(futures), total\u001b[38;5;241m=\u001b[39m\u001b[38;5;28mlen\u001b[39m(futures)):\n\u001b[1;32m     16\u001b[0m     i, Cls \u001b[38;5;241m=\u001b[39m future\u001b[38;5;241m.\u001b[39mresult()\n",
      "File \u001b[0;32m~/anaconda3/lib/python3.11/site-packages/tqdm/std.py:1181\u001b[0m, in \u001b[0;36mtqdm.__iter__\u001b[0;34m(self)\u001b[0m\n\u001b[1;32m   1180\u001b[0m \u001b[38;5;28;01mtry\u001b[39;00m:\n\u001b[0;32m-> 1181\u001b[0m     \u001b[38;5;28;01mfor\u001b[39;00m obj \u001b[38;5;129;01min\u001b[39;00m iterable:\n\u001b[1;32m   1182\u001b[0m         \u001b[38;5;28;01myield\u001b[39;00m obj\n",
      "File \u001b[0;32m~/anaconda3/lib/python3.11/concurrent/futures/_base.py:243\u001b[0m, in \u001b[0;36mas_completed\u001b[0;34m(fs, timeout)\u001b[0m\n\u001b[1;32m    239\u001b[0m         \u001b[38;5;28;01mraise\u001b[39;00m \u001b[38;5;167;01mTimeoutError\u001b[39;00m(\n\u001b[1;32m    240\u001b[0m                 \u001b[38;5;124m'\u001b[39m\u001b[38;5;132;01m%d\u001b[39;00m\u001b[38;5;124m (of \u001b[39m\u001b[38;5;132;01m%d\u001b[39;00m\u001b[38;5;124m) futures unfinished\u001b[39m\u001b[38;5;124m'\u001b[39m \u001b[38;5;241m%\u001b[39m (\n\u001b[1;32m    241\u001b[0m                 \u001b[38;5;28mlen\u001b[39m(pending), total_futures))\n\u001b[0;32m--> 243\u001b[0m waiter\u001b[38;5;241m.\u001b[39mevent\u001b[38;5;241m.\u001b[39mwait(wait_timeout)\n\u001b[1;32m    245\u001b[0m \u001b[38;5;28;01mwith\u001b[39;00m waiter\u001b[38;5;241m.\u001b[39mlock:\n",
      "File \u001b[0;32m~/anaconda3/lib/python3.11/threading.py:622\u001b[0m, in \u001b[0;36mEvent.wait\u001b[0;34m(self, timeout)\u001b[0m\n\u001b[1;32m    621\u001b[0m \u001b[38;5;28;01mif\u001b[39;00m \u001b[38;5;129;01mnot\u001b[39;00m signaled:\n\u001b[0;32m--> 622\u001b[0m     signaled \u001b[38;5;241m=\u001b[39m \u001b[38;5;28mself\u001b[39m\u001b[38;5;241m.\u001b[39m_cond\u001b[38;5;241m.\u001b[39mwait(timeout)\n\u001b[1;32m    623\u001b[0m \u001b[38;5;28;01mreturn\u001b[39;00m signaled\n",
      "File \u001b[0;32m~/anaconda3/lib/python3.11/threading.py:320\u001b[0m, in \u001b[0;36mCondition.wait\u001b[0;34m(self, timeout)\u001b[0m\n\u001b[1;32m    319\u001b[0m \u001b[38;5;28;01mif\u001b[39;00m timeout \u001b[38;5;129;01mis\u001b[39;00m \u001b[38;5;28;01mNone\u001b[39;00m:\n\u001b[0;32m--> 320\u001b[0m     waiter\u001b[38;5;241m.\u001b[39macquire()\n\u001b[1;32m    321\u001b[0m     gotit \u001b[38;5;241m=\u001b[39m \u001b[38;5;28;01mTrue\u001b[39;00m\n",
      "\u001b[0;31mKeyboardInterrupt\u001b[0m: ",
      "\nDuring handling of the above exception, another exception occurred:\n",
      "\u001b[0;31mKeyboardInterrupt\u001b[0m                         Traceback (most recent call last)",
      "Cell \u001b[0;32mIn[101], line 12\u001b[0m\n\u001b[1;32m     10\u001b[0m \u001b[38;5;66;03m# SetPOI scan\u001b[39;00m\n\u001b[1;32m     11\u001b[0m mu \u001b[38;5;241m=\u001b[39m np\u001b[38;5;241m.\u001b[39mlinspace(\u001b[38;5;241m0.1\u001b[39m,\u001b[38;5;241m2\u001b[39m,\u001b[38;5;241m10\u001b[39m)\n\u001b[0;32m---> 12\u001b[0m Op_value \u001b[38;5;241m=\u001b[39m GetCls_parallel(mu,Expected\u001b[38;5;241m=\u001b[39m\u001b[38;5;28;01mFalse\u001b[39;00m,num_processors\u001b[38;5;241m=\u001b[39m\u001b[38;5;241m8\u001b[39m)\n\u001b[1;32m     13\u001b[0m Ep_value \u001b[38;5;241m=\u001b[39m GetCls_parallel(mu,Expected\u001b[38;5;241m=\u001b[39m\u001b[38;5;28;01mTrue\u001b[39;00m,num_processors\u001b[38;5;241m=\u001b[39m\u001b[38;5;241m8\u001b[39m)\n\u001b[1;32m     15\u001b[0m ExpectedLimit \u001b[38;5;241m=\u001b[39m GetUpperLimit(mu,Ep_value)\n",
      "Cell \u001b[0;32mIn[98], line 5\u001b[0m, in \u001b[0;36mGetCls_parallel\u001b[0;34m(mu, Expected, num_processors)\u001b[0m\n\u001b[1;32m      1\u001b[0m \u001b[38;5;28;01mdef\u001b[39;00m \u001b[38;5;21mGetCls_parallel\u001b[39m(mu, Expected\u001b[38;5;241m=\u001b[39m\u001b[38;5;28;01mFalse\u001b[39;00m, num_processors\u001b[38;5;241m=\u001b[39m\u001b[38;5;28;01mNone\u001b[39;00m):\n\u001b[1;32m      3\u001b[0m     p_value \u001b[38;5;241m=\u001b[39m np\u001b[38;5;241m.\u001b[39mzeros_like(mu)\n\u001b[0;32m----> 5\u001b[0m     \u001b[38;5;28;01mwith\u001b[39;00m ProcessPoolExecutor(max_workers\u001b[38;5;241m=\u001b[39mnum_processors) \u001b[38;5;28;01mas\u001b[39;00m executor:\n\u001b[1;32m      7\u001b[0m         futures \u001b[38;5;241m=\u001b[39m np\u001b[38;5;241m.\u001b[39marray([])\n\u001b[1;32m      9\u001b[0m         \u001b[38;5;66;03m# Crear las tareas (futuras) para cada valor de mu\u001b[39;00m\n",
      "File \u001b[0;32m~/anaconda3/lib/python3.11/concurrent/futures/_base.py:647\u001b[0m, in \u001b[0;36mExecutor.__exit__\u001b[0;34m(self, exc_type, exc_val, exc_tb)\u001b[0m\n\u001b[1;32m    646\u001b[0m \u001b[38;5;28;01mdef\u001b[39;00m \u001b[38;5;21m__exit__\u001b[39m(\u001b[38;5;28mself\u001b[39m, exc_type, exc_val, exc_tb):\n\u001b[0;32m--> 647\u001b[0m     \u001b[38;5;28mself\u001b[39m\u001b[38;5;241m.\u001b[39mshutdown(wait\u001b[38;5;241m=\u001b[39m\u001b[38;5;28;01mTrue\u001b[39;00m)\n\u001b[1;32m    648\u001b[0m     \u001b[38;5;28;01mreturn\u001b[39;00m \u001b[38;5;28;01mFalse\u001b[39;00m\n",
      "File \u001b[0;32m~/anaconda3/lib/python3.11/concurrent/futures/process.py:834\u001b[0m, in \u001b[0;36mProcessPoolExecutor.shutdown\u001b[0;34m(self, wait, cancel_futures)\u001b[0m\n\u001b[1;32m    831\u001b[0m         \u001b[38;5;28mself\u001b[39m\u001b[38;5;241m.\u001b[39m_executor_manager_thread_wakeup\u001b[38;5;241m.\u001b[39mwakeup()\n\u001b[1;32m    833\u001b[0m \u001b[38;5;28;01mif\u001b[39;00m \u001b[38;5;28mself\u001b[39m\u001b[38;5;241m.\u001b[39m_executor_manager_thread \u001b[38;5;129;01mis\u001b[39;00m \u001b[38;5;129;01mnot\u001b[39;00m \u001b[38;5;28;01mNone\u001b[39;00m \u001b[38;5;129;01mand\u001b[39;00m wait:\n\u001b[0;32m--> 834\u001b[0m     \u001b[38;5;28mself\u001b[39m\u001b[38;5;241m.\u001b[39m_executor_manager_thread\u001b[38;5;241m.\u001b[39mjoin()\n\u001b[1;32m    835\u001b[0m \u001b[38;5;66;03m# To reduce the risk of opening too many files, remove references to\u001b[39;00m\n\u001b[1;32m    836\u001b[0m \u001b[38;5;66;03m# objects that use file descriptors.\u001b[39;00m\n\u001b[1;32m    837\u001b[0m \u001b[38;5;28mself\u001b[39m\u001b[38;5;241m.\u001b[39m_executor_manager_thread \u001b[38;5;241m=\u001b[39m \u001b[38;5;28;01mNone\u001b[39;00m\n",
      "File \u001b[0;32m~/anaconda3/lib/python3.11/threading.py:1112\u001b[0m, in \u001b[0;36mThread.join\u001b[0;34m(self, timeout)\u001b[0m\n\u001b[1;32m   1109\u001b[0m     \u001b[38;5;28;01mraise\u001b[39;00m \u001b[38;5;167;01mRuntimeError\u001b[39;00m(\u001b[38;5;124m\"\u001b[39m\u001b[38;5;124mcannot join current thread\u001b[39m\u001b[38;5;124m\"\u001b[39m)\n\u001b[1;32m   1111\u001b[0m \u001b[38;5;28;01mif\u001b[39;00m timeout \u001b[38;5;129;01mis\u001b[39;00m \u001b[38;5;28;01mNone\u001b[39;00m:\n\u001b[0;32m-> 1112\u001b[0m     \u001b[38;5;28mself\u001b[39m\u001b[38;5;241m.\u001b[39m_wait_for_tstate_lock()\n\u001b[1;32m   1113\u001b[0m \u001b[38;5;28;01melse\u001b[39;00m:\n\u001b[1;32m   1114\u001b[0m     \u001b[38;5;66;03m# the behavior of a negative timeout isn't documented, but\u001b[39;00m\n\u001b[1;32m   1115\u001b[0m     \u001b[38;5;66;03m# historically .join(timeout=x) for x<0 has acted as if timeout=0\u001b[39;00m\n\u001b[1;32m   1116\u001b[0m     \u001b[38;5;28mself\u001b[39m\u001b[38;5;241m.\u001b[39m_wait_for_tstate_lock(timeout\u001b[38;5;241m=\u001b[39m\u001b[38;5;28mmax\u001b[39m(timeout, \u001b[38;5;241m0\u001b[39m))\n",
      "File \u001b[0;32m~/anaconda3/lib/python3.11/threading.py:1132\u001b[0m, in \u001b[0;36mThread._wait_for_tstate_lock\u001b[0;34m(self, block, timeout)\u001b[0m\n\u001b[1;32m   1129\u001b[0m     \u001b[38;5;28;01mreturn\u001b[39;00m\n\u001b[1;32m   1131\u001b[0m \u001b[38;5;28;01mtry\u001b[39;00m:\n\u001b[0;32m-> 1132\u001b[0m     \u001b[38;5;28;01mif\u001b[39;00m lock\u001b[38;5;241m.\u001b[39macquire(block, timeout):\n\u001b[1;32m   1133\u001b[0m         lock\u001b[38;5;241m.\u001b[39mrelease()\n\u001b[1;32m   1134\u001b[0m         \u001b[38;5;28mself\u001b[39m\u001b[38;5;241m.\u001b[39m_stop()\n",
      "\u001b[0;31mKeyboardInterrupt\u001b[0m: "
     ]
    },
    {
     "name": "stderr",
     "output_type": "stream",
     "text": [
      "  File \"/home/alejandro/anaconda3/lib/python3.11/multiprocessing/process.py\", line 108, in run\n",
      "    self._target(*self._args, **self._kwargs)\n",
      "  File \"/home/alejandro/anaconda3/lib/python3.11/multiprocessing/process.py\", line 108, in run\n",
      "    self._target(*self._args, **self._kwargs)\n",
      "  File \"/home/alejandro/anaconda3/lib/python3.11/concurrent/futures/process.py\", line 244, in _process_worker\n",
      "    call_item = call_queue.get(block=True)\n",
      "                ^^^^^^^^^^^^^^^^^^^^^^^^^^\n",
      "  File \"/home/alejandro/anaconda3/lib/python3.11/concurrent/futures/process.py\", line 244, in _process_worker\n",
      "    call_item = call_queue.get(block=True)\n",
      "                ^^^^^^^^^^^^^^^^^^^^^^^^^^\n",
      "  File \"/home/alejandro/anaconda3/lib/python3.11/multiprocessing/queues.py\", line 102, in get\n",
      "    with self._rlock:\n",
      "  File \"/home/alejandro/anaconda3/lib/python3.11/multiprocessing/queues.py\", line 102, in get\n",
      "    with self._rlock:\n",
      "  File \"/home/alejandro/anaconda3/lib/python3.11/multiprocessing/synchronize.py\", line 95, in __enter__\n",
      "    return self._semlock.__enter__()\n",
      "           ^^^^^^^^^^^^^^^^^^^^^^^^^\n",
      "  File \"/home/alejandro/anaconda3/lib/python3.11/multiprocessing/synchronize.py\", line 95, in __enter__\n",
      "    return self._semlock.__enter__()\n",
      "           ^^^^^^^^^^^^^^^^^^^^^^^^^\n",
      "KeyboardInterrupt\n",
      "KeyboardInterrupt\n"
     ]
    }
   ],
   "source": [
    "for i, data in enumerate(Data):\n",
    "\n",
    "    print('--- Estimating Limits for ---', Mass[i])\n",
    "    labels = list(data.keys())\n",
    "    n = np.array(data[labels[0]])\n",
    "    b = np.array(data[labels[1]])\n",
    "    s = np.array(data[labels[2]])\n",
    "    N = n.shape[0]\n",
    "\n",
    "    # SetPOI scan\n",
    "    mu = np.linspace(0.1,2,10)\n",
    "    Op_value = GetCls_parallel(mu,Expected=False,num_processors=8)\n",
    "    Ep_value = GetCls_parallel(mu,Expected=True,num_processors=8)\n",
    "\n",
    "    ExpectedLimit = GetUpperLimit(mu,Ep_value)\n",
    "    ObservedLimit = GetUpperLimit(mu,Op_value)\n",
    "\n",
    "    # For Errors\n",
    "    Qm = GetqmObs(ExpectedLimit,b,b,s)\n",
    "    sigma = ExpectedLimit / np.sqrt(Qm)\n",
    "\n",
    "    \n",
    "    MatrizDatos[i,1] =  2*sigma    \n",
    "    MatrizDatos[i,2] =  1*sigma\n",
    "    MatrizDatos[i,3] = ExpectedLimit\n",
    "    MatrizDatos[i,4] = 1*sigma\n",
    "    MatrizDatos[i,5] = 2*sigma\n",
    "    # Observed Limit\n",
    "    MatrizDatos[i,6] = ObservedLimit"
   ]
  },
  {
   "cell_type": "code",
   "execution_count": 29,
   "id": "0604041d-72be-4560-8678-e5a062186a08",
   "metadata": {},
   "outputs": [
    {
     "data": {
      "text/html": [
       "<div>\n",
       "<style scoped>\n",
       "    .dataframe tbody tr th:only-of-type {\n",
       "        vertical-align: middle;\n",
       "    }\n",
       "\n",
       "    .dataframe tbody tr th {\n",
       "        vertical-align: top;\n",
       "    }\n",
       "\n",
       "    .dataframe thead th {\n",
       "        text-align: right;\n",
       "    }\n",
       "</style>\n",
       "<table border=\"1\" class=\"dataframe\">\n",
       "  <thead>\n",
       "    <tr style=\"text-align: right;\">\n",
       "      <th></th>\n",
       "      <th>Mass</th>\n",
       "      <th>-2sigma</th>\n",
       "      <th>-1sigma</th>\n",
       "      <th>Expected</th>\n",
       "      <th>+1sigma</th>\n",
       "      <th>+2sigma</th>\n",
       "      <th>Observed</th>\n",
       "    </tr>\n",
       "  </thead>\n",
       "  <tbody>\n",
       "    <tr>\n",
       "      <th>0</th>\n",
       "      <td>100.0</td>\n",
       "      <td>0.886415</td>\n",
       "      <td>0.443208</td>\n",
       "      <td>0.882298</td>\n",
       "      <td>0.443208</td>\n",
       "      <td>0.886415</td>\n",
       "      <td>0.739911</td>\n",
       "    </tr>\n",
       "    <tr>\n",
       "      <th>1</th>\n",
       "      <td>106.0</td>\n",
       "      <td>0.555314</td>\n",
       "      <td>0.277657</td>\n",
       "      <td>0.581550</td>\n",
       "      <td>0.277657</td>\n",
       "      <td>0.555314</td>\n",
       "      <td>0.489799</td>\n",
       "    </tr>\n",
       "    <tr>\n",
       "      <th>2</th>\n",
       "      <td>112.0</td>\n",
       "      <td>0.544375</td>\n",
       "      <td>0.272188</td>\n",
       "      <td>0.573112</td>\n",
       "      <td>0.272188</td>\n",
       "      <td>0.544375</td>\n",
       "      <td>0.572979</td>\n",
       "    </tr>\n",
       "    <tr>\n",
       "      <th>3</th>\n",
       "      <td>118.0</td>\n",
       "      <td>0.483921</td>\n",
       "      <td>0.241961</td>\n",
       "      <td>0.511386</td>\n",
       "      <td>0.241961</td>\n",
       "      <td>0.483921</td>\n",
       "      <td>1.120789</td>\n",
       "    </tr>\n",
       "    <tr>\n",
       "      <th>4</th>\n",
       "      <td>124.0</td>\n",
       "      <td>0.435339</td>\n",
       "      <td>0.217669</td>\n",
       "      <td>0.463232</td>\n",
       "      <td>0.217669</td>\n",
       "      <td>0.435339</td>\n",
       "      <td>1.403922</td>\n",
       "    </tr>\n",
       "    <tr>\n",
       "      <th>5</th>\n",
       "      <td>130.0</td>\n",
       "      <td>0.394204</td>\n",
       "      <td>0.197102</td>\n",
       "      <td>0.438148</td>\n",
       "      <td>0.197102</td>\n",
       "      <td>0.394204</td>\n",
       "      <td>0.881879</td>\n",
       "    </tr>\n",
       "    <tr>\n",
       "      <th>6</th>\n",
       "      <td>136.0</td>\n",
       "      <td>0.366350</td>\n",
       "      <td>0.183175</td>\n",
       "      <td>0.390781</td>\n",
       "      <td>0.183175</td>\n",
       "      <td>0.366350</td>\n",
       "      <td>0.438574</td>\n",
       "    </tr>\n",
       "    <tr>\n",
       "      <th>7</th>\n",
       "      <td>142.0</td>\n",
       "      <td>0.330437</td>\n",
       "      <td>0.165219</td>\n",
       "      <td>0.336590</td>\n",
       "      <td>0.165219</td>\n",
       "      <td>0.330437</td>\n",
       "      <td>0.297902</td>\n",
       "    </tr>\n",
       "    <tr>\n",
       "      <th>8</th>\n",
       "      <td>148.0</td>\n",
       "      <td>0.315076</td>\n",
       "      <td>0.157538</td>\n",
       "      <td>0.307437</td>\n",
       "      <td>0.157538</td>\n",
       "      <td>0.315076</td>\n",
       "      <td>0.440832</td>\n",
       "    </tr>\n",
       "    <tr>\n",
       "      <th>9</th>\n",
       "      <td>154.0</td>\n",
       "      <td>0.273804</td>\n",
       "      <td>0.136902</td>\n",
       "      <td>0.296279</td>\n",
       "      <td>0.136902</td>\n",
       "      <td>0.273804</td>\n",
       "      <td>0.440135</td>\n",
       "    </tr>\n",
       "    <tr>\n",
       "      <th>10</th>\n",
       "      <td>160.0</td>\n",
       "      <td>0.384472</td>\n",
       "      <td>0.192236</td>\n",
       "      <td>0.452886</td>\n",
       "      <td>0.192236</td>\n",
       "      <td>0.384472</td>\n",
       "      <td>0.459118</td>\n",
       "    </tr>\n",
       "  </tbody>\n",
       "</table>\n",
       "</div>"
      ],
      "text/plain": [
       "     Mass   -2sigma   -1sigma  Expected   +1sigma   +2sigma  Observed\n",
       "0   100.0  0.886415  0.443208  0.882298  0.443208  0.886415  0.739911\n",
       "1   106.0  0.555314  0.277657  0.581550  0.277657  0.555314  0.489799\n",
       "2   112.0  0.544375  0.272188  0.573112  0.272188  0.544375  0.572979\n",
       "3   118.0  0.483921  0.241961  0.511386  0.241961  0.483921  1.120789\n",
       "4   124.0  0.435339  0.217669  0.463232  0.217669  0.435339  1.403922\n",
       "5   130.0  0.394204  0.197102  0.438148  0.197102  0.394204  0.881879\n",
       "6   136.0  0.366350  0.183175  0.390781  0.183175  0.366350  0.438574\n",
       "7   142.0  0.330437  0.165219  0.336590  0.165219  0.330437  0.297902\n",
       "8   148.0  0.315076  0.157538  0.307437  0.157538  0.315076  0.440832\n",
       "9   154.0  0.273804  0.136902  0.296279  0.136902  0.273804  0.440135\n",
       "10  160.0  0.384472  0.192236  0.452886  0.192236  0.384472  0.459118"
      ]
     },
     "execution_count": 29,
     "metadata": {},
     "output_type": "execute_result"
    }
   ],
   "source": [
    "DataFinal = pd.DataFrame(MatrizDatos)\n",
    "DataFinal.columns = ['Mass','-2sigma','-1sigma','Expected','+1sigma','+2sigma','Observed']\n",
    "DataFinal"
   ]
  },
  {
   "cell_type": "code",
   "execution_count": 30,
   "id": "1fe5aa4d-223e-4ce2-8103-3f25bd2f4d62",
   "metadata": {},
   "outputs": [],
   "source": [
    "DataFinal.to_csv('UpperLimitMassScanqm.csv',index=False)"
   ]
  },
  {
   "cell_type": "code",
   "execution_count": 31,
   "id": "7d2e789e-5291-4cfa-a162-a75c4f1cd931",
   "metadata": {},
   "outputs": [
    {
     "data": {
      "text/plain": [
       "<Axes: xlabel='Mass', ylabel='Expected'>"
      ]
     },
     "execution_count": 31,
     "metadata": {},
     "output_type": "execute_result"
    },
    {
     "data": {
      "image/png": "[encoded data removed]",
      "text/plain": [
       "<Figure size 600x500 with 1 Axes>"
      ]
     },
     "metadata": {},
     "output_type": "display_data"
    }
   ],
   "source": [
    "import seaborn as sns\n",
    "sns.scatterplot(x='Mass',y='Expected',data = DataFinal)\n",
    "sns.scatterplot(x='Mass',y='Observed',data = DataFinal)"
   ]
  },
  {
   "cell_type": "code",
   "execution_count": 33,
   "id": "5914b95e",
   "metadata": {},
   "outputs": [
    {
     "name": "stderr",
     "output_type": "stream",
     "text": [
      "No artists with labels found to put in legend.  Note that artists whose label start with an underscore are ignored when legend() is called with no argument.\n"
     ]
    },
    {
     "data": {
      "image/png": "[encoded data removed]",
      "text/plain": [
       "<Figure size 600x500 with 1 Axes>"
      ]
     },
     "metadata": {},
     "output_type": "display_data"
    }
   ],
   "source": [
    "fig = plt.figure()\n",
    "ax = fig.add_subplot(1,1,1)\n",
    "#ax.hist(q0,bins=35,color='green',density=True,label=r'$f(q_{\\mu};0)$')\n",
    "#ax.hist(q1,bins=35,color='yellow',density=True,label=r'$f(q_{\\mu};\\mu)$')\n",
    "#ax.axvline(x=qmObs,color='k',label=r'$q_{\\mu,obs}$')\n",
    "\n",
    "# Label X\n",
    "ax.set_xlabel(r'$q_{\\mu}$')\n",
    "ax.xaxis.set_label_coords(0.95,-0.07)\n",
    "\n",
    "# Label Y\n",
    "ax.set_ylabel(r'$f(q_{\\mu})$')\n",
    "ax.yaxis.set_label_coords(-0.12,0.85)\n",
    "\n",
    "ax.set_yscale('log')\n",
    "\n",
    "# Ajustar los márgenes automáticamente\n",
    "plt.tight_layout()\n",
    "\n",
    "#Legend\n",
    "ax.legend(loc='upper right',bbox_to_anchor=(1,1),ncol=1,title='')\n",
    "\n",
    "#\n",
    "#plt.savefig('Distribution_qm.pdf')"
   ]
  },
  {
   "cell_type": "code",
   "execution_count": null,
   "id": "00904d20-e735-4b93-9c22-ad69f9c8d406",
   "metadata": {},
   "outputs": [],
   "source": []
  }
 ],
 "metadata": {
  "kernelspec": {
   "display_name": "Python 3 (ipykernel)",
   "language": "python",
   "name": "python3"
  },
  "language_info": {
   "codemirror_mode": {
    "name": "ipython",
    "version": 3
   },
   "file_extension": ".py",
   "mimetype": "text/x-python",
   "name": "python",
   "nbconvert_exporter": "python",
   "pygments_lexer": "ipython3",
   "version": "3.11.5"
  }
 },
 "nbformat": 4,
 "nbformat_minor": 5
}
