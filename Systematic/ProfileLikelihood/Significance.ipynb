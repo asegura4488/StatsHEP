{
 "cells": [
  {
   "cell_type": "code",
   "execution_count": 30,
   "id": "008b9e24",
   "metadata": {},
   "outputs": [],
   "source": [
    "import numpy as np\n",
    "import matplotlib.pyplot as plt\n",
    "from matplotlib import rc\n",
    "import matplotlib.ticker as ticker\n",
    "import pandas as pd\n",
    "import glob\n",
    "import re\n",
    "# Statistics\n",
    "from scipy.stats import norm\n",
    "from scipy.stats import poisson\n",
    "from scipy.special import factorial\n",
    "from scipy.special import gammaln\n",
    "import scipy.optimize as spo\n",
    "# Parallel\n",
    "from concurrent.futures import ProcessPoolExecutor, as_completed\n",
    "from tqdm import tqdm"
   ]
  },
  {
   "cell_type": "code",
   "execution_count": 31,
   "id": "38acc81b",
   "metadata": {},
   "outputs": [],
   "source": [
    "# Matplotlib customize\n",
    "plt.rcParams['figure.figsize'] = [6,5]\n",
    "plt.rcParams['figure.dpi'] = 100\n",
    "\n",
    "plt.rcParams['axes.titlesize'] = 20\n",
    "plt.rcParams['axes.labelsize'] = 20\n",
    "\n",
    "plt.rcParams['lines.linewidth'] = 1.5\n",
    "plt.rcParams['lines.markersize'] = 4\n",
    "\n",
    "plt.rcParams['xtick.labelsize'] = 12\n",
    "plt.rcParams['ytick.labelsize'] = 12\n",
    "\n",
    "plt.rcParams['legend.fontsize'] = 12\n",
    "plt.rcParams['legend.markerscale'] = 1.5\n",
    "plt.rcParams['legend.borderpad'] = 0.6\n",
    "plt.rcParams['legend.framealpha'] = 0.7"
   ]
  },
  {
   "cell_type": "code",
   "execution_count": 32,
   "id": "acb5a0e4-ea1d-4b12-93a8-8c1b90f1639c",
   "metadata": {},
   "outputs": [
    {
     "name": "stdout",
     "output_type": "stream",
     "text": [
      "[100. 106. 112. 118. 124. 130. 136. 142. 148. 154. 160.]\n"
     ]
    }
   ],
   "source": [
    "Data = []\n",
    "Mass = np.array([])\n",
    "\n",
    "for f in glob.glob('Data/*.csv'):\n",
    "    #print(f)\n",
    "    \n",
    "    data = pd.read_csv(f,sep=',')\n",
    "    Data.append(data)\n",
    "\n",
    "    # Extraer los últimos tres números del nombre del archivo\n",
    "    match = re.search(r'(\\d{3})\\.csv$', f)\n",
    "    if match:\n",
    "        Mass = np.append(Mass, float(match.group(1)))\n",
    "\n",
    "# Emparejar los numeros con los dataframes\n",
    "paired = list(zip(Mass,Data))\n",
    "\n",
    "# Ordenar los pares segun las masas\n",
    "Mass_sorted = sorted(paired, key=lambda x: x[0])\n",
    "\n",
    "# Separar de nuevo los numeros y los dataFrames\n",
    "Mass_sorted, Data = zip(*Mass_sorted)\n",
    "\n",
    "# Numpy array\n",
    "Mass = np.array(Mass_sorted)\n",
    "\n",
    "print(Mass)"
   ]
  },
  {
   "cell_type": "code",
   "execution_count": 33,
   "id": "173b54cd",
   "metadata": {},
   "outputs": [],
   "source": [
    "# Reading channels\n",
    "data = Data[1]\n",
    "labels = list(data.keys())\n",
    "n = np.array(data[labels[0]])\n",
    "b = np.array(data[labels[1]])\n",
    "s = np.array(data[labels[2]])\n",
    "# For expected\n",
    "#n = b\n",
    "N = n.shape[0]"
   ]
  },
  {
   "cell_type": "code",
   "execution_count": 34,
   "id": "abc6e3ae-03cc-441b-ba53-5b13085f1167",
   "metadata": {},
   "outputs": [],
   "source": [
    "# Para el caso 1 canal\n",
    "data = pd.read_csv('Data/1Channel.csv',sep=',')\n",
    "labels = list(data.keys())\n",
    "n = np.array(data[labels[0]])\n",
    "b = np.array(data[labels[1]])\n",
    "s = np.array(data[labels[2]])\n",
    "# For expected\n",
    "#n = b\n",
    "N = n.shape[0]"
   ]
  },
  {
   "cell_type": "code",
   "execution_count": 35,
   "id": "ad5a84ee-04ce-470d-a59d-c283d4519a82",
   "metadata": {},
   "outputs": [],
   "source": [
    "def Gauss(x,mean=1.,sigma=0.2):\n",
    "    return norm.pdf(x,loc=mean,scale=sigma)"
   ]
  },
  {
   "cell_type": "code",
   "execution_count": 36,
   "id": "39d01f84-1b0b-48a9-bd9c-f39e717546ad",
   "metadata": {},
   "outputs": [],
   "source": [
    "def Poisson(n,l):\n",
    "    return poisson.pmf(n,mu=l)"
   ]
  },
  {
   "cell_type": "code",
   "execution_count": 37,
   "id": "abde1f5c-3755-4a20-a8fd-c7e9c90020a3",
   "metadata": {},
   "outputs": [
    {
     "data": {
      "text/plain": [
       "0.1562934518505317"
      ]
     },
     "execution_count": 37,
     "metadata": {},
     "output_type": "execute_result"
    }
   ],
   "source": [
    "Poisson(5,4)"
   ]
  },
  {
   "cell_type": "code",
   "execution_count": 38,
   "id": "775e3604-bff8-4c65-b1e3-e7b78ac8af3f",
   "metadata": {},
   "outputs": [],
   "source": [
    "def Poisson1(n,l):\n",
    "\n",
    "    if l > 0.:\n",
    "        log_likelihood = -l + n*np.log(l) - gammaln(n+1)  # Softening parameter\n",
    "        return np.exp(log_likelihood)\n",
    "    else:\n",
    "        return 0."
   ]
  },
  {
   "cell_type": "code",
   "execution_count": 39,
   "id": "7bbcee01-549f-482a-81f2-dfe02d269ac6",
   "metadata": {},
   "outputs": [
    {
     "data": {
      "text/plain": [
       "0.00306566200976202"
      ]
     },
     "execution_count": 39,
     "metadata": {},
     "output_type": "execute_result"
    }
   ],
   "source": [
    "Poisson1(5,1)"
   ]
  },
  {
   "cell_type": "code",
   "execution_count": 40,
   "id": "2f1681d7-bfa6-417c-bc98-c36cce9734f1",
   "metadata": {},
   "outputs": [],
   "source": [
    "def Likelihood(p,sigma,n,b,s):\n",
    "\n",
    "    mu,e = p\n",
    "    l = mu*s+e*b\n",
    "    \n",
    "    return Poisson1(n,l)*Gauss(e,1.,sigma=sigma)"
   ]
  },
  {
   "cell_type": "code",
   "execution_count": 41,
   "id": "22d249a8-f9d9-4492-9275-20dcc1d01262",
   "metadata": {},
   "outputs": [
    {
     "data": {
      "text/plain": [
       "0.15445412480195864"
      ]
     },
     "execution_count": 41,
     "metadata": {},
     "output_type": "execute_result"
    }
   ],
   "source": [
    "# Probando la funcion de likelihood\n",
    "Likelihood(np.array([0.4,1.]),0.1,n[0],b[0],s[0])"
   ]
  },
  {
   "cell_type": "code",
   "execution_count": 42,
   "id": "5a869133-d4b9-4491-943c-c2fa897f98ee",
   "metadata": {},
   "outputs": [],
   "source": [
    "def GetJointLikelihood(p,sigma,n,b,s):\n",
    "\n",
    "    JointLike = 0.\n",
    "    # All the channels\n",
    "    for c in range(N):\n",
    "        JointLike += -2*np.log(Likelihood(p,sigma,n[c],b[c],s[c]))\n",
    "\n",
    "    return JointLike"
   ]
  },
  {
   "cell_type": "code",
   "execution_count": 43,
   "id": "42db2c13-8252-4021-a329-b8e8ac5cac40",
   "metadata": {},
   "outputs": [
    {
     "data": {
      "text/plain": [
       "3.7357163071680115"
      ]
     },
     "execution_count": 43,
     "metadata": {},
     "output_type": "execute_result"
    }
   ],
   "source": [
    "GetJointLikelihood(np.array([0.4,1.]),0.1,n,b,s)"
   ]
  },
  {
   "cell_type": "code",
   "execution_count": 44,
   "id": "5b37c80c-bd83-4f55-acc9-3fb8e2c984e2",
   "metadata": {},
   "outputs": [],
   "source": [
    "def GetJointLikelihoodNuissance(p,mu,sigma,n,b,s):\n",
    "\n",
    "    e = p[0]\n",
    "    JointLike = 0.\n",
    "    # All the channels\n",
    "    for c in range(N):\n",
    "        JointLike += -2*np.log(Likelihood(np.array([mu,e]),sigma,n[c],b[c],s[c]))\n",
    "\n",
    "    return JointLike"
   ]
  },
  {
   "cell_type": "code",
   "execution_count": 45,
   "id": "b8073762-3b12-442d-a0d1-8b1231284f43",
   "metadata": {},
   "outputs": [
    {
     "data": {
      "text/plain": [
       "3.956928310448823"
      ]
     },
     "execution_count": 45,
     "metadata": {},
     "output_type": "execute_result"
    }
   ],
   "source": [
    "GetJointLikelihoodNuissance(np.array([1.]),1.,0.1,n,b,s)"
   ]
  },
  {
   "cell_type": "code",
   "execution_count": 46,
   "id": "64893a40-4cfe-4cfb-9775-dce7e01ea447",
   "metadata": {},
   "outputs": [],
   "source": [
    "def GetHat(n,b,s,sigma=0.1):\n",
    "\n",
    "    bounds = ((-20,20),(-10,10))\n",
    "    p0 = np.array([1.,1.])\n",
    "    result = spo.minimize( GetJointLikelihood, p0, args=(sigma,n,b,s), bounds=bounds, options={\"disp\":False}, method='Nelder-Mead' )\n",
    "    Hat = result.x\n",
    "\n",
    "    return Hat"
   ]
  },
  {
   "cell_type": "code",
   "execution_count": 47,
   "id": "7ae8b4d5-6a08-46cc-8528-859ffe4b0ef5",
   "metadata": {},
   "outputs": [],
   "source": [
    "def GetDoubleHat(mu,sigma,n,b,s):\n",
    "    \n",
    "    bounds =  ((0,10),)\n",
    "    p0 = np.array([1.])\n",
    "    result = spo.minimize( GetJointLikelihoodNuissance, p0, args=(mu,sigma,n,b,s), bounds=bounds, options={\"disp\":False}, method='Nelder-Mead' )\n",
    "    Doublehat = result.x[0]\n",
    "\n",
    "    return Doublehat"
   ]
  },
  {
   "cell_type": "code",
   "execution_count": 48,
   "id": "7fa59b56-b57c-4bc0-b03c-2aeb6eafb092",
   "metadata": {},
   "outputs": [
    {
     "data": {
      "text/plain": [
       "array([0.49996987, 1.00000148])"
      ]
     },
     "execution_count": 48,
     "metadata": {},
     "output_type": "execute_result"
    }
   ],
   "source": [
    "mu = 2.5\n",
    "sigma = 0.1\n",
    "GetHat(n,b,s,sigma)"
   ]
  },
  {
   "cell_type": "code",
   "execution_count": 49,
   "id": "40392b27-10c6-4ccb-8270-be136457a2ba",
   "metadata": {},
   "outputs": [
    {
     "data": {
      "text/plain": [
       "0.9073242187499999"
      ]
     },
     "execution_count": 49,
     "metadata": {},
     "output_type": "execute_result"
    }
   ],
   "source": [
    "GetDoubleHat(mu,sigma,n,b,s)"
   ]
  },
  {
   "cell_type": "markdown",
   "id": "e4c7ee40",
   "metadata": {},
   "source": [
    "# Sampling"
   ]
  },
  {
   "cell_type": "code",
   "execution_count": 50,
   "id": "67641245",
   "metadata": {},
   "outputs": [],
   "source": [
    "def GetqmObs(mu,sigma,n,b,s):\n",
    "\n",
    "    doublehat = GetDoubleHat(mu,sigma,n,b,s)\n",
    "    hat = GetHat(n,b,s,sigma)\n",
    "    #print(doublehat)\n",
    "    #print(hat)\n",
    "    \n",
    "    qm = 0.\n",
    "    \n",
    "    for c in range(N):\n",
    "        \n",
    "        if mu > hat[0]:\n",
    "            qm += -2*np.log( Likelihood(np.array([mu,doublehat]),sigma,n[c],b[c],s[c]) / Likelihood(hat,sigma,n[c],b[c],s[c]) ) \n",
    "        else:\n",
    "            qm += 0.\n",
    "            \n",
    "    return qm"
   ]
  },
  {
   "cell_type": "code",
   "execution_count": 52,
   "id": "0220bb57",
   "metadata": {},
   "outputs": [
    {
     "data": {
      "text/plain": [
       "1.8864254232282665"
      ]
     },
     "execution_count": 52,
     "metadata": {},
     "output_type": "execute_result"
    }
   ],
   "source": [
    "# Observed value of the estimator\n",
    "qmObs = GetqmObs(2.5,sigma=0.1,n=n,b=b,s=s)\n",
    "qmObs"
   ]
  },
  {
   "cell_type": "code",
   "execution_count": null,
   "id": "63fb8a2e",
   "metadata": {},
   "outputs": [],
   "source": []
  },
  {
   "cell_type": "code",
   "execution_count": 86,
   "id": "07c2f6d2",
   "metadata": {},
   "outputs": [],
   "source": [
    "def Getqm(mu,sigma,n,b,s,Null):\n",
    "    \n",
    "    Ntoys = np.zeros(N)\n",
    "    \n",
    "    for c in range(N):\n",
    "        \n",
    "        # Random nuissance\n",
    "        e = norm.rvs( loc=1., scale = sigma)\n",
    "        \n",
    "        if Null:\n",
    "            ntoy = np.random.poisson(e*b[c])\n",
    "        else:\n",
    "            ntoy = np.random.poisson(mu*s[c]+e*b[c])\n",
    "            \n",
    "        Ntoys[c] = ntoy\n",
    "        \n",
    "    return GetqmObs(mu,sigma,n=Ntoys,b=b,s=s)"
   ]
  },
  {
   "cell_type": "code",
   "execution_count": 87,
   "id": "0a788086",
   "metadata": {},
   "outputs": [],
   "source": [
    "#for i in range(30):\n",
    "#    print(Getqm(2.5,sigma=0.1,n=n,b=b,s=s,Null=True))"
   ]
  },
  {
   "cell_type": "code",
   "execution_count": 88,
   "id": "c7d99770",
   "metadata": {},
   "outputs": [],
   "source": [
    "def Sampler(mu,sigma,n,b,s,Ntoys=int(5e2)):\n",
    "    \n",
    "    q0 = np.zeros(Ntoys)\n",
    "    q1 = np.zeros(Ntoys)\n",
    "    \n",
    "    for i in range(Ntoys):\n",
    "        q0[i] = Getqm(mu,sigma=sigma,n=n,b=b,s=s,Null=True)\n",
    "        q1[i] = Getqm(mu,sigma=sigma,n=n,b=b,s=s,Null=False)\n",
    "        \n",
    "    return q0,q1"
   ]
  },
  {
   "cell_type": "code",
   "execution_count": 89,
   "id": "94898836-5aaf-46f1-b8e5-834503563c61",
   "metadata": {},
   "outputs": [],
   "source": [
    "def GetPValue(data,Qobs):\n",
    "\n",
    "    count_above_threshold = np.sum( data >= Qobs )\n",
    "    p_value = count_above_threshold / data.shape[0]\n",
    "\n",
    "    return p_value"
   ]
  },
  {
   "cell_type": "code",
   "execution_count": 92,
   "id": "8b8b7475-d60a-48e9-bec3-27e46095c3fd",
   "metadata": {},
   "outputs": [],
   "source": [
    "def GetCls_for_mu(i,mu,sigma,n,b,s):\n",
    "    \n",
    "    #print(f\"[DEBUG] Iniciando GetCls_for_mu con para mu={mu}: sigma={sigma}\")\n",
    "    qmObs = GetqmObs(mu,sigma=sigma,n=n,b=b,s=s)\n",
    "    q0,q1 = Sampler(mu,sigma=sigma,n=n,b=b,s=s)\n",
    "    \n",
    "    p0 = GetPValue(q0,qmObs)\n",
    "    p1 = GetPValue(q1,qmObs)\n",
    "\n",
    "    if p0 != 0:\n",
    "        Cls = p1/p0\n",
    "    else:\n",
    "        print('Problemas con la hipotesis nula')\n",
    "        Cls = p1\n",
    "\n",
    "    return i,Cls"
   ]
  },
  {
   "cell_type": "code",
   "execution_count": 93,
   "id": "108a0723",
   "metadata": {},
   "outputs": [
    {
     "data": {
      "text/plain": [
       "(0, 0.510752688172043)"
      ]
     },
     "execution_count": 93,
     "metadata": {},
     "output_type": "execute_result"
    }
   ],
   "source": [
    "GetCls_for_mu(0,1,0.1,n,b,s)"
   ]
  },
  {
   "cell_type": "code",
   "execution_count": 94,
   "id": "a47cef64",
   "metadata": {},
   "outputs": [],
   "source": [
    "def GetCls_parallel(mu,sigma,n,b,s,num_processors=None):\n",
    "    \n",
    "    p_value = np.zeros_like(mu)\n",
    "    \n",
    "    with ProcessPoolExecutor(max_workers=num_processors) as executor:\n",
    "        \n",
    "        futures = np.array([])\n",
    "        \n",
    "        # Crear las tareas (futuras) para cada valor de mu\n",
    "        for i in range(mu.shape[0]):\n",
    "            futures = np.append(futures,executor.submit(GetCls_for_mu, i, mu[i], sigma, n, b, s))\n",
    "            \n",
    "        # Recolectar los resultados a medida que se completan\n",
    "        for future in tqdm(as_completed(futures), total=len(futures)):\n",
    "            i, Cls = future.result()\n",
    "            p_value[i] = Cls\n",
    "\n",
    "    return p_value"
   ]
  },
  {
   "cell_type": "code",
   "execution_count": 95,
   "id": "c18ef7fd-a29d-4890-b11a-744f75e41c8c",
   "metadata": {},
   "outputs": [],
   "source": [
    "# Upper limit\n",
    "def GetUpperLimit(mu,Cls,alpha = 0.05):\n",
    "\n",
    "    i = np.where( Cls <= alpha )\n",
    "\n",
    "    if len(i[0]) == 0:\n",
    "        print('--- Cls is never less than alpha --- ')\n",
    "        return 0.\n",
    "    else:\n",
    "        i = i[0][0]\n",
    "\n",
    "    # Saving the indez where pvalues is less than the critical value\n",
    "\n",
    "    x0 = mu[i-1]\n",
    "    x1 = mu[i]\n",
    "    fx0 = Cls[i-1]\n",
    "    fx1 = Cls[i]\n",
    "\n",
    "    # Compute the slope\n",
    "    m = (fx1-fx0)/(x1-x0)\n",
    "\n",
    "    if m == 0:\n",
    "        print('--- Problem with the scan ---')\n",
    "        return 0.\n",
    "\n",
    "    # 1D Polynomial interpolation\n",
    "    mup = (alpha - fx0)/m + x0\n",
    "\n",
    "    return mup"
   ]
  },
  {
   "cell_type": "code",
   "execution_count": 103,
   "id": "d5236911",
   "metadata": {},
   "outputs": [],
   "source": [
    "mu = np.linspace(2.,6.,10)"
   ]
  },
  {
   "cell_type": "code",
   "execution_count": 105,
   "id": "10bbc439",
   "metadata": {},
   "outputs": [
    {
     "name": "stderr",
     "output_type": "stream",
     "text": [
      "100%|███████████████████████████████████████████████████████████████████████| 10/10 [01:33<00:00,  9.34s/it]\n"
     ]
    },
    {
     "data": {
      "text/plain": [
       "2.806013517781568"
      ]
     },
     "execution_count": 105,
     "metadata": {},
     "output_type": "execute_result"
    }
   ],
   "source": [
    "Op_value1 = GetCls_parallel(mu,sigma=0.05,n=n,b=b,s=s,num_processors=8)\n",
    "GetUpperLimit(mu,Op_value1)"
   ]
  },
  {
   "cell_type": "code",
   "execution_count": 106,
   "id": "6ac5deab",
   "metadata": {},
   "outputs": [
    {
     "name": "stderr",
     "output_type": "stream",
     "text": [
      "100%|███████████████████████████████████████████████████████████████████████| 10/10 [01:31<00:00,  9.18s/it]\n"
     ]
    },
    {
     "data": {
      "text/plain": [
       "3.5280058383506656"
      ]
     },
     "execution_count": 106,
     "metadata": {},
     "output_type": "execute_result"
    }
   ],
   "source": [
    "Op_value2 = GetCls_parallel(mu,sigma=0.1,n=n,b=b,s=s,num_processors=8)\n",
    "GetUpperLimit(mu,Op_value2)"
   ]
  },
  {
   "cell_type": "code",
   "execution_count": 107,
   "id": "56851568-fe2d-4158-a536-47dc2197dd96",
   "metadata": {},
   "outputs": [
    {
     "name": "stderr",
     "output_type": "stream",
     "text": [
      "100%|███████████████████████████████████████████████████████████████████████| 10/10 [01:43<00:00, 10.38s/it]\n"
     ]
    },
    {
     "data": {
      "text/plain": [
       "4.57685933912349"
      ]
     },
     "execution_count": 107,
     "metadata": {},
     "output_type": "execute_result"
    }
   ],
   "source": [
    "Op_value3 = GetCls_parallel(mu,sigma=0.2,n=n,b=b,s=s,num_processors=8)\n",
    "GetUpperLimit(mu,Op_value3)"
   ]
  },
  {
   "cell_type": "code",
   "execution_count": 108,
   "id": "f6610545-835c-4c07-9433-ef7b3b4f660a",
   "metadata": {},
   "outputs": [
    {
     "data": {
      "image/png": "[encoded data removed]",
      "text/plain": [
       "<Figure size 600x500 with 1 Axes>"
      ]
     },
     "metadata": {},
     "output_type": "display_data"
    }
   ],
   "source": [
    "fig = plt.figure()\n",
    "ax = fig.add_subplot(1,1,1)\n",
    "ax.plot(mu,Op_value1,color='k',marker='o',label=r'$\\sigma=0.05$')\n",
    "ax.plot(mu,Op_value2,color='r',marker='o',label=r'$\\sigma=0.1$')\n",
    "ax.plot(mu,Op_value3,color='b',marker='o',label=r'$\\sigma=0.2$')\n",
    "ax.axhline(y=0.05,ls='--',color='r')\n",
    "\n",
    "# Label X\n",
    "ax.set_xlabel(r'$\\mu$')\n",
    "ax.xaxis.set_label_coords(0.95,-0.07)\n",
    "\n",
    "# Label Y\n",
    "ax.set_ylabel(r'$Pvalue$')\n",
    "ax.yaxis.set_label_coords(-0.12,0.85)\n",
    "\n",
    "# Ajustar los márgenes automáticamente\n",
    "plt.tight_layout()\n",
    "\n",
    "#Legend\n",
    "ax.legend(loc='upper right',bbox_to_anchor=(1,1),ncol=1,title='')\n",
    "\n",
    "plt.savefig('Pvalue_scan_systematic.pdf')"
   ]
  }
 ],
 "metadata": {
  "kernelspec": {
   "display_name": "Python 3 (ipykernel)",
   "language": "python",
   "name": "python3"
  },
  "language_info": {
   "codemirror_mode": {
    "name": "ipython",
    "version": 3
   },
   "file_extension": ".py",
   "mimetype": "text/x-python",
   "name": "python",
   "nbconvert_exporter": "python",
   "pygments_lexer": "ipython3",
   "version": "3.11.5"
  }
 },
 "nbformat": 4,
 "nbformat_minor": 5
}
